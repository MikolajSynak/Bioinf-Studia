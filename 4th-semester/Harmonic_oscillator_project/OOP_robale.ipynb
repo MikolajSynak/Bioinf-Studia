{
 "cells": [
  {
   "cell_type": "markdown",
   "id": "88a798a1",
   "metadata": {},
   "source": [
    "## OOP 2\n",
    "###### 13.03.2023"
   ]
  },
  {
   "cell_type": "code",
   "execution_count": 55,
   "id": "7b2564cc",
   "metadata": {},
   "outputs": [],
   "source": [
    "class Robal:\n",
    "    test = \"nie wiem o co z tym chodzi ale nic, dziala printuje slicznie ulala\"\n",
    "    def __init__(self):\n",
    "        self.robcred = 0\n",
    "    \n",
    "    def add(self, name, size, sex, role, pesel, robcred):\n",
    "        self.name = name\n",
    "        self.size = size\n",
    "        self.sex = sex\n",
    "        self.role = role\n",
    "        self.pesel = pesel\n",
    "        self.robcred = robcred\n",
    "        print(f'Nowy robal, {name}, zawitał do naszej cywilizacji!')\n",
    "        print('Nie wiadomo po co.')\n",
    "        print(f'I do tego ma robote jako {role}? Od dzisiaj ma nazwisko {role[:-1]}ski. Jeśli nie pasuje, prosimy zgłośić się do urzędu.')\n",
    "        print('(zartowalem nie zasłużył na nazwisko. Teraz pora na kare bo przesadzil chwała dziekanowi chwała)') \n",
    "        print('\\nexecute Robal.delete_surname')\n",
    "        print('Surname deleted succesfully. Social credits down.')\n",
    "        robcred = robcred - len(role)\n",
    "        print('New social credit balance is {}'.format(robcred))\n",
    "        \n",
    "    def kill_robal(self, method, reason):\n",
    "        print(f'Niestety robal {self.name} został usunięty ze społeczeństwa.\\nMetoda egzekucji to {method}, a powód egzekucji brzmi: \"{reason}\".')\n",
    "        self.pogrzeb()\n",
    "        del self\n",
    "        \n",
    "    def mod_robcred(self, qty):\n",
    "        print('Zaszła modyfikacja robcredu. Powód: 处决极其血腥和残忍')\n",
    "        if qty <= 0:\n",
    "            print(\"Ale chuj przeskrobał, zmieniam balans o {}\".format(qty))\n",
    "        else:\n",
    "            print(\"Dobrze. Chwała dziekanowi.\")\n",
    "        self.robcred += qty\n",
    "        if self.robcred <= 0:\n",
    "            self.kill_robal(\"Przyczyny naturalne\", \"UnknownError: Social credits drop处决极其血腥和残 0 (处决 {})\".format(self.robcred))\n",
    "            print('处决极其血腥和残处决极其血腥和残忍')\n",
    "    def pogrzeb(self):\n",
    "        cmentarz = [\"Wieczny pokój następującym robalom: \"]\n",
    "        cmentarz.append(self.name)\n",
    "        print(cmentarz)\n",
    "\n",
    "robal1 = Robal()"
   ]
  },
  {
   "cell_type": "code",
   "execution_count": 56,
   "id": "5fd72955",
   "metadata": {},
   "outputs": [
    {
     "data": {
      "text/plain": [
       "'nie wiem o co z tym chodzi ale nic, dziala printuje slicznie ulala'"
      ]
     },
     "execution_count": 56,
     "metadata": {},
     "output_type": "execute_result"
    }
   ],
   "source": [
    "Robal.test"
   ]
  },
  {
   "cell_type": "code",
   "execution_count": 57,
   "id": "8fb0906c",
   "metadata": {},
   "outputs": [
    {
     "name": "stdout",
     "output_type": "stream",
     "text": [
      "Nowy robal, Żelisław, zawitał do naszej cywilizacji!\n",
      "Nie wiadomo po co.\n",
      "I do tego ma robote jako Piekarz? Od dzisiaj ma nazwisko Piekarski. Jeśli nie pasuje, prosimy zgłośić się do urzędu.\n",
      "(zartowalem nie zasłużył na nazwisko. Teraz pora na kare bo przesadzil chwała dziekanowi chwała)\n",
      "\n",
      "execute Robal.delete_surname\n",
      "Surname deleted succesfully. Social credits down.\n",
      "New social credit balance is 8\n"
     ]
    }
   ],
   "source": [
    "Robal.add(robal1, \"Żelisław\", \"3cm\", \"tak\", \"Piekarz\", \"0987654\", 15)"
   ]
  },
  {
   "cell_type": "code",
   "execution_count": 58,
   "id": "b5114215",
   "metadata": {},
   "outputs": [
    {
     "name": "stdout",
     "output_type": "stream",
     "text": [
      "Zaszła modyfikacja robcredu. Powód: 处决极其血腥和残忍\n",
      "Dobrze. Chwała dziekanowi.\n"
     ]
    },
    {
     "data": {
      "text/plain": [
       "65"
      ]
     },
     "execution_count": 58,
     "metadata": {},
     "output_type": "execute_result"
    }
   ],
   "source": [
    "robal1.mod_robcred(50)\n",
    "robal1.robcred"
   ]
  },
  {
   "cell_type": "code",
   "execution_count": 59,
   "id": "726d58f2",
   "metadata": {},
   "outputs": [
    {
     "name": "stdout",
     "output_type": "stream",
     "text": [
      "Zaszła modyfikacja robcredu. Powód: 处决极其血腥和残忍\n",
      "Ale chuj przeskrobał, zmieniam balans o -100\n",
      "Niestety robal Żelisław został usunięty ze społeczeństwa.\n",
      "Metoda egzekucji to Przyczyny naturalne, a powód egzekucji brzmi: \"UnknownError: Social credits drop处决极其血腥和残 0 (处决 -35)\".\n",
      "['Wieczny pokój następującym robalom: ', 'Żelisław']\n",
      "处决极其血腥和残处决极其血腥和残忍\n"
     ]
    },
    {
     "data": {
      "text/plain": [
       "-35"
      ]
     },
     "execution_count": 59,
     "metadata": {},
     "output_type": "execute_result"
    }
   ],
   "source": [
    "robal1.mod_robcred(-100)\n",
    "robal1.robcred"
   ]
  },
  {
   "cell_type": "code",
   "execution_count": 49,
   "id": "bc5b04ea",
   "metadata": {},
   "outputs": [
    {
     "name": "stdout",
     "output_type": "stream",
     "text": [
      "Niestety robal Żelisław został usunięty ze społeczeństwa.\n",
      "Metoda egzekucji to Backstab, a powód egzekucji brzmi: \"wkurwil mnie\".\n",
      "[<__main__.Robal object at 0x000002D87C8C94F0>]\n"
     ]
    }
   ],
   "source": [
    "robal1.kill_robal(\"Backstab\", \"wkurwil mnie\")"
   ]
  },
  {
   "cell_type": "code",
   "execution_count": 36,
   "id": "f15ed736",
   "metadata": {},
   "outputs": [
    {
     "data": {
      "text/plain": [
       "'Żelisław'"
      ]
     },
     "execution_count": 36,
     "metadata": {},
     "output_type": "execute_result"
    }
   ],
   "source": [
    "robal1.name"
   ]
  },
  {
   "cell_type": "code",
   "execution_count": null,
   "id": "0e20461d",
   "metadata": {},
   "outputs": [],
   "source": []
  }
 ],
 "metadata": {
  "kernelspec": {
   "display_name": "Python 3 (ipykernel)",
   "language": "python",
   "name": "python3"
  },
  "language_info": {
   "codemirror_mode": {
    "name": "ipython",
    "version": 3
   },
   "file_extension": ".py",
   "mimetype": "text/x-python",
   "name": "python",
   "nbconvert_exporter": "python",
   "pygments_lexer": "ipython3",
   "version": "3.9.13"
  }
 },
 "nbformat": 4,
 "nbformat_minor": 5
}
