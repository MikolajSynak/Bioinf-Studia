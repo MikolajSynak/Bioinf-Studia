{
 "cells": [
  {
   "cell_type": "code",
   "execution_count": 1,
   "id": "5158bd09",
   "metadata": {},
   "outputs": [],
   "source": [
    "#do wykladu 9\n",
    "#zad 1 zestaw 6\n",
    "#test dla sredniej"
   ]
  },
  {
   "cell_type": "code",
   "execution_count": 2,
   "id": "a9a993c8",
   "metadata": {},
   "outputs": [
    {
     "name": "stdout",
     "output_type": "stream",
     "text": [
      "-1.8973665961010275\n",
      "2.2621571627409915\n",
      "3.5767845297628607\n",
      "0.09026733160785506\n",
      "0.09026733160785505\n",
      "0.09026733160785506\n"
     ]
    }
   ],
   "source": [
    "alpha=0.05\n",
    "srednia=27\n",
    "s=5\n",
    "n=10\n",
    "mi0=30\n",
    "from math import sqrt\n",
    "import scipy.stats as stats\n",
    "#wartosc testowa t\n",
    "t=(srednia-mi0)/s*sqrt(n)\n",
    "print(t)\n",
    "#liczba stopni swobody\n",
    "df=n-1\n",
    "#wartosc krytyczna\n",
    "wk=stats.t.ppf(1-alpha/2,df)\n",
    "print(wk)\n",
    "#przedzial ufnosci dla poziomu 1-alfa\n",
    "delta=wk*s/sqrt(n)\n",
    "print(delta)\n",
    "(srednia-delta,srednia+delta)\n",
    "#wartosc p(prawdo statystyczne)(z dystrybuanty niby)\n",
    "p=2*stats.t.cdf(-abs(t),df)\n",
    "print(p)\n",
    "p1=2*(1-stats.t.cdf(abs(t),df))\n",
    "print(p1)\n",
    "p2=2*stats.t.sf(abs(t),df)\n",
    "print(p2)\n",
    "#nie ma podstaw do odrzucenia hipotezy zerowej"
   ]
  },
  {
   "cell_type": "code",
   "execution_count": 3,
   "id": "98c10fdc",
   "metadata": {},
   "outputs": [],
   "source": [
    "#zadanie 2"
   ]
  },
  {
   "cell_type": "code",
   "execution_count": 4,
   "id": "d758f92a",
   "metadata": {},
   "outputs": [
    {
     "name": "stdout",
     "output_type": "stream",
     "text": [
      "157.58333333333334\n",
      "24.39991927458082\n",
      "-1.0529578680083436\n",
      "1.7958848187036691\n",
      "0.15747042351971877\n"
     ]
    }
   ],
   "source": [
    "import scipy.stats as stats\n",
    "from math import sqrt\n",
    "import statistics as st\n",
    "x=[183, 152, 178, 157, 194, 163, 144, 114, 178, 152, 118, 158]\n",
    "srednia=st.mean(x)\n",
    "print(srednia)\n",
    "s=st.stdev(x)\n",
    "print(s)\n",
    "alpha=0.05\n",
    "n=12\n",
    "#n=len(x)\n",
    "mi0=165\n",
    "df=n-1\n",
    "#wartosc testowa t\n",
    "t=(srednia-mi0)/s*sqrt(n)\n",
    "print(t)\n",
    "#wartosc krytyczna\n",
    "wk=stats.t.ppf(1-alpha,df)\n",
    "print(wk)\n",
    "#wartosc p\n",
    "p=stats.t.cdf(t,df)\n",
    "print(p)"
   ]
  },
  {
   "cell_type": "code",
   "execution_count": 5,
   "id": "4a5196a7",
   "metadata": {},
   "outputs": [
    {
     "data": {
      "text/plain": [
       "Ttest_1sampResult(statistic=-1.0529578680083438, pvalue=0.31494084703943753)"
      ]
     },
     "execution_count": 5,
     "metadata": {},
     "output_type": "execute_result"
    }
   ],
   "source": [
    "stats.ttest_1samp(x,popmean=165)\n",
    "#test t-studenta 1 populacja samp-proba"
   ]
  },
  {
   "cell_type": "code",
   "execution_count": 6,
   "id": "69a75fc8",
   "metadata": {},
   "outputs": [
    {
     "name": "stdout",
     "output_type": "stream",
     "text": [
      "    Wiek\n",
      "0   15.5\n",
      "1    2.0\n",
      "2   45.1\n",
      "3    1.7\n",
      "4    0.8\n",
      "5    1.1\n",
      "6   18.2\n",
      "7    9.7\n",
      "8   28.1\n",
      "9   18.2\n",
      "10  27.6\n",
      "11  45.0\n",
      "12   1.0\n",
      "13  66.4\n",
      "14   2.0\n",
      "15  67.4\n",
      "16   2.5\n",
      "17  61.7\n",
      "18  16.2\n",
      "19  31.7\n",
      "20   6.9\n",
      "21  13.5\n",
      "22   1.9\n",
      "23  31.2\n",
      "24   9.0\n",
      "25   2.6\n",
      "26  29.7\n",
      "27  13.5\n",
      "28   2.6\n",
      "29  14.4\n",
      "30  20.7\n",
      "31  30.9\n",
      "32  36.6\n",
      "33   1.1\n",
      "34  23.6\n",
      "35   0.9\n",
      "36   7.6\n",
      "37  23.5\n",
      "38   6.3\n",
      "39  40.2\n",
      "40  23.7\n",
      "41   4.8\n",
      "42  33.2\n",
      "43  27.1\n",
      "44  36.7\n",
      "45   3.2\n",
      "46  38.0\n",
      "47   3.5\n",
      "48  21.8\n",
      "49   2.4\n"
     ]
    }
   ],
   "source": [
    "import pandas as pd\n",
    "dane=pd.read_excel(r'C:\\Users\\alukasik\\statystyka\\Zgony.xlsx')\n",
    "print(dane)"
   ]
  },
  {
   "cell_type": "code",
   "execution_count": 7,
   "id": "0b0c76e8",
   "metadata": {},
   "outputs": [
    {
     "name": "stdout",
     "output_type": "stream",
     "text": [
      "19.46\n"
     ]
    }
   ],
   "source": [
    "srednia=dane['Wiek'].mean()\n",
    "print(srednia)"
   ]
  },
  {
   "cell_type": "code",
   "execution_count": 8,
   "id": "9fa19452",
   "metadata": {},
   "outputs": [
    {
     "name": "stdout",
     "output_type": "stream",
     "text": [
      "17.817109410763074\n",
      "50\n"
     ]
    }
   ],
   "source": [
    "s=dane['Wiek'].std()\n",
    "print(s)\n",
    "n=dane['Wiek'].count()\n",
    "print(n)\n",
    "mi0=30"
   ]
  },
  {
   "cell_type": "code",
   "execution_count": 9,
   "id": "4200e3e1",
   "metadata": {},
   "outputs": [
    {
     "data": {
      "image/png": "[encoded data removed]",
      "text/plain": [
       "<Figure size 640x480 with 1 Axes>"
      ]
     },
     "metadata": {},
     "output_type": "display_data"
    }
   ],
   "source": [
    "import matplotlib.pyplot as plt\n",
    "dane.hist('Wiek')\n",
    "plt.show()"
   ]
  },
  {
   "cell_type": "code",
   "execution_count": 11,
   "id": "5a9caebd",
   "metadata": {},
   "outputs": [
    {
     "name": "stdout",
     "output_type": "stream",
     "text": [
      "-4.183004830853209\n"
     ]
    }
   ],
   "source": [
    "#wartosc testowa\n",
    "z=(srednia-mi0)/s*sqrt(n)\n",
    "print(z)"
   ]
  },
  {
   "cell_type": "code",
   "execution_count": 15,
   "id": "827a8b7b",
   "metadata": {},
   "outputs": [
    {
     "name": "stdout",
     "output_type": "stream",
     "text": [
      "1.4384063824664864e-05\n"
     ]
    }
   ],
   "source": [
    "#wartosc p\n",
    "\n",
    "p=stats.norm.cdf(z)\n",
    "print(p)"
   ]
  },
  {
   "cell_type": "code",
   "execution_count": 16,
   "id": "93cae6c5",
   "metadata": {},
   "outputs": [
    {
     "name": "stdout",
     "output_type": "stream",
     "text": [
      "1.6448536269514722\n"
     ]
    }
   ],
   "source": [
    "#wartosc krytyczna\n",
    "#standardowy rozklad normalny wiec srednia 0 i odchylenie 1\n",
    "alpha=0.05\n",
    "wk=stats.norm.ppf(1-alpha)\n",
    "print(wk)"
   ]
  },
  {
   "cell_type": "code",
   "execution_count": 17,
   "id": "746054a2",
   "metadata": {},
   "outputs": [
    {
     "name": "stdout",
     "output_type": "stream",
     "text": [
      "0.0425531914893617\n",
      "-0.7027382054807677\n"
     ]
    }
   ],
   "source": [
    "#zad 5\n",
    "from math import sqrt\n",
    "r=18\n",
    "alpha=0.05\n",
    "n=423\n",
    "phat=18/423\n",
    "print(phat)\n",
    "p0=0.05\n",
    "#wartosc testowa z\n",
    "z=(phat-p0)/sqrt(p0*(1-p0)/n)\n",
    "print(z)"
   ]
  },
  {
   "cell_type": "code",
   "execution_count": 19,
   "id": "e6f96551",
   "metadata": {},
   "outputs": [
    {
     "name": "stdout",
     "output_type": "stream",
     "text": [
      "1.6448536269514722\n"
     ]
    }
   ],
   "source": [
    "#wartosc krytyczna wk\n",
    "wk=stats.norm.ppf(1-alpha)\n",
    "print(wk)"
   ]
  },
  {
   "cell_type": "code",
   "execution_count": null,
   "id": "0b3a83c3",
   "metadata": {},
   "outputs": [],
   "source": []
  }
 ],
 "metadata": {
  "kernelspec": {
   "display_name": "Python 3 (ipykernel)",
   "language": "python",
   "name": "python3"
  },
  "language_info": {
   "codemirror_mode": {
    "name": "ipython",
    "version": 3
   },
   "file_extension": ".py",
   "mimetype": "text/x-python",
   "name": "python",
   "nbconvert_exporter": "python",
   "pygments_lexer": "ipython3",
   "version": "3.9.13"
  }
 },
 "nbformat": 4,
 "nbformat_minor": 5
}
