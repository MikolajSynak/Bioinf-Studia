{
 "cells": [
  {
   "cell_type": "code",
   "execution_count": 2,
   "id": "0efdfd05",
   "metadata": {},
   "outputs": [],
   "source": [
    "import pandas as pd\n",
    "import statistics as st\n",
    "import seaborn as sns\n",
    "import math"
   ]
  },
  {
   "cell_type": "markdown",
   "id": "c86f589a",
   "metadata": {},
   "source": [
    "# zad 1, zest 4"
   ]
  },
  {
   "cell_type": "code",
   "execution_count": 3,
   "id": "a358c533",
   "metadata": {},
   "outputs": [
    {
     "name": "stdout",
     "output_type": "stream",
     "text": [
      "5.0\n",
      "5\n"
     ]
    }
   ],
   "source": [
    "# a)\n",
    "x1 = [3, 5, 2, 6, 5, 9, 5, 2, 8, 6]\n",
    "print(st.median(x1))\n",
    "print(st.mode(x1))"
   ]
  },
  {
   "cell_type": "code",
   "execution_count": 4,
   "id": "74b97d90",
   "metadata": {},
   "outputs": [
    {
     "name": "stdout",
     "output_type": "stream",
     "text": [
      "49.5\n",
      "mody brak\n"
     ]
    }
   ],
   "source": [
    "# b)\n",
    "x2 = [51.6, 48.7, 50.3, 49.5, 48.9]\n",
    "print(st.median(x2))\n",
    "print(\"mody brak\")"
   ]
  },
  {
   "cell_type": "markdown",
   "id": "aaadebf4",
   "metadata": {},
   "source": [
    "# zad 2, zest 4"
   ]
  },
  {
   "cell_type": "code",
   "execution_count": 5,
   "id": "5a6db4f2",
   "metadata": {},
   "outputs": [
    {
     "data": {
      "text/plain": [
       "2.330951164939612"
      ]
     },
     "execution_count": 5,
     "metadata": {},
     "output_type": "execute_result"
    }
   ],
   "source": [
    "x3 = [3, 5, 2, 6, 5, 9, 5, 2, 8, 6]\n",
    "st.stdev(x3)"
   ]
  },
  {
   "cell_type": "markdown",
   "id": "389bfe08",
   "metadata": {},
   "source": [
    "# zad 3, zest 4"
   ]
  },
  {
   "cell_type": "code",
   "execution_count": 10,
   "id": "e77a5235",
   "metadata": {},
   "outputs": [
    {
     "name": "stdout",
     "output_type": "stream",
     "text": [
      "15.5\n",
      "13.0\n",
      "20.75\n",
      "\n",
      "11\n",
      "8.0\n",
      "16.0\n"
     ]
    }
   ],
   "source": [
    "import numpy as np\n",
    "\n",
    "a = [13, 13, 17, 7, 22, 22, 26, 17, 13, 14]\n",
    "b = [16, 10, 16, 7, 17, 8, 6, 11, 21]\n",
    "\n",
    "print(st.median(a))\n",
    "print(np.quantile(a, 0.25))\n",
    "print(np.quantile(a, 0.75))\n",
    "print('')\n",
    "print(st.median(b))\n",
    "print(np.quantile(b, 0.25))\n",
    "print(np.quantile(b, 0.75))\n"
   ]
  },
  {
   "cell_type": "markdown",
   "id": "447ed71e",
   "metadata": {},
   "source": [
    "# zad 4"
   ]
  },
  {
   "cell_type": "code",
   "execution_count": 62,
   "id": "485427f1",
   "metadata": {},
   "outputs": [
    {
     "name": "stdout",
     "output_type": "stream",
     "text": [
      "2.5\n",
      "1.25 4.5\n",
      "koko 3.25\n",
      "5\n",
      "1.625\n",
      "0.65\n"
     ]
    }
   ],
   "source": [
    "x = [1, 1, 2, 3, 5, 6]\n",
    "\n",
    "median = st.median(x)\n",
    "print(median)\n",
    "Q1 = (np.percentile(x, 25))\n",
    "Q3 = (np.percentile(x, 75))\n",
    "print(Q1, Q3)\n",
    "Rozst_kwart = Q3 - Q1\n",
    "print(\"koko\", Rozst_kwart)\n",
    "max1 = np.max(x)\n",
    "min1 = np.min(x)\n",
    "Rozstęp = max1 - min1\n",
    "print(Rozstęp)\n",
    "Q = Rozst_kwart/2\n",
    "print(Q)\n",
    "Me = st.median(x)\n",
    "Vme = Q / Me\n",
    "print(Vme)"
   ]
  },
  {
   "cell_type": "markdown",
   "id": "40ed0415",
   "metadata": {},
   "source": [
    "# zad 5"
   ]
  },
  {
   "cell_type": "code",
   "execution_count": null,
   "id": "6315646b",
   "metadata": {},
   "outputs": [],
   "source": []
  }
 ],
 "metadata": {
  "kernelspec": {
   "display_name": "Python 3 (ipykernel)",
   "language": "python",
   "name": "python3"
  },
  "language_info": {
   "codemirror_mode": {
    "name": "ipython",
    "version": 3
   },
   "file_extension": ".py",
   "mimetype": "text/x-python",
   "name": "python",
   "nbconvert_exporter": "python",
   "pygments_lexer": "ipython3",
   "version": "3.9.13"
  }
 },
 "nbformat": 4,
 "nbformat_minor": 5
}
