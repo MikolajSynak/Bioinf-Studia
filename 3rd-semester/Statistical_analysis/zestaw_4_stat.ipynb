{
 "cells": [
  {
   "cell_type": "markdown",
   "id": "4e097dc4",
   "metadata": {},
   "source": [
    "# Zestaw 4"
   ]
  },
  {
   "cell_type": "markdown",
   "id": "f00a04b5",
   "metadata": {},
   "source": [
    "### zad 9"
   ]
  },
  {
   "cell_type": "code",
   "execution_count": 22,
   "id": "1d93917c",
   "metadata": {},
   "outputs": [
    {
     "name": "stdout",
     "output_type": "stream",
     "text": [
      "Q1 jest równy 11.813775624509796\n",
      "Q3 jest równy 15.186224375490204\n",
      "P90 jest równy 16.7038789138615\n"
     ]
    }
   ],
   "source": [
    "import scipy.stats as stats\n",
    "\n",
    "\n",
    "Q1 = stats.norm.ppf(0.25, 13.5, 2.5)\n",
    "Q3 = stats.norm.ppf(0.75, loc=13.5, scale=2.5)\n",
    "P90 = stats.norm.ppf(0.9, 13.5, 2.5)\n",
    "\n",
    "\n",
    "print(\"Q1 jest równy {}\".format(Q1))\n",
    "print(\"Q3 jest równy {}\".format(Q3))\n",
    "print(\"P90 jest równy {}\".format(P90))"
   ]
  },
  {
   "cell_type": "markdown",
   "id": "aa3f8a61",
   "metadata": {},
   "source": [
    "### zad 10"
   ]
  },
  {
   "cell_type": "code",
   "execution_count": 30,
   "id": "742c232b",
   "metadata": {},
   "outputs": [
    {
     "name": "stdout",
     "output_type": "stream",
     "text": [
      "Górny 1% mieści się w zakresie od 133.03413981137993 do nieskończoności\n"
     ]
    }
   ],
   "source": [
    "P99 = stats.norm.ppf(0.99, 100, 14.2)\n",
    "print(\"Górny 1% mieści się w zakresie od {} do nieskończoności\".format(x))"
   ]
  },
  {
   "cell_type": "markdown",
   "id": "510209fe",
   "metadata": {},
   "source": [
    "## zad 11"
   ]
  },
  {
   "cell_type": "code",
   "execution_count": 35,
   "id": "09e727f2",
   "metadata": {},
   "outputs": [
    {
     "data": {
      "text/plain": [
       "88.48347621123713"
      ]
     },
     "execution_count": 35,
     "metadata": {},
     "output_type": "execute_result"
    }
   ],
   "source": [
    "stats.norm.ppf(0.79, 78, 13)"
   ]
  },
  {
   "cell_type": "code",
   "execution_count": null,
   "id": "640f8c42",
   "metadata": {},
   "outputs": [],
   "source": []
  }
 ],
 "metadata": {
  "kernelspec": {
   "display_name": "Python 3 (ipykernel)",
   "language": "python",
   "name": "python3"
  },
  "language_info": {
   "codemirror_mode": {
    "name": "ipython",
    "version": 3
   },
   "file_extension": ".py",
   "mimetype": "text/x-python",
   "name": "python",
   "nbconvert_exporter": "python",
   "pygments_lexer": "ipython3",
   "version": "3.9.13"
  }
 },
 "nbformat": 4,
 "nbformat_minor": 5
}
