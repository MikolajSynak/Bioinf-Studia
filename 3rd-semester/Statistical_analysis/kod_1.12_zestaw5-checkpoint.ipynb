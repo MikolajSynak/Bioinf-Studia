{
 "cells": [
  {
   "cell_type": "markdown",
   "id": "240a3b4a",
   "metadata": {},
   "source": [
    "# Zestaw 5"
   ]
  },
  {
   "cell_type": "code",
   "execution_count": 12,
   "id": "7d46a6f0",
   "metadata": {},
   "outputs": [],
   "source": [
    "import scipy.stats as stats\n",
    "import pandas as pd\n",
    "import seaborn as sns\n",
    "import matplotlib.pyplot as plt\n",
    "import math"
   ]
  },
  {
   "cell_type": "markdown",
   "id": "b970c35c",
   "metadata": {},
   "source": [
    "# zad 1\n",
    "\n",
    "###### Wyznacz zα/2 dla 1 − α = 0.90, 1 − α = 0.95, 1 − α = 0.99."
   ]
  },
  {
   "cell_type": "code",
   "execution_count": 10,
   "id": "6ff47537",
   "metadata": {},
   "outputs": [
    {
     "name": "stdout",
     "output_type": "stream",
     "text": [
      "1.6448536269514722\n"
     ]
    }
   ],
   "source": [
    "alfa = 0.10\n",
    "z = stats.norm.ppf(1-alfa/2, 0, 1)\n",
    "print(z)\n",
    "\n",
    "#im większy poziom ufności, tym większe 'z'."
   ]
  },
  {
   "cell_type": "markdown",
   "id": "c9bd6f13",
   "metadata": {},
   "source": [
    "# zad 2\n",
    "## \n",
    "W losowej próbie 130 zdrowych mężczyzn w wieku między 20 i 25 lat średnia wartość\n",
    "ciśnienia skurczowego wyniosła 125 mm Hg z odchyleniem standardowym 15 mm Hg.\n",
    "\n",
    "(a) Wyznacz 90% przedział ufności dla µ,\n",
    "\n",
    "(b) Wyznacz 95% przedział ufności dla µ,\n",
    "\n",
    "(c) Wyznacz 99% przedział ufności dla µ."
   ]
  },
  {
   "cell_type": "code",
   "execution_count": 22,
   "id": "1a6653f6",
   "metadata": {},
   "outputs": [
    {
     "name": "stdout",
     "output_type": "stream",
     "text": [
      "1.6448536269514722\n",
      "2.163948096156062\n",
      "122.83605190384394 127.16394809615606\n"
     ]
    }
   ],
   "source": [
    "alfa = 0.10\n",
    "z = stats.norm.ppf(1-alfa/2, 0, 1)\n",
    "print(z)\n",
    "średnia = 125\n",
    "s = 15\n",
    "n = 130\n",
    "delta = z*s/math.sqrt(n)\n",
    "print(delta)\n",
    "print(średnia-delta,średnia+delta)\n",
    "#wraz ze wzrostem poziomu ufości rośnie nam przedział\n",
    "#podpunkty a, b, c napierdalasz po prostu zmieniając alfę."
   ]
  },
  {
   "cell_type": "markdown",
   "id": "7abd910f",
   "metadata": {},
   "source": [
    "# zad 3\n",
    "# \n",
    "W pewnych badaniach przeprowadzonych na 15 zdrowych kobietach wartość średnia\n",
    "ciśnienia skurczowego wyniosła 119 z odchyleniem standardowym 2.1.\n",
    "\n",
    "(a) Wyznacz odchylenie standardowe średniej,\n",
    "\n",
    "(b) Wyznacz 99% przedział ufności dla średniej,\n",
    "\n",
    "(c) Podaj założenia pozwalające wyznaczyć podany przedział ufności."
   ]
  },
  {
   "cell_type": "code",
   "execution_count": 26,
   "id": "8cb268c1",
   "metadata": {},
   "outputs": [],
   "source": [
    "# powiedziała że będzie pytac na sprawdzianie o to jak liczyc przedzial ufnosci dla malych prób \n",
    "# (na zdjeciu masz)\n",
    "# 'SEM' = 'Standard Error of the Mean'\n",
    "# estymator odchylenia standardowego to twoje odchylenie standardowe średniej\n",
    "#OGARNIJ PRZEPIS DLA MAŁYCH PRÓB (ZAD 3), mowila ze bedzie na sprawdzianie"
   ]
  },
  {
   "cell_type": "code",
   "execution_count": 27,
   "id": "fd775853",
   "metadata": {},
   "outputs": [
    {
     "name": "stdout",
     "output_type": "stream",
     "text": [
      "0.5422176684690384\n"
     ]
    }
   ],
   "source": [
    "# ppunkt a)\n",
    "średnia = 119\n",
    "s = 2.1\n",
    "n = 15\n",
    "SEM = s/math.sqrt(n)\n",
    "print(SEM)"
   ]
  },
  {
   "cell_type": "code",
   "execution_count": 39,
   "id": "72a7975c",
   "metadata": {},
   "outputs": [
    {
     "name": "stdout",
     "output_type": "stream",
     "text": [
      "2.97684273411266\n",
      "przedział:(117.38590327331043, 120.61409672668957)\n"
     ]
    }
   ],
   "source": [
    "#ppunkt b i c:\n",
    "# df = degrees of freedom\n",
    "df = n - 1\n",
    "alfa = 0.01\n",
    "t = stats.t.ppf(1-alfa/2, df)\n",
    "print(t)\n",
    "delta = t*s/math.sqrt(n)\n",
    "print(f'przedział:{średnia - delta, średnia + delta}')"
   ]
  },
  {
   "cell_type": "markdown",
   "id": "c13de682",
   "metadata": {},
   "source": [
    "# zad 4\n",
    "# \n",
    "Badaniu poddano 136 pacjentów skarżących się na omdlenia. W badanej grupie, 75 pacjentów podało, że cierpi na choroby układu sercowo-naczyniowego. Wyznacz przedział\n",
    "ufności dla procenta pacjentów cierpiących na choroby układu sercowo-naczyniowego w\n",
    "populacji osób doświadczających omdleń."
   ]
  },
  {
   "cell_type": "code",
   "execution_count": 45,
   "id": "dce5706b",
   "metadata": {},
   "outputs": [
    {
     "name": "stdout",
     "output_type": "stream",
     "text": [
      "z = 1.959963984540054\n",
      "p z daszkiem wynosi 0.5514705882352942\n"
     ]
    },
    {
     "data": {
      "text/plain": [
       "(0.4678842542985552, 0.6350569221720331)"
      ]
     },
     "execution_count": 45,
     "metadata": {},
     "output_type": "execute_result"
    }
   ],
   "source": [
    "alfa = 0.05\n",
    "z = stats.norm.ppf(1-alfa/2, 0, 1)\n",
    "print(f'z = {z}')\n",
    "r = 75\n",
    "n = 136\n",
    "phat = r/n\n",
    "print(f'p z daszkiem wynosi {phat}')\n",
    "\n",
    "delta = z*math.sqrt(phat*(1-phat)/n)\n",
    "(phat-delta, phat+delta)"
   ]
  },
  {
   "cell_type": "markdown",
   "id": "44b0e245",
   "metadata": {},
   "source": [
    "## zad 5\n",
    "## \n",
    "Założmy, że chcemy oszacować iloraz inteligencji studentów medycyny. Ilu studentów\n",
    "musimy wybrać z populacji, aby otrzymać oszacowanie dla poziomu ufności 95% i dokładności d = 2 punktów? Chcemy, aby przedział ufności miał szerokość 4 punktów. W\n",
    "badaniach pilotażowych otrzymano oszacowanie odchylenia standardowego, s = 15."
   ]
  },
  {
   "cell_type": "code",
   "execution_count": 54,
   "id": "8e18d7a4",
   "metadata": {},
   "outputs": [
    {
     "name": "stdout",
     "output_type": "stream",
     "text": [
      "216.08205866404455\n"
     ]
    }
   ],
   "source": [
    "s = 15\n",
    "d = 2\n",
    "alfa = 0.05\n",
    "z = stats.norm.ppf(1-alfa/2, 0, 1)\n",
    "#teraz przekształcasz wzór na 'd' (tj. d = (z.alfa/2 * s)/sqrt(n)). Na tablicy masz.\n",
    "n = ((z * s)/d)**2\n",
    "print(n)"
   ]
  },
  {
   "cell_type": "markdown",
   "id": "0f3d9b9b",
   "metadata": {},
   "source": [
    "## zad 6\n",
    "## \n",
    " Chcemy wyznaczyć przedział ufności dla frakcji zarażonych wirusem kłębków ziemniaczanych na pewnej plantacji. Ile krzaków ziemniaków należy losowo wybrać, aby maksymalny błąd szacunku nie przekroczył 0.05? Nie znamy rzędu wielkości dla szacowanej\n",
    "frakcji p. \n",
    "\n",
    "Przedział ufności chcemy wyznaczyć na poziomie ufności 0.95."
   ]
  },
  {
   "cell_type": "code",
   "execution_count": 57,
   "id": "778eb150",
   "metadata": {},
   "outputs": [
    {
     "name": "stdout",
     "output_type": "stream",
     "text": [
      "384.14588206941244\n"
     ]
    }
   ],
   "source": [
    "alfa = 0.05\n",
    "p = 1/2\n",
    "#p = 1/2 bo tak sie daje jak nie znasz wartsci p, szacowana frakcja populacji = p. \n",
    "# Anita mówi że tak najlepiej jak nie znasz 'p'.\n",
    "d = 0.05\n",
    "# d = połowa przedział\n",
    "z = stats.norm.ppf(1-alfa/2, 0, 1)\n",
    "n = ((z**2) * p * (1-p))/d**2\n",
    "print(n)"
   ]
  },
  {
   "cell_type": "code",
   "execution_count": null,
   "id": "663221cf",
   "metadata": {},
   "outputs": [],
   "source": []
  }
 ],
 "metadata": {
  "kernelspec": {
   "display_name": "Python 3 (ipykernel)",
   "language": "python",
   "name": "python3"
  },
  "language_info": {
   "codemirror_mode": {
    "name": "ipython",
    "version": 3
   },
   "file_extension": ".py",
   "mimetype": "text/x-python",
   "name": "python",
   "nbconvert_exporter": "python",
   "pygments_lexer": "ipython3",
   "version": "3.9.13"
  }
 },
 "nbformat": 4,
 "nbformat_minor": 5
}
