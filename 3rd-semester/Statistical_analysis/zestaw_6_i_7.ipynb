{
 "cells": [
  {
   "cell_type": "markdown",
   "id": "d28bbed8",
   "metadata": {},
   "source": [
    "# ZESTAW 6"
   ]
  },
  {
   "cell_type": "markdown",
   "id": "bb623b6a",
   "metadata": {},
   "source": [
    "# zadanie 1"
   ]
  },
  {
   "cell_type": "code",
   "execution_count": 1,
   "id": "65bef4ba",
   "metadata": {},
   "outputs": [
    {
     "name": "stdout",
     "output_type": "stream",
     "text": [
      "-1.8973665961010275\n",
      "2.2621571627409915\n",
      "( 23.42321547023714 , 30.57678452976286 )\n",
      "0.09026733160785506\n",
      "0.09026733160785505\n",
      "0.09026733160785506\n"
     ]
    }
   ],
   "source": [
    "from math import sqrt\n",
    "import scipy.stats as stats\n",
    "#ZAŁOŻENIE:proba pochodzi z populacji o rozkladzie normalnym\n",
    "#proba jest mala n=10<30\n",
    "srednia=27#lat,srednia w probie\n",
    "s=5#lat,odchylenie std w probie\n",
    "alpha=0.05#poziom istotnosci\n",
    "n=10\n",
    "srednia0=30#srednia w populacji\n",
    "t=(srednia-srednia0)/s*sqrt(n)#wartosc testowa t\n",
    "print(t)\n",
    "#liczba stopni swobody\n",
    "df=n-1\n",
    "#wartosc krytyczna\n",
    "wk=stats.t.ppf(1-alpha/2,df)\n",
    "print(wk)\n",
    "#wniosek:nie ma podstaw do odrzucenia hipotezy zerowej H0(t nie lezy w obszarze krytycznym)\n",
    "\n",
    "#przedzial ufnosci\n",
    "delta=wk*s/sqrt(n)\n",
    "print(\"(\",(srednia-delta),\",\",(srednia+delta),\")\")\n",
    "#wartosc P(prawdopodobienstwo statystyczne)\n",
    "p=2*stats.t.cdf(-abs(t),df)#liczysz pole na lewo od '-t' i mnozysz razy dwa i masz\n",
    "print(p)\n",
    "p2=2*(1-stats.t.cdf(abs(t),df))#to samo ale liczysz pole na prawo od 't' i mnozysz razy 2\n",
    "print(p2)\n",
    "#mozna na dwa sposoby bo rozklad t-studenta jest symetryczny wzgledem 0\n",
    "p3=2*(stats.t.sf(abs(t),df))#nowa funkcja literalnie daje pole na prawo wiec idealnie to co potrzebujemy\n",
    "print(p3)"
   ]
  },
  {
   "cell_type": "markdown",
   "id": "7e53ff39",
   "metadata": {},
   "source": [
    "# zadanie 2"
   ]
  },
  {
   "cell_type": "code",
   "execution_count": null,
   "id": "6b427bdc",
   "metadata": {},
   "outputs": [],
   "source": [
    "import statistics as st\n",
    "#ZAŁOŻENIE:proba pochodzi z populacji o rozkladzie normalnym\n",
    "#proba jest mala n=12<30\n",
    "#H0-mi0=165 mmHg\n",
    "#HA-mi<165 mmHg\n",
    "#wartosci->183, 152, 178, 157, 194, 163, 144, 114, 178, 152, 118, 158\n",
    "x=[183, 152, 178, 157, 194, 163, 144, 114, 178, 152, 118, 158]\n",
    "mi=st.mean(x)\n",
    "n=len(x)\n",
    "mi0=165\n",
    "alpha=0.05\n",
    "t=(mi-mi0)/s*sqrt(n)\n",
    "print(mi)\n",
    "s=st.stdev(x)\n",
    "print(s)\n",
    "df=n-1\n",
    "print(t)\n",
    "#wartosc krytyczna\n",
    "wk=stats.t.ppf(1-alpha,df)\n",
    "print(wk)\n",
    "#drugi sposob na to samo\n",
    "wk2=stats.t.isf(alpha,df)\n",
    "print(wk2)\n",
    "#t nie wpada w przedzial (-nieskonczonosc,-wk) wiec nie odrzucamy hipotezy zerowej\n",
    "#przedzial jest taki, bo to test lewostronny\n",
    "#liczymy p, jako ze to test lewostronny to po prostu liczysz dystrybuantę\n",
    "p=stats.t.cdf(t,df)\n",
    "print(p)\n",
    "#p>alpha wiec nie odrzucamy h0\n",
    "\n",
    "\n",
    "#jakis szybszy,latwiejszy sposob na wykonanie tego testu\n",
    "stats.ttest_1samp(x,popmean=165)\n",
    "#ttest-rozklad t studenta,1samp-proba z jednej populacji\n",
    "#statistic(jak wyprintujesz) to wartosc t, pvalue to wartosc p ale dla testu dwustronnego,\n",
    "#wiec jak robisz jednostronny to trzeba pvalue/2 podzielic"
   ]
  },
  {
   "cell_type": "markdown",
   "id": "031fd568",
   "metadata": {},
   "source": [
    "# zadanie 3"
   ]
  },
  {
   "cell_type": "code",
   "execution_count": null,
   "id": "a1d44c65",
   "metadata": {},
   "outputs": [],
   "source": [
    "import math as mt\n",
    "from scipy import stats\n",
    "#hipoteza zerowa: mi=mi0\n",
    "#hipoteza alternatywna: mi=!mi0\n",
    "mi=122 #srednia populacji\n",
    "sigma=4 #odchylenie populacji\n",
    "n=25\n",
    "mi0=124.6 # sredniaproby\n",
    "s=5 #odchylenie proby\n",
    "t=(mi0-mi)/s*mt.sqrt(n)\n",
    "print(t)\n",
    "alpha=0.05\n",
    "wk1=stats.t.ppf(1-alpha/2,n-1)\n",
    "wk2=stats.t.ppf(alpha/2,n-1)\n",
    "print(wk1,'\\n',wk2)\n",
    "#obszar krytyczny jest (-∞,-2.06] i [2.06,∞)\n",
    "#t wynosi 2.59, wpada w obszar wiec hipoteze zerowa odrzucamy\n",
    "#odpowiedz jest 'tak'"
   ]
  },
  {
   "cell_type": "markdown",
   "id": "07952d3e",
   "metadata": {},
   "source": [
    "# zadanie 4"
   ]
  },
  {
   "cell_type": "code",
   "execution_count": null,
   "id": "6987f470",
   "metadata": {},
   "outputs": [],
   "source": [
    "import pandas as pd\n",
    "import matplotlib as plt\n",
    "#H0-mi=30lat\n",
    "#HA-mi<30lat\n",
    "#ZALOŻENIE:nie musi być żadnego bo proba jest duza ale spoko jak jest to z populacji o rozkladzie normalnym\n",
    "srednia0=30\n",
    "n=50\n",
    "alpha=0.05\n",
    "data=pd.read_excel('Zgony.xlsx')\n",
    "srednia=data['Wiek'].mean()\n",
    "s=data['Wiek'].std()\n",
    "print(srednia)\n",
    "print(s)\n",
    "n=data['Wiek'].count()\n",
    "print(n)\n",
    "data['Wiek'].hist()\n",
    "#wartosc testowa\n",
    "z=(srednia-srednia0)/s*sqrt(n)\n",
    "print(z)\n",
    "zalpha=stats.norm.ppf(1-alpha)\n",
    "print(zalpha)\n",
    "p=stats.norm.cdf(z)\n",
    "print(p)\n",
    "p2=stats.norm\n",
    "\n",
    "#inna metoda\n",
    "stats.ttest_1samp(data,popmean=30)\n",
    "\n",
    "#odrzucamy hipotezę zerową bo p<alphy\n"
   ]
  },
  {
   "cell_type": "markdown",
   "id": "f771160c",
   "metadata": {},
   "source": [
    "# zadanie 5"
   ]
  },
  {
   "cell_type": "code",
   "execution_count": null,
   "id": "713c2c10",
   "metadata": {},
   "outputs": [],
   "source": [
    "#p-frakcja w probie\n",
    "alpha=0.05\n",
    "n=423\n",
    "r=18\n",
    "p=r/n\n",
    "print(p)\n",
    "#H0 p=0.05   to mamy stad ze moze ktos badal wczesniej i mu wyszlo tyle i patrzymy czy moze spadlo albo cos\n",
    "#HA p<0.05\n",
    "#test jednostronny(lewostronny)\n",
    "#wartosc testowa\n",
    "p0=0.05\n",
    "z=(p-p0)/sqrt(p0*(1-p0)/n)\n",
    "print(z)\n",
    "#wartosc krytyczna\n",
    "zalpha=stats.norm.ppf(1-alpha)\n",
    "print(zalpha)\n",
    "q=stats.norm.cdf(z)#wartosc p\n",
    "print(q)\n",
    "#z sie nie miesci w obszrze (-nieskonczonosc,-zalpha), wiec nie odrzucamy H0\n",
    "#wartosc p jest wieksze niz alpha wiec z tego tez wynika ze nie ma podstaw do odrzucenia hipotezy zerowej"
   ]
  },
  {
   "cell_type": "markdown",
   "id": "df2703c0",
   "metadata": {},
   "source": [
    "# zadanie 6"
   ]
  },
  {
   "cell_type": "code",
   "execution_count": null,
   "id": "133e168d",
   "metadata": {},
   "outputs": [],
   "source": [
    "import scipy.stats as stats\n",
    "#tutaj test wariancji sie robi\n",
    "n=12\n",
    "s2=1.92#wariancja w probie\n",
    "#h0=sigma^2=4 (proba pochodzi z populacji gdzie wariancja jest rowna 4)\n",
    "#hA=sigma^2!=4 (ta wariancja w populacji nie jest rowna 4)\n",
    "sigma0=2\n",
    "#funkcja testowa\n",
    "chi2=(n-1)*s2/sigma0**2\n",
    "print(\"wartosc chi2 to\", chi2)\n",
    "#obszar krytyczny trzeba znalezc\n",
    "#poziom istotnosci\n",
    "alpha=0.05\n",
    "#wartosci krytyczne\n",
    "wk1=stats.chi2.ppf(1-alpha/2, n-1)\n",
    "wk2=stats.chi2.ppf(alpha/2, n-1)\n",
    "print('wartosc krytyczna 1 to ', wk1)\n",
    "print('wartosc krytyczna 2 to ', wk2)\n",
    "#obszar krytyczny ([0, 3.82]i[21.92,+nieskonczonosc]) jest od 0 bo chi2 jest okreslony od 0 a nie od -nieskonczonosci\n",
    "#wartosc chi2(to 5.28) nie znajduje sie w obszarze krytycznym wiec nie ma podstaw aby odrzucic hipoteze zerowa\n",
    "#teraz loiczymy wartosc p(czyli prawdopodobienstwo statystyczne)\n",
    "p=2*min((stats.chi2.cdf(chi2,n-1),1-stats.chi2.cdf(chi2,n-1)))\n",
    "print(p)\n",
    "#teraz sie porownuje p z alpha (alpha=0.05) i wychodzi ze p>alpha wiec nie odrzucamy hipotezy zerowej\n"
   ]
  },
  {
   "cell_type": "markdown",
   "id": "b6cfe870",
   "metadata": {},
   "source": [
    "# zadanie 7"
   ]
  },
  {
   "cell_type": "code",
   "execution_count": null,
   "id": "6b26e8a7",
   "metadata": {},
   "outputs": [],
   "source": [
    "#hipoteza h0-> p=0.10\n",
    "#hipoteza hA-> p>0.10\n",
    "#blad I rodaju-> odrzucenie hiopotezy h0, kiedy nie powinnismy tego robic, bo h0 jest prawdziwa\n",
    "#blad II rodzaju-> przyjecie h0 kiedy w rzeczywistosci powinnismy ja odrzucic"
   ]
  },
  {
   "cell_type": "markdown",
   "id": "dad4d5d7",
   "metadata": {},
   "source": [
    "# ZESTAW 7"
   ]
  },
  {
   "cell_type": "markdown",
   "id": "bd98fbf0",
   "metadata": {},
   "source": [
    "# zadanie 1"
   ]
  },
  {
   "cell_type": "code",
   "execution_count": null,
   "id": "848034e7",
   "metadata": {},
   "outputs": [],
   "source": [
    "import math as mt\n",
    "#srednie\n",
    "sr1=59.01\n",
    "sr2=46.61\n",
    "#odchylenia\n",
    "s1=44.89\n",
    "s2=34.85\n",
    "#liczebnosci\n",
    "n1=53\n",
    "n2=54\n",
    "alpha=0.01\n",
    "#h0->s1=s2(srednia w populacji osob z zakrzepica jest taka sama jak srednia u osob bez zakrzepica)\n",
    "#hA-> s1!=s2 (robimy dwustronny bo pani sie pomylila czy cos idk, potem zrobimy jednostrtonny, tak jak w poleceniu jest)\n",
    "#zalozenia:populacje sa niezalezne, duze pru=oby wiec nie trzeba sprawdzac czy maja rozklad normalny\n",
    "#wartosc testowa\n",
    "w1=s1**2/n1\n",
    "w2=s2**2/n2\n",
    "z=(sr1-sr2)/mt.sqrt(w1+w2)\n",
    "print(z)\n",
    "#wartosc krytyczna\n",
    "wk=stats.norm.ppf(1-alpha/2,0,1)\n",
    "print(wk)\n",
    "#obszar krytyczny jest ([-nieskonczonosc,-2.58]i[2.58,+nieskonczonosc])\n",
    "#wartosc testowa z nie wpada do obszaru krytycznego zatem nie mamy podstaw aby h0 odrzucic(na poziomie istotnosci alpha-0.01)\n",
    "#wartosc p dla testu dwustronnego  p=2*P(Z>=z)\n",
    "p=2*(1-stats.norm.cdf(abs(z),0,1))\n",
    "print(p)\n",
    "#wychodzi ze p>alpha wiec nie ma podstaw zeby h0 odrzucic\n",
    "\n",
    "\n",
    "# zad 1 ale z testem jednostronnym w domu"
   ]
  },
  {
   "cell_type": "markdown",
   "id": "391cb6af",
   "metadata": {},
   "source": [
    "# zadanie 2"
   ]
  },
  {
   "cell_type": "code",
   "execution_count": null,
   "id": "757e81df",
   "metadata": {},
   "outputs": [],
   "source": [
    "#kuracje a i b, populacje sa niezalezne(populacja to tam ci ktorzy sie odchydzaja a i b, proby male\n",
    "#zalozenia: 1)populacje maja rozklady normalne 2)wariancje sa rowne\n",
    "#h0-> mean1=mean2 (mean1=sredni ubytek wagi w probie 1)\n",
    "#hA-> mean!=mean2\n",
    "alpha=0.05\n",
    "#srednie(w kg)\n",
    "mean1=5.4\n",
    "mean2=3.4\n",
    "#liczebnosci\n",
    "n1=16\n",
    "n2=11\n",
    "#odchylenia(w kg)\n",
    "s1=2.4\n",
    "s2=2.8\n",
    "#stopnie swobody\n",
    "df=n1+n2-2\n",
    "#wartosc testowa\n",
    "m=((n1-1)*s1**2+(n2-1)*s2**2)/df*(1/n1+1/n2)\n",
    "t=(mean1-mean2)/mt.sqrt(m)\n",
    "print(t)\n",
    "#wartosc krytyczna\n",
    "wk=stats.t.ppf(1-alpha/2,df)\n",
    "print(wk)\n",
    "#obszar krytyczny ([-nieskonczonosc do -2.06]i[2.06 do +nieskonczonosc])\n",
    "#wartosc t nie wpada do obszaru krytycznego wiec nie mamy podstaw zeby odrzucic h0\n",
    "p=2*(1-stats.t.cdf(abs(t),df))\n",
    "print(p)\n",
    "#wartosc p porownujemy z alpha i znowu jest wieksze niz alpha wiev nie mamy podstaw zeby odrzucic h0\n",
    "\n",
    "stats.ttest_ind_from_stats(mean1,s1,n1,mean2,s2,n2,equal_var=1)\n"
   ]
  },
  {
   "cell_type": "markdown",
   "id": "850f8106",
   "metadata": {},
   "source": [
    "# zadanie 3"
   ]
  },
  {
   "cell_type": "code",
   "execution_count": null,
   "id": "15bcdba7",
   "metadata": {},
   "outputs": [],
   "source": [
    "#zalozenia: 1)proby niezalezne, 2) zalozenie normalnosci rozkladu 3) wariancej sa rozne\n",
    "#h0-> srednie wskazniki sztywnosci aorty w tych populacjach sa rowne\n",
    "#hA-> srednie wskazniki sztywnosci aorty w tych populacjach sa rozne\n",
    "n1=15\n",
    "n2=30\n",
    "sr1=19.16\n",
    "sr2=9.53\n",
    "s1=5.29\n",
    "s2=2.69\n",
    "alpha=0.05\n",
    "stats.ttest_ind_from_stats(sr1,s1,n1,sr2,s2,n2,equal_var=0)\n",
    "#t=6.63,pvalue=3.42*10^-6. p<alpha wiec odrzucamy h0"
   ]
  },
  {
   "cell_type": "markdown",
   "id": "950a1dfb",
   "metadata": {},
   "source": [
    "# zadanie 4"
   ]
  },
  {
   "cell_type": "code",
   "execution_count": null,
   "id": "c0c658f6",
   "metadata": {},
   "outputs": [],
   "source": [
    "import pandas as pd\n",
    "import math as mt\n",
    "import scipy.stats as stats\n",
    "dane=pd.read_excel(r'Refluks.xlsx')\n",
    "#h0-> roznica srednich=0\n",
    "#hA-> roznica srednich!=0\n",
    "#print(dane)\n",
    "s1=dane['Przed'].mean() # srednia przed\n",
    "s2=dane['Po'].mean() #srednia po\n",
    "sroznic=dane['Różnica'].mean() # srednia roznic\n",
    "d1=dane['Przed'].std()\n",
    "d2=dane['Po'].std()\n",
    "droznic=dane['Różnica'].std()\n",
    "df=n-1\n",
    "alpha=0.05\n",
    "n=dane['Różnica'].count()\n",
    "print(s1,d1)\n",
    "print(s2,d2)\n",
    "print(sroznic,droznic)\n",
    "t=sroznic/droznic*mt.sqrt(n)\n",
    "print(t)\n",
    "wk=stats.t.ppf(1-alpha/2,df)\n",
    "print(wk)\n",
    "# przedzial krytyczny jest [-nieskonczonosc,-2.2] i [2.2,+nieskonczonosc] \n",
    "#wartosc t nie wpada do przedzialu krytycznego wiec nie ma postaw do odrzucenia h0\n",
    "\n",
    "#pvalue\n",
    "p=2*(1-stats.t.cdf(abs(t),df))\n",
    "print(p)\n",
    "#p(0.08) jest wieksze niz alpha(0.05) wiec nie ma podstaw na odrzucenie h0\n",
    "\n",
    "#trzecia metoda\n",
    "stats.ttest_1samp(dane['Różnica'],popmean=0)\n",
    "\n",
    "#czwarta metoda\n",
    "print(stats.ttest_rel(dane['Po'],dane['Przed']))"
   ]
  },
  {
   "cell_type": "markdown",
   "id": "e0e76969",
   "metadata": {},
   "source": [
    "# zadanie 5"
   ]
  },
  {
   "cell_type": "code",
   "execution_count": null,
   "id": "8181bffe",
   "metadata": {},
   "outputs": [],
   "source": [
    "n1=13\n",
    "s1=5.1\n",
    "n2=15\n",
    "s2=3.0\n",
    "df1=n1-1\n",
    "df2=n2-1\n",
    "alpha=0.05\n",
    "F=s1**2/s2**2\n",
    "print('F=',F)\n",
    "#wartosci krytyczne\n",
    "wk1=stats.f.ppf(1-alpha/2,df1,df2)\n",
    "wk2=stats.f.ppf(alpha/2,df1,df2)\n",
    "print(wk1,wk2)\n",
    "#obszar krytyczny jest od [0,0.3]i[3.05,+nieskonczonosc), wartosc testowa nienalezy do obszaru krytycznego wiec nie ma podstaw do odrzucenia h0\n",
    "p1=stats.f.cdf(F,df1,df2)\n",
    "p2=1-stats.f.cdf(F,df1,df2)\n",
    "p=2*min(p1,p2)\n",
    "print(p)\n",
    "#p jest wieksze niz alpha wiec znowu nie ma podstaw zeby odrzucic h0"
   ]
  },
  {
   "cell_type": "markdown",
   "id": "1597f75c",
   "metadata": {},
   "source": [
    "# zadanie 6"
   ]
  },
  {
   "cell_type": "code",
   "execution_count": null,
   "id": "3925eeb0",
   "metadata": {},
   "outputs": [],
   "source": [
    "#odchylenie wagi - grupa pierwsza\n",
    "s1=24.4\n",
    "n1=12\n",
    "#odchylenie wagi - grupa druga\n",
    "s2=12.4\n",
    "n2=5\n",
    "#hipoteza h0-> wariancja1=wariancja2\n",
    "#hipoteza hA-> wariancja1=!wariancja2\n",
    "alpha=0.05\n",
    "#wartosc F\n",
    "f=(s1**2)/(s2**2)\n",
    "print(f)\n",
    "#stopnie swobody\n",
    "ss1=n1-1\n",
    "ss2=n2-1\n",
    "#wartosci krytyczne wyznaczamy z rozkladu F\n",
    "wk1=stats.f.ppf(1-alpha/2,ss1,ss2)\n",
    "wk2=stats.f.ppf(alpha/2,ss1,ss2)\n",
    "print(wk1,'\\n',wk2)\n",
    "x=stats.f.cdf(f,ss1,ss2)\n",
    "p=2*min(x,1-x)\n",
    "print(p)"
   ]
  },
  {
   "cell_type": "markdown",
   "id": "648b27d3",
   "metadata": {},
   "source": [
    "# zadanie 8"
   ]
  },
  {
   "cell_type": "code",
   "execution_count": null,
   "id": "ae003150",
   "metadata": {},
   "outputs": [],
   "source": [
    "import math as mt\n",
    "from scipy import stats\n",
    "#h0: p1=p2\n",
    "#hA: p1=!p2\n",
    "alpha=0.05\n",
    "n1=102\n",
    "x1=29\n",
    "n2=102\n",
    "x2=34\n",
    "#test dla frakcji to bedzie\n",
    "phat1=x1/n1\n",
    "phat2=x2/n2\n",
    "print(phat1)\n",
    "print(phat2)\n",
    "pline=(x1+x2)/(n1+n2)\n",
    "sigma=mt.sqrt(pline*(1-pline)*(1/n1+1/n2))\n",
    "#wartosc testowa\n",
    "z=(phat1-phat2)/sigma\n",
    "print(z)\n",
    "#wartosc krytyczna\n",
    "wk=stats.norm.ppf(1-alpha/2)\n",
    "print(wk)\n",
    "#obszar krytyczny jest (-∞,-1.96] i [1.96,∞]\n",
    "#z nie wpada w obszar wiec nie odrzucamy h0\n",
    "p=2*(1-stats.norm.cdf(abs(z)))\n",
    "print(p)"
   ]
  }
 ],
 "metadata": {
  "kernelspec": {
   "display_name": "Python 3 (ipykernel)",
   "language": "python",
   "name": "python3"
  },
  "language_info": {
   "codemirror_mode": {
    "name": "ipython",
    "version": 3
   },
   "file_extension": ".py",
   "mimetype": "text/x-python",
   "name": "python",
   "nbconvert_exporter": "python",
   "pygments_lexer": "ipython3",
   "version": "3.9.13"
  }
 },
 "nbformat": 4,
 "nbformat_minor": 5
}
