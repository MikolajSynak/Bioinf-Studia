{
 "cells": [
  {
   "cell_type": "markdown",
   "id": "aee68064",
   "metadata": {},
   "source": [
    "# ZESTAW 6"
   ]
  },
  {
   "cell_type": "markdown",
   "id": "5cec4b76",
   "metadata": {},
   "source": [
    "# zadanie 3 i 7 do domu"
   ]
  },
  {
   "cell_type": "markdown",
   "id": "acb7a837",
   "metadata": {},
   "source": [
    "# zadanie 6"
   ]
  },
  {
   "cell_type": "code",
   "execution_count": 1,
   "id": "96ee60b9",
   "metadata": {},
   "outputs": [
    {
     "name": "stdout",
     "output_type": "stream",
     "text": [
      "wartosc chi2 to 5.279999999999999\n",
      "wartosc krytyczna 1 to  21.9200492610212\n",
      "wartosc krytyczna 2 to  3.8157482522360993\n",
      "0.1662968161357124\n"
     ]
    }
   ],
   "source": [
    "import scipy.stats as stats\n",
    "#tutaj test wariancji sie robi\n",
    "n=12\n",
    "s2=1.92#wariancja w probie\n",
    "#h0=sigma^2=4 (proba pochodzi z populacji gdzie wariancja jest rowna 4)\n",
    "#hA=sigma^2!=4 (ta wariancja w populacji nie jest rowna 4)\n",
    "sigma0=2\n",
    "#funkcja testowa\n",
    "chi2=(n-1)*s2/sigma0**2\n",
    "print(\"wartosc chi2 to\", chi2)\n",
    "#obszar krytyczny trzeba znalezc\n",
    "#poziom istotnosci\n",
    "alpha=0.05\n",
    "#wartosci krytyczne\n",
    "wk1=stats.chi2.ppf(1-alpha/2, n-1)\n",
    "wk2=stats.chi2.ppf(alpha/2, n-1)\n",
    "print('wartosc krytyczna 1 to ', wk1)\n",
    "print('wartosc krytyczna 2 to ', wk2)\n",
    "#obszar krytyczny ([0, 3.82]i[21.92,+nieskonczonosc]) jest od 0 bo chi2 jest okreslony od 0 a nie od -nieskonczonosci\n",
    "#wartosc chi2(to 5.28) nie znajduje sie w obszarze krytycznym wiec nie ma podstaw aby odrzucic hipoteze zerowa\n",
    "#teraz loiczymy wartosc p(czyli prawdopodobienstwo statystyczne)\n",
    "p=2*min((stats.chi2.cdf(chi2,n-1),1-stats.chi2.cdf(chi2,n-1)))\n",
    "print(p)\n",
    "#teraz sie porownuje p z alpha (alpha=0.05) i wychodzi ze p>alpha wiec nie odrzucamy hipotezy zerowej\n"
   ]
  },
  {
   "cell_type": "markdown",
   "id": "9b5c4373",
   "metadata": {},
   "source": [
    "# ZESTAW 7"
   ]
  },
  {
   "cell_type": "markdown",
   "id": "c4ca0214",
   "metadata": {},
   "source": [
    "# zadanie 1"
   ]
  },
  {
   "cell_type": "code",
   "execution_count": 2,
   "id": "5cf7c1be",
   "metadata": {},
   "outputs": [
    {
     "name": "stdout",
     "output_type": "stream",
     "text": [
      "1.59404445040756\n",
      "2.5758293035489004\n",
      "0.11092607936375587\n"
     ]
    }
   ],
   "source": [
    "import math as mt\n",
    "#srednie\n",
    "sr1=59.01\n",
    "sr2=46.61\n",
    "#odchylenia\n",
    "s1=44.89\n",
    "s2=34.85\n",
    "#liczebnosci\n",
    "n1=53\n",
    "n2=54\n",
    "alpha=0.01\n",
    "#h0->s1=s2(srednia w populacji osob z zakrzepica jest taka sama jak srednia u osob bez zakrzepica)\n",
    "#hA-> s1!=s2 (robimy dwustronny bo pani sie pomylila czy cos idk, potem zrobimy jednostrtonny, tak jak w poleceniu jest)\n",
    "#zalozenia:populacje sa niezalezne, duze pru=oby wiec nie trzeba sprawdzac czy maja rozklad normalny\n",
    "#wartosc testowa\n",
    "w1=s1**2/n1\n",
    "w2=s2**2/n2\n",
    "z=(sr1-sr2)/mt.sqrt(w1+w2)\n",
    "print(z)\n",
    "#wartosc krytyczna\n",
    "wk=stats.norm.ppf(1-alpha/2,0,1)\n",
    "print(wk)\n",
    "#obszar krytyczny jest ([-nieskonczonosc,-2.58]i[2.58,+nieskonczonosc])\n",
    "#wartosc testowa z nie wpada do obszaru krytycznego zatem nie mamy podstaw aby h0 odrzucic(na poziomie istotnosci alpha-0.01)\n",
    "#wartosc p dla testu dwustronnego  p=2*P(Z>=z)\n",
    "p=2*(1-stats.norm.cdf(abs(z),0,1))\n",
    "print(p)\n",
    "#wychodzi ze p>alpha wiec nie ma podstaw zeby h0 odrzucic\n",
    "\n",
    "\n",
    "# zad 1 ale z testem jednostronnym w domu"
   ]
  },
  {
   "cell_type": "markdown",
   "id": "7ff8a88e",
   "metadata": {},
   "source": [
    "# zadanie 2"
   ]
  },
  {
   "cell_type": "code",
   "execution_count": 3,
   "id": "cc903661",
   "metadata": {},
   "outputs": [
    {
     "name": "stdout",
     "output_type": "stream",
     "text": [
      "1.9888216919578323\n",
      "2.059538552753294\n",
      "0.05777129221061328\n"
     ]
    },
    {
     "data": {
      "text/plain": [
       "Ttest_indResult(statistic=1.9888216919578323, pvalue=0.057771292210613154)"
      ]
     },
     "execution_count": 3,
     "metadata": {},
     "output_type": "execute_result"
    }
   ],
   "source": [
    "#kuracje a i b, populacje sa niezalezne(populacja to tam ci ktorzy sie odchydzaja a i b, proby male\n",
    "#zalozenia: 1)populacje maja rozklady normalne 2)wariancje sa rowne\n",
    "#h0-> mean1=mean2 (mean1=sredni ubytek wagi w probie 1)\n",
    "#hA-> mean!=mean2\n",
    "alpha=0.05\n",
    "#srednie(w kg)\n",
    "mean1=5.4\n",
    "mean2=3.4\n",
    "#liczebnosci\n",
    "n1=16\n",
    "n2=11\n",
    "#odchylenia(w kg)\n",
    "s1=2.4\n",
    "s2=2.8\n",
    "#stopnie swobody\n",
    "df=n1+n2-2\n",
    "#wartosc testowa\n",
    "m=((n1-1)*s1**2+(n2-1)*s2**2)/df*(1/n1+1/n2)\n",
    "t=(mean1-mean2)/mt.sqrt(m)\n",
    "print(t)\n",
    "#wartosc krytyczna\n",
    "wk=stats.t.ppf(1-alpha/2,df)\n",
    "print(wk)\n",
    "#obszar krytyczny ([-nieskonczonosc do -2.06]i[2.06 do +nieskonczonosc])\n",
    "#wartosc t nie wpada do obszaru krytycznego wiec nie mamy podstaw zeby odrzucic h0\n",
    "p=2*(1-stats.t.cdf(abs(t),df))\n",
    "print(p)\n",
    "#wartosc p porownujemy z alpha i znowu jest wieksze niz alpha wiev nie mamy podstaw zeby odrzucic h0\n",
    "\n",
    "stats.ttest_ind_from_stats(mean1,s1,n1,mean2,s2,n2,equal_var=1)\n"
   ]
  },
  {
   "cell_type": "markdown",
   "id": "87ef68e7",
   "metadata": {},
   "source": [
    "# zadanie 3"
   ]
  },
  {
   "cell_type": "code",
   "execution_count": 4,
   "id": "7228181e",
   "metadata": {},
   "outputs": [
    {
     "data": {
      "text/plain": [
       "Ttest_indResult(statistic=6.634582541921894, pvalue=3.4258015997770162e-06)"
      ]
     },
     "execution_count": 4,
     "metadata": {},
     "output_type": "execute_result"
    }
   ],
   "source": [
    "#zalozenia: 1)proby niezalezne, 2) zalozenie normalnosci rozkladu 3) wariancej sa rozne\n",
    "#h0-> srednie wskazniki sztywnosci aorty w tych populacjach sa rowne\n",
    "#hA-> srednie wskazniki sztywnosci aorty w tych populacjach sa rozne\n",
    "n1=15\n",
    "n2=30\n",
    "sr1=19.16\n",
    "sr2=9.53\n",
    "s1=5.29\n",
    "s2=2.69\n",
    "alpha=0.05\n",
    "stats.ttest_ind_from_stats(sr1,s1,n1,sr2,s2,n2,equal_var=0)\n",
    "#t=6.63,pvalue=3.42*10^-6. p<alpha wiec odrzucamy h0"
   ]
  },
  {
   "cell_type": "markdown",
   "id": "ca5e12f4",
   "metadata": {},
   "source": [
    "# zadanie 4"
   ]
  },
  {
   "cell_type": "code",
   "execution_count": 31,
   "id": "98e1388c",
   "metadata": {},
   "outputs": [
    {
     "name": "stdout",
     "output_type": "stream",
     "text": [
      "38.53333333333334 30.05867998472725\n",
      "56.60833333333334 27.80011309111508\n",
      "18.075 32.681691427241866\n",
      "1.9158627953210288\n",
      "2.200985160082949\n",
      "0.08172433109374899\n",
      "Ttest_relResult(statistic=1.9158627953210292, pvalue=0.08172433109374884)\n"
     ]
    }
   ],
   "source": [
    "import pandas as pd\n",
    "import math as mt\n",
    "import scipy.stats as stats\n",
    "dane=pd.read_excel(r'Refluks.xlsx')\n",
    "#h0-> roznica srednich=0\n",
    "#hA-> roznica srednich!=0\n",
    "#print(dane)\n",
    "s1=dane['Przed'].mean() # srednia przed\n",
    "s2=dane['Po'].mean() #srednia po\n",
    "sroznic=dane['Różnica'].mean() # srednia roznic\n",
    "d1=dane['Przed'].std()\n",
    "d2=dane['Po'].std()\n",
    "droznic=dane['Różnica'].std()\n",
    "df=n-1\n",
    "alpha=0.05\n",
    "n=dane['Różnica'].count()\n",
    "print(s1,d1)\n",
    "print(s2,d2)\n",
    "print(sroznic,droznic)\n",
    "t=sroznic/droznic*mt.sqrt(n)\n",
    "print(t)\n",
    "wk=stats.t.ppf(1-alpha/2,df)\n",
    "print(wk)\n",
    "# przedzial krytyczny jest [-nieskonczonosc,-2.2] i [2.2,+nieskonczonosc] \n",
    "#wartosc t nie wpada do przedzialu krytycznego wiec nie ma postaw do odrzucenia h0\n",
    "\n",
    "#pvalue\n",
    "p=2*(1-stats.t.cdf(abs(t),df))\n",
    "print(p)\n",
    "#p(0.08) jest wieksze niz alpha(0.05) wiec nie ma podstaw na odrzucenie h0\n",
    "\n",
    "#trzecia metoda\n",
    "stats.ttest_1samp(dane['Różnica'],popmean=0)\n",
    "\n",
    "#czwarta metoda\n",
    "print(stats.ttest_rel(dane['Po'],dane['Przed']))"
   ]
  },
  {
   "cell_type": "markdown",
   "id": "7279f507",
   "metadata": {},
   "source": [
    "# zadanie 5"
   ]
  },
  {
   "cell_type": "code",
   "execution_count": 35,
   "id": "30d38430",
   "metadata": {},
   "outputs": [
    {
     "name": "stdout",
     "output_type": "stream",
     "text": [
      "F= 2.8899999999999997\n",
      "3.0501547888185927 0.3118945638956086\n",
      "0.061651300432384426\n"
     ]
    }
   ],
   "source": [
    "n1=13\n",
    "s1=5.1\n",
    "n2=15\n",
    "s2=3.0\n",
    "df1=n1-1\n",
    "df2=n2-1\n",
    "alpha=0.05\n",
    "F=s1**2/s2**2\n",
    "print('F=',F)\n",
    "#wartosci krytyczne\n",
    "wk1=stats.f.ppf(1-alpha/2,df1,df2)\n",
    "wk2=stats.f.ppf(alpha/2,df1,df2)\n",
    "print(wk1,wk2)\n",
    "#obszar krytyczny jest od [0,0.3]i[3.05,+nieskonczonosc), wartosc testowa nienalezy do obszaru krytycznego wiec nie ma podstaw do odrzucenia h0\n",
    "p1=stats.f.cdf(F,df1,df2)\n",
    "p2=1-stats.f.cdf(F,df1,df2)\n",
    "p=2*min(p1,p2)\n",
    "print(p)\n",
    "#p jest wieksze niz alpha wiec znowu nie ma podstaw zeby odrzucic h0"
   ]
  },
  {
   "cell_type": "markdown",
   "id": "1b9ed2f9",
   "metadata": {},
   "source": [
    "# zadania 6 i 7 do domu"
   ]
  },
  {
   "cell_type": "markdown",
   "id": "5edae5ef",
   "metadata": {},
   "source": [
    "# zadanie 8"
   ]
  },
  {
   "cell_type": "code",
   "execution_count": null,
   "id": "b1fe7492",
   "metadata": {},
   "outputs": [],
   "source": []
  }
 ],
 "metadata": {
  "kernelspec": {
   "display_name": "Python 3 (ipykernel)",
   "language": "python",
   "name": "python3"
  },
  "language_info": {
   "codemirror_mode": {
    "name": "ipython",
    "version": 3
   },
   "file_extension": ".py",
   "mimetype": "text/x-python",
   "name": "python",
   "nbconvert_exporter": "python",
   "pygments_lexer": "ipython3",
   "version": "3.9.13"
  }
 },
 "nbformat": 4,
 "nbformat_minor": 5
}
