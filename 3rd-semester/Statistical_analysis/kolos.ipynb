{
 "cells": [
  {
   "cell_type": "code",
   "execution_count": 42,
   "id": "9d51c0fa",
   "metadata": {},
   "outputs": [],
   "source": [
    "import statistics as stats\n",
    "import math\n",
    "import seaborn as sns\n",
    "import pandas as pd"
   ]
  },
  {
   "cell_type": "markdown",
   "id": "34950cbd",
   "metadata": {},
   "source": [
    "# Zestaw 4"
   ]
  },
  {
   "cell_type": "markdown",
   "id": "2edb79e8",
   "metadata": {},
   "source": [
    "#### zad 1"
   ]
  },
  {
   "cell_type": "code",
   "execution_count": 43,
   "id": "1120ee44",
   "metadata": {},
   "outputs": [],
   "source": [
    "a1 = [3, 5, 2, 6, 5, 9, 5, 2, 8, 6]\n",
    "b2 = [51.6, 48.7, 50.3, 49.5, 48.9]"
   ]
  },
  {
   "cell_type": "code",
   "execution_count": 44,
   "id": "57a8e5f6",
   "metadata": {},
   "outputs": [
    {
     "name": "stdout",
     "output_type": "stream",
     "text": [
      "5.0\n",
      "5\n"
     ]
    }
   ],
   "source": [
    "# a)\n",
    "mediana1 = stats.median(a1)\n",
    "print(mediana1)\n",
    "moda1 = stats.mode(a1)\n",
    "print(moda)"
   ]
  },
  {
   "cell_type": "code",
   "execution_count": 33,
   "id": "bcaf23bf",
   "metadata": {},
   "outputs": [
    {
     "name": "stdout",
     "output_type": "stream",
     "text": [
      "49.5\n",
      "Brak mody dla b2\n"
     ]
    }
   ],
   "source": [
    "# b)\n",
    "mediana2 = stats.median(b2)\n",
    "print(mediana2)\n",
    "print(\"Brak mody dla b2\")"
   ]
  },
  {
   "cell_type": "markdown",
   "id": "341aa6a5",
   "metadata": {},
   "source": [
    "### zad 2"
   ]
  },
  {
   "cell_type": "code",
   "execution_count": 34,
   "id": "e4acb862",
   "metadata": {},
   "outputs": [
    {
     "data": {
      "text/plain": [
       "2.330951164939612"
      ]
     },
     "execution_count": 34,
     "metadata": {},
     "output_type": "execute_result"
    }
   ],
   "source": [
    "a2 = (3, 5, 2, 6, 5, 9, 5, 2, 8, 6)\n",
    "stats.stdev(a2)"
   ]
  },
  {
   "cell_type": "markdown",
   "id": "576c7c3f",
   "metadata": {},
   "source": [
    "#### zestaw 6 zadanie 3"
   ]
  },
  {
   "cell_type": "code",
   "execution_count": 45,
   "id": "f308e1ac",
   "metadata": {},
   "outputs": [],
   "source": [
    "# H0: mi = mi0\n",
    "# Halt.: mi =/= mi0\n",
    "mi = 122\n",
    "stdev = 4\n",
    "n = 25"
   ]
  },
  {
   "cell_type": "code",
   "execution_count": 51,
   "id": "6b46818b",
   "metadata": {
    "scrolled": true
   },
   "outputs": [
    {
     "name": "stdout",
     "output_type": "stream",
     "text": [
      "The sample mean is not significantly different from the population mean.\n",
      "0.5141447780006303\n",
      "-0.9565217391304349\n"
     ]
    }
   ],
   "source": [
    "from scipy import stats\n",
    "\n",
    "# population mean\n",
    "pop_mean = 122\n",
    "\n",
    "# sample data\n",
    "sample = [124.6,5]\n",
    "\n",
    "# perform t-test\n",
    "t_stat, p_val = stats.ttest_1samp(sample, pop_mean)\n",
    "\n",
    "# interpret p-value\n",
    "if p_val < 0.05:\n",
    "    print(\"The sample mean is significantly different from the population mean.\")\n",
    "else:\n",
    "    print(\"The sample mean is not significantly different from the population mean.\")\n"
   ]
  },
  {
   "cell_type": "code",
   "execution_count": 61,
   "id": "ae38c867",
   "metadata": {},
   "outputs": [
    {
     "name": "stdout",
     "output_type": "stream",
     "text": [
      "Wartość p = 0.3646556153163031\n",
      "Wartość p, wynosząca 0.3646556153163031, jest wyższa od wartości alpha, tj. 0.01, więc nie możemy odrzucić hipotezy zerowej.\n"
     ]
    }
   ],
   "source": [
    "''' \n",
    "Rozwiąż mi to w pythonie:\n",
    "Celem pewnego badania było określenie roli czynników ryzyka w rozwoju zakrzepicy.\n",
    "Jednym z celów badania było ustalenie, czy średnie poziomy IgG przeciwciała antykardiolipinowego są różne\n",
    "u osób z zalrzepicą i bez zakrzepicy. Wyniki w grupie z zakrzepicą były następujące:\n",
    "średnia1 = 59.01, odchylenie standardowe1 = 44.89, n1 = 53\n",
    "W grupie bez zakrzepicy:\n",
    "średnia1 = 46.61, odchylenie standardowe2 = 34.85, n2 = 54\n",
    "\n",
    "Sprawdź czy średni poziom przeciwciał antykardiolopidowych w grupie osób z zakrzepicą jest istotnie \n",
    "wyższy w porównaniu z grupą zdrową na poziomie istotności alfa = 0.01?\n",
    "'''\n",
    "# H0: \n",
    "# H_alt: \n",
    "\n",
    "from scipy import stats\n",
    "\n",
    "# dane dla grupy z zakrzepicą:\n",
    "thrombosis = [59.01,44.89,53]\n",
    "\n",
    "# dane dla osób bez zakrzepicy:\n",
    "no_thrombosis = [46.61,34.85,54]\n",
    "\n",
    "# przeprowadzam test t-studenta.\n",
    "t_stat, p_val = stats.ttest_ind(thrombosis, no_thrombosis, equal_var=False)\n",
    "\n",
    "print(f'Wartość p = {p_val}')\n",
    "alpha = 0.01\n",
    "print(f'Wartość p, wynosząca {p_val}, jest wyższa od wartości alpha, tj. 0.01, więc nie możemy odrzucić hipotezy zerowej.')"
   ]
  },
  {
   "cell_type": "code",
   "execution_count": 66,
   "id": "176542c2",
   "metadata": {},
   "outputs": [
    {
     "name": "stdout",
     "output_type": "stream",
     "text": [
      "The average weight loss is not significantly different in the two groups.\n",
      "\n"
     ]
    }
   ],
   "source": [
    "from scipy import stats\n",
    "\n",
    "# data for group 1\n",
    "group1 = [5.4, 2.4, 16]\n",
    "\n",
    "# data for group 2\n",
    "group2 = [3.4, 2.8, 11]\n",
    "\n",
    "# perform t-test\n",
    "t_stat, p_val = stats.ttest_ind(group1, group2)\n",
    "\n",
    "# interpret p-value\n",
    "alpha = 0.05\n",
    "if p_val < alpha:\n",
    "    print(\"The average weight loss is significantly different in the two groups.\")\n",
    "else:\n",
    "    print(\"The average weight loss is not significantly different in the two groups.\")\n",
    "\n",
    "print()"
   ]
  },
  {
   "cell_type": "code",
   "execution_count": null,
   "id": "46429c4d",
   "metadata": {},
   "outputs": [],
   "source": []
  }
 ],
 "metadata": {
  "kernelspec": {
   "display_name": "Python 3 (ipykernel)",
   "language": "python",
   "name": "python3"
  },
  "language_info": {
   "codemirror_mode": {
    "name": "ipython",
    "version": 3
   },
   "file_extension": ".py",
   "mimetype": "text/x-python",
   "name": "python",
   "nbconvert_exporter": "python",
   "pygments_lexer": "ipython3",
   "version": "3.9.13"
  }
 },
 "nbformat": 4,
 "nbformat_minor": 5
}
