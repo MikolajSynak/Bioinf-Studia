{
 "cells": [
  {
   "cell_type": "markdown",
   "id": "522c9d4b",
   "metadata": {},
   "source": [
    "# ZESTAW 8"
   ]
  },
  {
   "cell_type": "markdown",
   "id": "6b1a3030",
   "metadata": {},
   "source": [
    "# zadanie 5"
   ]
  },
  {
   "cell_type": "code",
   "execution_count": 1,
   "id": "2d8b4452",
   "metadata": {},
   "outputs": [],
   "source": [
    "import numpy as np\n",
    "import scipy.stats as stats"
   ]
  },
  {
   "cell_type": "code",
   "execution_count": 4,
   "id": "2e8cf6ec",
   "metadata": {},
   "outputs": [
    {
     "name": "stdout",
     "output_type": "stream",
     "text": [
      "(16.0, 0.023014137565221155)\n"
     ]
    }
   ],
   "source": [
    "#hipoteza H0:zmienne sa niezalezne\n",
    "#hipoteza HA:zmienne sa zalezne\n",
    "obs=np.array([[8,2],[2,8]])\n",
    "print(stats.fisher_exact(obs))\n",
    "#printuje wartosc iloraz szans i pvalue\n",
    "#pvalue<alpha wiec H0 odrzucamy"
   ]
  },
  {
   "cell_type": "markdown",
   "id": "7ecdc8fe",
   "metadata": {},
   "source": [
    "# ZESTAW 9"
   ]
  },
  {
   "cell_type": "markdown",
   "id": "a4972a20",
   "metadata": {},
   "source": [
    "# zadanie 1"
   ]
  },
  {
   "cell_type": "code",
   "execution_count": 48,
   "id": "55136a13",
   "metadata": {},
   "outputs": [
    {
     "name": "stdout",
     "output_type": "stream",
     "text": [
      "0.002842577998375173\n",
      "0.005685155996750346\n"
     ]
    }
   ],
   "source": [
    "#H0: me=m0\n",
    "#HA: me!=m0\n",
    "n=200\n",
    "r2=120\n",
    "p=0.5\n",
    "x=1-stats.binom.cdf(119,200,p)\n",
    "print(x)\n",
    "print(2*x)\n",
    "#wychodzi 0.005<alpha wiec odrzucamy H0"
   ]
  },
  {
   "cell_type": "markdown",
   "id": "0a68163d",
   "metadata": {},
   "source": [
    "# zadanie 2"
   ]
  },
  {
   "cell_type": "code",
   "execution_count": 7,
   "id": "73b9be1e",
   "metadata": {},
   "outputs": [],
   "source": [
    "import pandas as pd\n",
    "import statistics as st"
   ]
  },
  {
   "cell_type": "code",
   "execution_count": 8,
   "id": "4c46bd85",
   "metadata": {},
   "outputs": [
    {
     "name": "stdout",
     "output_type": "stream",
     "text": [
      "      A    B\n",
      "0   763  797\n",
      "1   419  404\n",
      "2   586  576\n",
      "3   920  855\n",
      "4   881  762\n",
      "5   758  707\n",
      "6   262  195\n",
      "7   332  341\n",
      "8   717  728\n",
      "9   909  817\n",
      "10  940  947\n",
      "11  835  849\n"
     ]
    }
   ],
   "source": [
    "dane=pd.read_excel(r'Egzamin.xlsx')\n",
    "print(dane)"
   ]
  },
  {
   "cell_type": "code",
   "execution_count": 17,
   "id": "34503419",
   "metadata": {},
   "outputs": [
    {
     "name": "stdout",
     "output_type": "stream",
     "text": [
      "ShapiroResult(statistic=0.8723205327987671, pvalue=0.06993758678436279)\n",
      "ShapiroResult(statistic=0.8889746069908142, pvalue=0.11430764198303223)\n",
      "WilcoxonResult(statistic=19.0, pvalue=0.12939453125)\n"
     ]
    }
   ],
   "source": [
    "n=12\n",
    "testA=stats.shapiro(dane['A'])\n",
    "testB=stats.shapiro(dane['B'])\n",
    "print(testA)\n",
    "print(testB)\n",
    "#test shapiro-wilka sprawdza czy te wartosci z kolumny a i b maja rozklady normalne\n",
    "#pvalue sa oba wieksze od 0.05 wiec mozna przyjac ze te rozklady sa normalne\n",
    "\n",
    "#tera dajemy test wilcoxona bo zawsze go mozna zrobic,\n",
    "#hipoteza H0:rozklad jest symetryczny wzgledem 0\\\n",
    "#hipoteza HA:rozklad nie jest symetryczny wzgledem 0\n",
    "\n",
    "testwilcoxon=stats.wilcoxon(dane['A'],dane['B'])\n",
    "print(testwilcoxon)\n",
    "#printuje wartosc testowa i pvalue(domyslnie dla testu dwustronnego,trzeba patrzec bo czasami moze byc domyslnie inaczej)\n",
    "#pvalue jest wieksze niz alpha, wiec nie ma podstaw do odrzucenia hipotezy H0, czyli nie ma roznic miedzy wynikami testu a i b"
   ]
  },
  {
   "cell_type": "markdown",
   "id": "349343ba",
   "metadata": {},
   "source": [
    "# zadanie 3"
   ]
  },
  {
   "cell_type": "code",
   "execution_count": 44,
   "id": "c2804e43",
   "metadata": {},
   "outputs": [
    {
     "data": {
      "text/plain": [
       "MannwhitneyuResult(statistic=14.0, pvalue=0.03595228301110654)"
      ]
     },
     "execution_count": 44,
     "metadata": {},
     "output_type": "execute_result"
    }
   ],
   "source": [
    "#proby niezalezne, male\n",
    "n1=8\n",
    "n2=9\n",
    "dane=pd.read_excel(r'Reakcja.xlsx')\n",
    "x=dane['A'].dropna()\n",
    "y=dane['B'].dropna()\n",
    "stats.mannwhitneyu(x,y,alternative='two-sided')\n",
    "#p=0.035<alpha,odrzucamy H0"
   ]
  },
  {
   "cell_type": "code",
   "execution_count": 49,
   "id": "0e409f29",
   "metadata": {},
   "outputs": [],
   "source": [
    "#zad 4 z manna whitneya\n",
    "#zad 5 wilcoxon\n",
    "#zad 6 mann whitney\n",
    "#zad 7 mann whitney"
   ]
  },
  {
   "cell_type": "code",
   "execution_count": null,
   "id": "fc72ff26",
   "metadata": {},
   "outputs": [],
   "source": []
  }
 ],
 "metadata": {
  "kernelspec": {
   "display_name": "Python 3 (ipykernel)",
   "language": "python",
   "name": "python3"
  },
  "language_info": {
   "codemirror_mode": {
    "name": "ipython",
    "version": 3
   },
   "file_extension": ".py",
   "mimetype": "text/x-python",
   "name": "python",
   "nbconvert_exporter": "python",
   "pygments_lexer": "ipython3",
   "version": "3.9.13"
  }
 },
 "nbformat": 4,
 "nbformat_minor": 5
}
