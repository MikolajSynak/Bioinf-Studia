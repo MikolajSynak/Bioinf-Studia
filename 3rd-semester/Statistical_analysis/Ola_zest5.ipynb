{
 "cells": [
  {
   "cell_type": "code",
   "execution_count": 8,
   "id": "5441e4ec",
   "metadata": {},
   "outputs": [],
   "source": [
    "#zestaw 5 zadanie 1\n",
    "import scipy.stats as stats\n",
    "from math import sqrt"
   ]
  },
  {
   "cell_type": "code",
   "execution_count": 9,
   "id": "1c5b6fc1",
   "metadata": {},
   "outputs": [
    {
     "name": "stdout",
     "output_type": "stream",
     "text": [
      "1.6448536269514722\n"
     ]
    }
   ],
   "source": [
    "alfa=0.10\n",
    "z=stats.norm.ppf(1-alfa/2,0,1)\n",
    "print(z)"
   ]
  },
  {
   "cell_type": "code",
   "execution_count": null,
   "id": "aa1a9c2f",
   "metadata": {},
   "outputs": [],
   "source": []
  },
  {
   "cell_type": "code",
   "execution_count": 10,
   "id": "cdc866fc",
   "metadata": {},
   "outputs": [
    {
     "name": "stdout",
     "output_type": "stream",
     "text": [
      "1.959963984540054\n"
     ]
    }
   ],
   "source": [
    "alfa=0.05\n",
    "z=stats.norm.ppf(1-alfa/2,0,1)\n",
    "print(z)"
   ]
  },
  {
   "cell_type": "code",
   "execution_count": 11,
   "id": "36cb10e3",
   "metadata": {},
   "outputs": [],
   "source": [
    "#ZESTAW 5 ZAD 2"
   ]
  },
  {
   "cell_type": "code",
   "execution_count": 14,
   "id": "ebfa78ca",
   "metadata": {},
   "outputs": [
    {
     "name": "stdout",
     "output_type": "stream",
     "text": [
      "1.6448536269514722\n",
      "2.163948096156062\n"
     ]
    },
    {
     "data": {
      "text/plain": [
       "(122.83605190384394, 127.16394809615606)"
      ]
     },
     "execution_count": 14,
     "metadata": {},
     "output_type": "execute_result"
    }
   ],
   "source": [
    "n=130\n",
    "alfa=0.10\n",
    "s=15\n",
    "srednia=125\n",
    "z=stats.norm.ppf(1-alfa/2,0,1)\n",
    "print(z)\n",
    "delta=z*s/sqrt(n)\n",
    "print(delta)\n",
    "(srednia-delta,srednia+delta)"
   ]
  },
  {
   "cell_type": "code",
   "execution_count": 20,
   "id": "e6c76bb5",
   "metadata": {},
   "outputs": [],
   "source": [
    "#zestaw 5 zad 3"
   ]
  },
  {
   "cell_type": "code",
   "execution_count": 22,
   "id": "a6ffb389",
   "metadata": {},
   "outputs": [
    {
     "name": "stdout",
     "output_type": "stream",
     "text": [
      "0.5422176684690384\n",
      "2.97684273411266\n"
     ]
    },
    {
     "data": {
      "text/plain": [
       "(117.38590327331043, 120.61409672668957)"
      ]
     },
     "execution_count": 22,
     "metadata": {},
     "output_type": "execute_result"
    }
   ],
   "source": [
    "n=15\n",
    "s=2.1\n",
    "srednia=119\n",
    "odchylenie=s/sqrt(n)\n",
    "print(odchylenie)\n",
    "df=n-1\n",
    "alfa=0.01\n",
    "t_alfa=stats.t.ppf(1-alfa/2,df)\n",
    "delta=t_alfa*s/sqrt(n)\n",
    "print(t_alfa)\n",
    "(srednia-delta,srednia+delta)"
   ]
  },
  {
   "cell_type": "code",
   "execution_count": 23,
   "id": "474216f3",
   "metadata": {},
   "outputs": [],
   "source": [
    "#zestaw 5 zad 4"
   ]
  },
  {
   "cell_type": "code",
   "execution_count": 26,
   "id": "2005d3e6",
   "metadata": {},
   "outputs": [
    {
     "name": "stdout",
     "output_type": "stream",
     "text": [
      "1.959963984540054 0.5514705882352942\n"
     ]
    },
    {
     "data": {
      "text/plain": [
       "(0.4678842542985552, 0.6350569221720331)"
      ]
     },
     "execution_count": 26,
     "metadata": {},
     "output_type": "execute_result"
    }
   ],
   "source": [
    "n=136\n",
    "r=75\n",
    "alfa=0.05\n",
    "phat=r/n\n",
    "z=stats.norm.ppf(1-alfa/2,0,1)\n",
    "delta=z*sqrt(phat*(1-phat)/n)\n",
    "print(z,phat)\n",
    "(phat-delta,phat+delta)"
   ]
  },
  {
   "cell_type": "code",
   "execution_count": 27,
   "id": "29a28b13",
   "metadata": {},
   "outputs": [
    {
     "name": "stdout",
     "output_type": "stream",
     "text": [
      "1.959963984540054 216.08205866404455\n"
     ]
    }
   ],
   "source": [
    "#zestaw 5 zad 5\n",
    "n=136\n",
    "r=75\n",
    "s=15\n",
    "d=2\n",
    "alfa=0.05\n",
    "z=stats.norm.ppf(1-alfa/2,0,1)\n",
    "delta=(z*s/d)**2\n",
    "print(z,delta)"
   ]
  },
  {
   "cell_type": "code",
   "execution_count": 28,
   "id": "1326bfa3",
   "metadata": {},
   "outputs": [
    {
     "name": "stdout",
     "output_type": "stream",
     "text": [
      "384.14588206941244\n"
     ]
    }
   ],
   "source": [
    "#zestaw 5 zad 6\n",
    "d=0.05\n",
    "p=0.5\n",
    "alfa=0.05\n",
    "z=stats.norm.ppf(1-alfa/2,0,1)\n",
    "n=z**2*p*(1-p)/d**2\n",
    "print(n)"
   ]
  },
  {
   "cell_type": "code",
   "execution_count": null,
   "id": "b20ad146",
   "metadata": {},
   "outputs": [],
   "source": []
  }
 ],
 "metadata": {
  "kernelspec": {
   "display_name": "Python 3 (ipykernel)",
   "language": "python",
   "name": "python3"
  },
  "language_info": {
   "codemirror_mode": {
    "name": "ipython",
    "version": 3
   },
   "file_extension": ".py",
   "mimetype": "text/x-python",
   "name": "python",
   "nbconvert_exporter": "python",
   "pygments_lexer": "ipython3",
   "version": "3.9.7"
  }
 },
 "nbformat": 4,
 "nbformat_minor": 5
}
