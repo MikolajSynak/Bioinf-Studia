{
 "cells": [
  {
   "cell_type": "code",
   "execution_count": 1,
   "id": "74a39a9b",
   "metadata": {},
   "outputs": [],
   "source": [
    "import matplotlib.pyplot as plt\n",
    "import math\n",
    "import numpy as np\n",
    "import seaborn as sns\n",
    "import pandas as pd"
   ]
  },
  {
   "cell_type": "markdown",
   "id": "78c9158a",
   "metadata": {},
   "source": [
    "# zad 4"
   ]
  },
  {
   "cell_type": "code",
   "execution_count": 4,
   "id": "cb0c7d2a",
   "metadata": {},
   "outputs": [
    {
     "name": "stdout",
     "output_type": "stream",
     "text": [
      "    Przed    Po  Różnica\n",
      "0    22.0  63.5     41.5\n",
      "1    63.3  91.5     28.2\n",
      "2    96.0  59.0    -37.0\n",
      "3     9.2  37.8     28.6\n",
      "4     3.1  10.1      7.0\n",
      "5    50.0  19.6    -30.4\n",
      "6    33.0  41.0      8.0\n",
      "7    69.0  87.8     18.8\n",
      "8    64.0  86.0     22.0\n",
      "9    18.8  55.0     36.2\n",
      "10    0.0  88.0     88.0\n",
      "11   34.0  40.0      6.0\n"
     ]
    }
   ],
   "source": [
    "dane = pd.read_excel(r'Refluks.xlsx')\n",
    "print(dane)"
   ]
  },
  {
   "cell_type": "code",
   "execution_count": 8,
   "id": "d87448db",
   "metadata": {},
   "outputs": [
    {
     "name": "stdout",
     "output_type": "stream",
     "text": [
      "srednia1 =  38.53333333333334\n",
      "s1 =  30.05867998472725\n",
      "srednia2 =  56.60833333333334\n",
      "s2 =  27.80011309111508\n",
      "Średnia różnic =  18.075\n",
      "sd =  18.075\n"
     ]
    }
   ],
   "source": [
    "srednia1 = dane['Przed'].mean()\n",
    "print('srednia1 = ', srednia1)\n",
    "s1 = dane['Przed'].std()\n",
    "print('s1 = ', s1)\n",
    "srednia2 = dane['Po'].mean()\n",
    "print('srednia2 = ', srednia2)\n",
    "s2 = dane[\"Po\"].std()\n",
    "print('s2 = ', s2)\n",
    "sredniaroznic = dane['Różnica'].mean()\n",
    "print('Średnia różnic = ', sredniaroznic)\n",
    "sd = dane['Różnica'].mean()\n",
    "print('sd = ', sd)"
   ]
  },
  {
   "cell_type": "code",
   "execution_count": 16,
   "id": "6bb7fdc8",
   "metadata": {},
   "outputs": [
    {
     "name": "stdout",
     "output_type": "stream",
     "text": [
      "n =  12\n",
      "Stopnie swobody = 11\n",
      "t = 18.075\n"
     ]
    }
   ],
   "source": [
    "n = dane['Różnica'].count()\n",
    "print(\"n = \", n)\n",
    "df = n-1\n",
    "print(f'Stopnie swobody = {df}')\n",
    "\n",
    "# Wartość testowa: \n",
    "from math import sqrt\n",
    "t = sredniaroznic\n",
    "print(f't = {t}')\n",
    "alfa = 0.05"
   ]
  },
  {
   "cell_type": "code",
   "execution_count": 20,
   "id": "e7dc6cbd",
   "metadata": {},
   "outputs": [
    {
     "name": "stdout",
     "output_type": "stream",
     "text": [
      "2.200985160082949\n"
     ]
    }
   ],
   "source": [
    "# Wartość krytyczna:\n",
    "import scipy.stats as stats\n",
    "wk = stats.t.ppf(1-alfa/2, df)\n",
    "print(wk)"
   ]
  },
  {
   "cell_type": "code",
   "execution_count": 23,
   "id": "267a60b6",
   "metadata": {},
   "outputs": [
    {
     "name": "stdout",
     "output_type": "stream",
     "text": [
      "1.5781858042629437e-09\n"
     ]
    }
   ],
   "source": [
    "# Wartość dla testu dwustronnego:\n",
    "p = 2*(1-stats.t.cdf(abs(t), df))\n",
    "print(p)"
   ]
  },
  {
   "cell_type": "code",
   "execution_count": 28,
   "id": "190c569b",
   "metadata": {},
   "outputs": [
    {
     "data": {
      "text/plain": [
       "Ttest_1sampResult(statistic=1.9158627953210292, pvalue=0.08172433109374884)"
      ]
     },
     "execution_count": 28,
     "metadata": {},
     "output_type": "execute_result"
    }
   ],
   "source": [
    "# III metoda rozwiązania:\n",
    "\n",
    "stats.ttest_1samp(dane['Różnica'], popmean = 0)\n"
   ]
  },
  {
   "cell_type": "code",
   "execution_count": 29,
   "id": "b6406275",
   "metadata": {},
   "outputs": [
    {
     "data": {
      "text/plain": [
       "Ttest_relResult(statistic=1.9158627953210292, pvalue=0.08172433109374884)"
      ]
     },
     "execution_count": 29,
     "metadata": {},
     "output_type": "execute_result"
    }
   ],
   "source": [
    "# IV metoda rozwiązania:\n",
    "\n",
    "stats.ttest_rel(dane['Po'], dane['Przed'])\n"
   ]
  },
  {
   "cell_type": "markdown",
   "id": "9fdfb84e",
   "metadata": {},
   "source": [
    "# zad 5"
   ]
  },
  {
   "cell_type": "code",
   "execution_count": null,
   "id": "8482a73c",
   "metadata": {},
   "outputs": [],
   "source": []
  }
 ],
 "metadata": {
  "kernelspec": {
   "display_name": "Python 3 (ipykernel)",
   "language": "python",
   "name": "python3"
  },
  "language_info": {
   "codemirror_mode": {
    "name": "ipython",
    "version": 3
   },
   "file_extension": ".py",
   "mimetype": "text/x-python",
   "name": "python",
   "nbconvert_exporter": "python",
   "pygments_lexer": "ipython3",
   "version": "3.9.13"
  }
 },
 "nbformat": 4,
 "nbformat_minor": 5
}
