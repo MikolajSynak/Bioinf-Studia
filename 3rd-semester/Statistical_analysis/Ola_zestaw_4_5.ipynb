{
 "cells": [
  {
   "cell_type": "code",
   "execution_count": 4,
   "id": "a62b11ce",
   "metadata": {},
   "outputs": [],
   "source": [
    "import matplotlib.pyplot as plt\n",
    "import numpy as np\n",
    "import pandas as pd\n",
    "import scipy.stats as stats \n",
    "import statistics as st\n",
    "from math import ceil\n",
    "import seaborn as sns\n",
    "import statsmodels.api as sm"
   ]
  },
  {
   "cell_type": "code",
   "execution_count": 5,
   "id": "7cae1b7d",
   "metadata": {},
   "outputs": [],
   "source": [
    "x=[37,39,39,41,45,46,48,53,59,61,61,64,67,69,69,73]"
   ]
  },
  {
   "cell_type": "code",
   "execution_count": 6,
   "id": "abd575d4",
   "metadata": {},
   "outputs": [
    {
     "name": "stdout",
     "output_type": "stream",
     "text": [
      "54.4375 56.0 39 12.355666716126652\n"
     ]
    }
   ],
   "source": [
    "#wartosci podstawowych statystyk\n",
    "a=st.mean(x)\n",
    "b=st.median(x)\n",
    "c=st.mode(x)\n",
    "d=st.stdev(x)\n",
    "print(a,b,c,d)"
   ]
  },
  {
   "cell_type": "code",
   "execution_count": 22,
   "id": "0e8b46a3",
   "metadata": {},
   "outputs": [
    {
     "name": "stdout",
     "output_type": "stream",
     "text": [
      "4.358898943540674\n"
     ]
    }
   ],
   "source": [
    "#odpowiednia liczba klas\n",
    "from math import sqrt\n",
    "y=list(range(35,85,10))\n",
    "n=19\n",
    "k=sqrt(n)\n",
    "print(k)"
   ]
  },
  {
   "cell_type": "code",
   "execution_count": 8,
   "id": "593092a9",
   "metadata": {},
   "outputs": [
    {
     "data": {
      "text/plain": [
       "(array([4., 4., 4., 4.]),\n",
       " array([35, 45, 55, 65, 75]),\n",
       " <BarContainer object of 4 artists>)"
      ]
     },
     "execution_count": 8,
     "metadata": {},
     "output_type": "execute_result"
    },
    {
     "data": {
      "image/png": "[encoded data removed]",
      "text/plain": [
       "<Figure size 432x288 with 1 Axes>"
      ]
     },
     "metadata": {
      "needs_background": "light"
     },
     "output_type": "display_data"
    }
   ],
   "source": [
    "plt.hist(x,bins=y,rwidth=0.85)"
   ]
  },
  {
   "cell_type": "code",
   "execution_count": 12,
   "id": "5affbe15",
   "metadata": {},
   "outputs": [
    {
     "data": {
      "text/plain": [
       "(array([0.025, 0.025, 0.025, 0.025]),\n",
       " array([35, 45, 55, 65, 75]),\n",
       " <BarContainer object of 4 artists>)"
      ]
     },
     "execution_count": 12,
     "metadata": {},
     "output_type": "execute_result"
    },
    {
     "data": {
      "image/png": "[encoded data removed]",
      "text/plain": [
       "<Figure size 432x288 with 1 Axes>"
      ]
     },
     "metadata": {
      "needs_background": "light"
     },
     "output_type": "display_data"
    }
   ],
   "source": [
    "plt.hist(x,bins=y,rwidth=0.85,density=1)"
   ]
  },
  {
   "cell_type": "code",
   "execution_count": 14,
   "id": "c47ba2d6",
   "metadata": {},
   "outputs": [
    {
     "data": {
      "text/plain": [
       "(array([0.25, 0.5 , 0.75, 1.  ]),\n",
       " array([35, 45, 55, 65, 75]),\n",
       " <BarContainer object of 4 artists>)"
      ]
     },
     "execution_count": 14,
     "metadata": {},
     "output_type": "execute_result"
    },
    {
     "data": {
      "image/png": "[encoded data removed]",
      "text/plain": [
       "<Figure size 432x288 with 1 Axes>"
      ]
     },
     "metadata": {
      "needs_background": "light"
     },
     "output_type": "display_data"
    }
   ],
   "source": [
    "plt.hist(x,bins=y,rwidth=0.85,density=1,cumulative=1)"
   ]
  },
  {
   "cell_type": "code",
   "execution_count": 15,
   "id": "b3b7abce",
   "metadata": {},
   "outputs": [
    {
     "name": "stdout",
     "output_type": "stream",
     "text": [
      "    Waga\n",
      "0     53\n",
      "1     56\n",
      "2     57\n",
      "3     58\n",
      "4     59\n",
      "5     61\n",
      "6     61\n",
      "7     61\n",
      "8     61\n",
      "9     62\n",
      "10    62\n",
      "11    63\n",
      "12    63\n",
      "13    64\n",
      "14    64\n",
      "15    65\n",
      "16    65\n",
      "17    65\n",
      "18    65\n",
      "19    66\n",
      "20    66\n",
      "21    66\n",
      "22    66\n",
      "23    67\n",
      "24    67\n",
      "25    68\n",
      "26    68\n",
      "27    68\n",
      "28    69\n",
      "29    69\n",
      "30    70\n",
      "31    71\n",
      "32    71\n",
      "33    73\n",
      "34    73\n",
      "35    74\n",
      "36    74\n",
      "37    76\n",
      "38    78\n",
      "39    79\n"
     ]
    }
   ],
   "source": [
    "#zad 8 zestaw 4\n",
    "waga=pd.read_excel(r'C:\\Users\\olalu\\OneDrive\\Pulpit\\analiza statystyczna\\Waga.xlsx')\n",
    "print(waga)"
   ]
  },
  {
   "cell_type": "code",
   "execution_count": 23,
   "id": "8dc683e2",
   "metadata": {},
   "outputs": [
    {
     "name": "stdout",
     "output_type": "stream",
     "text": [
      "66.1 66.0 5.908707177786062 0    61\n",
      "1    65\n",
      "2    66\n",
      "dtype: int64\n",
      "6.324555320336759\n"
     ]
    }
   ],
   "source": [
    "from math import sqrt\n",
    "srednia=waga['Waga'].mean()\n",
    "mediana=waga['Waga'].median()\n",
    "odchylenie=waga['Waga'].std()\n",
    "moda=waga['Waga'].mode()\n",
    "print(srednia,mediana,odchylenie,moda)\n",
    "#liczba klas\n",
    "n=40\n",
    "k=sqrt(n)\n",
    "print(k)"
   ]
  },
  {
   "cell_type": "code",
   "execution_count": 18,
   "id": "158f29a4",
   "metadata": {},
   "outputs": [
    {
     "data": {
      "image/png": "[encoded data removed]",
      "text/plain": [
       "<Figure size 432x288 with 1 Axes>"
      ]
     },
     "metadata": {
      "needs_background": "light"
     },
     "output_type": "display_data"
    }
   ],
   "source": [
    "waga.hist('Waga',bins=[50,55,60,65,70,75,80])\n",
    "plt.show()"
   ]
  },
  {
   "cell_type": "code",
   "execution_count": 19,
   "id": "f53e7fb4",
   "metadata": {},
   "outputs": [
    {
     "data": {
      "image/png": "[encoded data removed]",
      "text/plain": [
       "<Figure size 432x288 with 1 Axes>"
      ]
     },
     "metadata": {
      "needs_background": "light"
     },
     "output_type": "display_data"
    }
   ],
   "source": [
    "waga.hist('Waga',bins=[50,55,60,65,70,75,80],density=1)\n",
    "plt.show()"
   ]
  },
  {
   "cell_type": "code",
   "execution_count": 20,
   "id": "e6c65444",
   "metadata": {},
   "outputs": [
    {
     "data": {
      "image/png": "[encoded data removed]",
      "text/plain": [
       "<Figure size 432x288 with 1 Axes>"
      ]
     },
     "metadata": {
      "needs_background": "light"
     },
     "output_type": "display_data"
    }
   ],
   "source": [
    "waga.hist('Waga',bins=[50,55,60,65,70,75,80],density=1,cumulative=1)\n",
    "plt.show()"
   ]
  },
  {
   "cell_type": "code",
   "execution_count": 24,
   "id": "302918ab",
   "metadata": {},
   "outputs": [
    {
     "name": "stdout",
     "output_type": "stream",
     "text": [
      "62.0\n",
      "69.25\n",
      "66.0\n",
      "26\n",
      "7.25\n",
      "0.08939042629025813\n"
     ]
    }
   ],
   "source": [
    "#kwantyl dolny,gorny,rozstep,rozstep kwartylowy,wspolczynnik zmiennosci sredniej\n",
    "q1=waga['Waga'].quantile(0.25)\n",
    "print(q1)\n",
    "q3=waga['Waga'].quantile(0.75)\n",
    "print(q3)\n",
    "q2=waga['Waga'].quantile(0.5)\n",
    "print(q2)\n",
    "rozstep=waga['Waga'].max()-waga['Waga'].min()\n",
    "print(rozstep)\n",
    "rk=q3-q1\n",
    "print(rk)\n",
    "wzs=odchylenie/srednia\n",
    "print(wzs)"
   ]
  },
  {
   "cell_type": "code",
   "execution_count": 25,
   "id": "d85c2a3a",
   "metadata": {},
   "outputs": [],
   "source": [
    "#zestaw 4 zad 10"
   ]
  },
  {
   "cell_type": "code",
   "execution_count": 26,
   "id": "c5b63099",
   "metadata": {},
   "outputs": [
    {
     "name": "stdout",
     "output_type": "stream",
     "text": [
      "    ID  Dni hospitalizacji  Wiek Płeć  Temperatura Antybiotyk  \\\n",
      "0    1                   5    30    K         37.2          N   \n",
      "1    2                  10    73    K         36.7          N   \n",
      "2    3                   6    40    K         37.2          N   \n",
      "3    4                  11    47    K         36.8          N   \n",
      "4    5                   5    25    K         36.9          N   \n",
      "5    6                  14    82    M         36.0          T   \n",
      "6    7                  30    60    M         37.5          T   \n",
      "7    8                  11    56    K         37.0          N   \n",
      "8    9                  17    43    K         36.7          N   \n",
      "9   10                   3    50    M         36.7          N   \n",
      "10  11                   9    59    K         36.4          N   \n",
      "11  12                   3     4    M         36.6          N   \n",
      "12  13                   8    22    K         37.5          T   \n",
      "13  14                   8    33    K         36.9          T   \n",
      "14  15                   5    20    K         36.9          N   \n",
      "15  16                   5    32    M         37.2          N   \n",
      "16  17                   7    36    M         37.3          T   \n",
      "17  18                   4    69    M         36.7          N   \n",
      "18  19                   3    47    M         36.1          T   \n",
      "19  20                   7    22    M         36.8          N   \n",
      "20  21                   9    11    M         36.8          N   \n",
      "21  22                  11    19    M         37.0          T   \n",
      "22  23                  11    67    K         36.4          N   \n",
      "23  24                   9    43    K         37.0          N   \n",
      "24  25                   4    41    K         36.7          N   \n",
      "\n",
      "   Kultury bakterii  WBC  \n",
      "0                 N    8  \n",
      "1                 T    5  \n",
      "2                 N   12  \n",
      "3                 N    4  \n",
      "4                 N   11  \n",
      "5                 N    6  \n",
      "6                 T    8  \n",
      "7                 N    7  \n",
      "8                 N    7  \n",
      "9                 T   12  \n",
      "10                T    7  \n",
      "11                N    3  \n",
      "12                N   11  \n",
      "13                T   14  \n",
      "14                T   11  \n",
      "15                N    9  \n",
      "16                N    6  \n",
      "17                N    6  \n",
      "18                N    5  \n",
      "19                N    6  \n",
      "20                N   10  \n",
      "21                N   14  \n",
      "22                N    4  \n",
      "23                N    5  \n",
      "24                N    5  \n"
     ]
    }
   ],
   "source": [
    "antybiotyki=pd.read_excel(r'C:\\Users\\olalu\\OneDrive\\Pulpit\\analiza statystyczna\\Antybiotyki2.xls','Dane 2')\n",
    "print(antybiotyki)"
   ]
  },
  {
   "cell_type": "code",
   "execution_count": 27,
   "id": "f732a674",
   "metadata": {},
   "outputs": [
    {
     "name": "stdout",
     "output_type": "stream",
     "text": [
      "    Dni hospitalizacji  Wiek  Temperatura  WBC\n",
      "0                    5    30         37.2    8\n",
      "1                   10    73         36.7    5\n",
      "2                    6    40         37.2   12\n",
      "3                   11    47         36.8    4\n",
      "4                    5    25         36.9   11\n",
      "5                   14    82         36.0    6\n",
      "6                   30    60         37.5    8\n",
      "7                   11    56         37.0    7\n",
      "8                   17    43         36.7    7\n",
      "9                    3    50         36.7   12\n",
      "10                   9    59         36.4    7\n",
      "11                   3     4         36.6    3\n",
      "12                   8    22         37.5   11\n",
      "13                   8    33         36.9   14\n",
      "14                   5    20         36.9   11\n",
      "15                   5    32         37.2    9\n",
      "16                   7    36         37.3    6\n",
      "17                   4    69         36.7    6\n",
      "18                   3    47         36.1    5\n",
      "19                   7    22         36.8    6\n",
      "20                   9    11         36.8   10\n",
      "21                  11    19         37.0   14\n",
      "22                  11    67         36.4    4\n",
      "23                   9    43         37.0    5\n",
      "24                   4    41         36.7    5\n"
     ]
    }
   ],
   "source": [
    "dane=antybiotyki[['Dni hospitalizacji','Wiek','Temperatura','WBC']]\n",
    "print(dane)"
   ]
  },
  {
   "cell_type": "code",
   "execution_count": 29,
   "id": "78ec05be",
   "metadata": {},
   "outputs": [
    {
     "name": "stdout",
     "output_type": "stream",
     "text": [
      "Dni hospitalizacji     8.60\n",
      "Wiek                  41.24\n",
      "Temperatura           36.84\n",
      "WBC                    7.84\n",
      "dtype: float64\n",
      "Dni hospitalizacji     8.0\n",
      "Wiek                  41.0\n",
      "Temperatura           36.8\n",
      "WBC                    7.0\n",
      "dtype: float64\n",
      "Dni hospitalizacji     5.715476\n",
      "Wiek                  20.102404\n",
      "Temperatura            0.374166\n",
      "WBC                    3.210400\n",
      "dtype: float64\n",
      "Dni hospitalizacji    27.0\n",
      "Wiek                  78.0\n",
      "Temperatura            1.5\n",
      "WBC                   11.0\n",
      "dtype: float64\n"
     ]
    }
   ],
   "source": [
    "srednia=dane.mean()\n",
    "print(srednia)\n",
    "mediana=dane.median()\n",
    "print(mediana)\n",
    "s=dane.std()\n",
    "print(s)\n",
    "rozstep=dane.max()-dane.min()\n",
    "print(rozstep)"
   ]
  },
  {
   "cell_type": "code",
   "execution_count": 32,
   "id": "0d32c4b7",
   "metadata": {},
   "outputs": [],
   "source": [
    "otrzym=dane.loc[antybiotyki['Antybiotyk']=='T']\n",
    "notrzym=dane.loc[antybiotyki['Antybiotyk']=='N']"
   ]
  },
  {
   "cell_type": "code",
   "execution_count": 34,
   "id": "3b6504a7",
   "metadata": {},
   "outputs": [
    {
     "name": "stdout",
     "output_type": "stream",
     "text": [
      "Dni hospitalizacji    11.571429\n",
      "Wiek                  42.714286\n",
      "Temperatura           36.900000\n",
      "WBC                    9.142857\n",
      "dtype: float64 Dni hospitalizacji     8.0\n",
      "Wiek                  36.0\n",
      "Temperatura           37.0\n",
      "WBC                    8.0\n",
      "dtype: float64 Dni hospitalizacji     8.810167\n",
      "Wiek                  22.328713\n",
      "Temperatura            0.624500\n",
      "WBC                    3.848314\n",
      "dtype: float64 Dni hospitalizacji    27.0\n",
      "Wiek                  63.0\n",
      "Temperatura            1.5\n",
      "WBC                    9.0\n",
      "dtype: float64\n"
     ]
    }
   ],
   "source": [
    "srednia=otrzym.mean()\n",
    "mediana=otrzym.median()\n",
    "odchylenie=otrzym.std()\n",
    "rozstep=otrzym.max()-otrzym.min()\n",
    "print(srednia,mediana,odchylenie,rozstep)"
   ]
  },
  {
   "cell_type": "code",
   "execution_count": 35,
   "id": "9b2435ae",
   "metadata": {},
   "outputs": [
    {
     "data": {
      "image/png": "[encoded data removed]",
      "text/plain": [
       "<Figure size 432x288 with 1 Axes>"
      ]
     },
     "metadata": {
      "needs_background": "light"
     },
     "output_type": "display_data"
    },
    {
     "data": {
      "image/png": "[encoded data removed]",
      "text/plain": [
       "<Figure size 432x288 with 1 Axes>"
      ]
     },
     "metadata": {
      "needs_background": "light"
     },
     "output_type": "display_data"
    }
   ],
   "source": [
    "babki=dane.loc[antybiotyki['Płeć']=='K']\n",
    "chlopy=dane.loc[antybiotyki['Płeć']=='M']\n",
    "babki['WBC'].hist()\n",
    "plt.show()\n",
    "chlopy['WBC'].hist()\n",
    "plt.show()"
   ]
  },
  {
   "cell_type": "code",
   "execution_count": 37,
   "id": "4180f6a4",
   "metadata": {},
   "outputs": [
    {
     "data": {
      "image/png": "[encoded data removed]",
      "text/plain": [
       "<Figure size 432x288 with 1 Axes>"
      ]
     },
     "metadata": {
      "needs_background": "light"
     },
     "output_type": "display_data"
    }
   ],
   "source": [
    "dane['Wiek'].hist()\n",
    "plt.show()"
   ]
  },
  {
   "cell_type": "code",
   "execution_count": 38,
   "id": "319b8750",
   "metadata": {},
   "outputs": [
    {
     "name": "stdout",
     "output_type": "stream",
     "text": [
      "    ID  Dni hospitalizacji  Wiek Płeć  Temperatura Antybiotyk  \\\n",
      "0    1                   5    30    K         37.2          N   \n",
      "1    2                  10    73    K         36.7          N   \n",
      "2    3                   6    40    K         37.2          N   \n",
      "3    4                  11    47    K         36.8          N   \n",
      "4    5                   5    25    K         36.9          N   \n",
      "5    6                  14    82    M         36.0          T   \n",
      "6    7                  30    60    M         37.5          T   \n",
      "7    8                  11    56    K         37.0          N   \n",
      "8    9                  17    43    K         36.7          N   \n",
      "9   10                   3    50    M         36.7          N   \n",
      "10  11                   9    59    K         36.4          N   \n",
      "11  12                   3     4    M         36.6          N   \n",
      "12  13                   8    22    K         37.5          T   \n",
      "13  14                   8    33    K         36.9          T   \n",
      "14  15                   5    20    K         36.9          N   \n",
      "15  16                   5    32    M         37.2          N   \n",
      "16  17                   7    36    M         37.3          T   \n",
      "17  18                   4    69    M         36.7          N   \n",
      "18  19                   3    47    M         36.1          T   \n",
      "19  20                   7    22    M         36.8          N   \n",
      "20  21                   9    11    M         36.8          N   \n",
      "21  22                  11    19    M         37.0          T   \n",
      "22  23                  11    67    K         36.4          N   \n",
      "23  24                   9    43    K         37.0          N   \n",
      "24  25                   4    41    K         36.7          N   \n",
      "\n",
      "   Kultury bakterii  WBC  \n",
      "0                 N    8  \n",
      "1                 T    5  \n",
      "2                 N   12  \n",
      "3                 N    4  \n",
      "4                 N   11  \n",
      "5                 N    6  \n",
      "6                 T    8  \n",
      "7                 N    7  \n",
      "8                 N    7  \n",
      "9                 T   12  \n",
      "10                T    7  \n",
      "11                N    3  \n",
      "12                N   11  \n",
      "13                T   14  \n",
      "14                T   11  \n",
      "15                N    9  \n",
      "16                N    6  \n",
      "17                N    6  \n",
      "18                N    5  \n",
      "19                N    6  \n",
      "20                N   10  \n",
      "21                N   14  \n",
      "22                N    4  \n",
      "23                N    5  \n",
      "24                N    5  \n"
     ]
    },
    {
     "data": {
      "image/png": "[encoded data removed]",
      "text/plain": [
       "<Figure size 432x288 with 2 Axes>"
      ]
     },
     "metadata": {
      "needs_background": "light"
     },
     "output_type": "display_data"
    }
   ],
   "source": [
    "dane=pd.read_excel(r'C:\\Users\\olalu\\OneDrive\\Pulpit\\analiza statystyczna\\Antybiotyki2.xls',sheet_name='Dane 2')\n",
    "print(dane)\n",
    "dane.hist('WBC',by='Płeć',bins=5)\n",
    "plt.show()"
   ]
  },
  {
   "cell_type": "code",
   "execution_count": 40,
   "id": "22f081c7",
   "metadata": {},
   "outputs": [
    {
     "name": "stdout",
     "output_type": "stream",
     "text": [
      "Dni hospitalizacji     8.500000\n",
      "Wiek                  42.785714\n",
      "Temperatura           36.878571\n",
      "WBC                    7.928571\n",
      "dtype: float64\n",
      "Dni hospitalizacji     8.500000\n",
      "Wiek                  42.785714\n",
      "Temperatura           36.878571\n",
      "WBC                    7.928571\n",
      "dtype: float64\n",
      "Dni hospitalizacji     3.480716\n",
      "Wiek                  16.390328\n",
      "Temperatura            0.301735\n",
      "WBC                    3.292516\n",
      "dtype: float64\n",
      "Dni hospitalizacji    13.0\n",
      "Wiek                  53.0\n",
      "Temperatura            1.1\n",
      "WBC                   10.0\n",
      "dtype: float64\n"
     ]
    }
   ],
   "source": [
    "srednia=babki.mean()\n",
    "print(srednia)\n",
    "mediana=babki.mean()\n",
    "print(mediana)\n",
    "odchylenie=babki.std()\n",
    "print(odchylenie)\n",
    "rozstep=babki.max()-babki.min()\n",
    "print(rozstep)"
   ]
  },
  {
   "cell_type": "code",
   "execution_count": 41,
   "id": "c9131e1d",
   "metadata": {},
   "outputs": [],
   "source": [
    "#zestaw 4 zad 12"
   ]
  },
  {
   "cell_type": "code",
   "execution_count": 42,
   "id": "3ff45c3b",
   "metadata": {},
   "outputs": [
    {
     "name": "stdout",
     "output_type": "stream",
     "text": [
      "    Waga  Wzrost\n",
      "0   83.9     185\n",
      "1   99.0     180\n",
      "2   63.8     168\n",
      "3   71.3     173\n",
      "4   65.3     175\n",
      "5   79.6     183\n",
      "6   70.3     184\n",
      "7   69.2     174\n",
      "8   56.4     164\n",
      "9   66.2     169\n",
      "10  88.7     205\n",
      "11  59.7     161\n",
      "12  64.6     177\n",
      "13  78.8     174\n"
     ]
    }
   ],
   "source": [
    "dane2=pd.read_excel(r'C:\\Users\\olalu\\OneDrive\\Pulpit\\analiza statystyczna\\WagaWzrost.xls')\n",
    "print(dane2)"
   ]
  },
  {
   "cell_type": "code",
   "execution_count": 43,
   "id": "dd8bad4f",
   "metadata": {},
   "outputs": [
    {
     "name": "stdout",
     "output_type": "stream",
     "text": [
      "72.62857142857143\n",
      "69.75\n",
      "11.943355318491378\n",
      "0.16444431005003862\n",
      "0.10483870967741936\n"
     ]
    }
   ],
   "source": [
    "srednia1=dane2['Waga'].mean()\n",
    "print(srednia1)\n",
    "mediana1=dane2['Waga'].median()\n",
    "print(mediana1)\n",
    "odchylenie1=dane2['Waga'].std()\n",
    "print(odchylenie1)\n",
    "wzs=odchylenie1/srednia1\n",
    "print(wzs)\n",
    "q1=dane2['Waga'].quantile(0.25)\n",
    "q2=dane2['Waga'].quantile(0.5)\n",
    "q3=dane2['Waga'].quantile(0.75)\n",
    "#odchylenie cwiartkowe/2\n",
    "q_waga=(q3-q1)/2\n",
    "#wspolczynnik zmiennosci dla mediany\n",
    "VMe=q_waga/q2\n",
    "print(VMe)"
   ]
  },
  {
   "cell_type": "code",
   "execution_count": 44,
   "id": "edf63b01",
   "metadata": {},
   "outputs": [],
   "source": [
    "#zestaw 4 zad 14"
   ]
  },
  {
   "cell_type": "code",
   "execution_count": 45,
   "id": "6223ba6b",
   "metadata": {},
   "outputs": [
    {
     "name": "stdout",
     "output_type": "stream",
     "text": [
      "    Proba 1  Proba 2  Proba 3  Proba 4\n",
      "0        67       31      102     12.1\n",
      "1        70       43       55     12.1\n",
      "2        63       30       70     12.4\n",
      "3        65       30       95     12.1\n",
      "4        68       38       73     12.1\n",
      "5        60       26       79     12.2\n",
      "6        70       29       60     12.2\n",
      "7        64       55       73     12.2\n",
      "8        69       46       89     11.9\n",
      "9        61       26       85     12.2\n",
      "10       66       29       72     12.3\n",
      "11       65       57       92     12.3\n",
      "12       71       34       76     11.7\n",
      "13       62       34       93     12.3\n",
      "14       66       36       76     12.3\n",
      "15       68       40       97     12.4\n",
      "16       64       28       10     12.4\n",
      "17       67       26       70     12.1\n",
      "18       62       66       85     12.4\n",
      "19       66       63       25     12.4\n",
      "20       65       30       83     12.5\n",
      "21       63       33       58     11.8\n",
      "22       66       24       10     12.5\n",
      "23       65       35       92     12.5\n",
      "24       63       34       82     12.5\n",
      "25       69       40       87     11.6\n",
      "26       62       24      104     11.6\n",
      "27       67       29       75     12.0\n",
      "28       59       24       80     11.6\n",
      "29       66       27       66     11.6\n",
      "30       65       35       93     11.7\n",
      "31       63       33       90     12.3\n",
      "32       65       75       84     11.7\n",
      "33       60       38       73     11.7\n",
      "34       67       34       98     11.7\n",
      "35       64       85       79     11.8\n",
      "36       68       29       35     12.5\n",
      "37       61       40       71     11.8\n",
      "38       69       41       90     11.8\n",
      "39       65       35       71     11.8\n",
      "40       62       26       63     11.9\n",
      "41       67       34       58     11.9\n",
      "42       70       19       82     11.9\n",
      "43       64       23       72     12.2\n",
      "44       63       28       93     11.9\n",
      "45       68       26       44     12.0\n",
      "46       64       31       65     11.9\n",
      "47       65       25       77     12.0\n",
      "48       61       22       81     12.0\n",
      "49       66       28       77     12.0\n"
     ]
    }
   ],
   "source": [
    "dane3=pd.read_excel(r'C:\\Users\\olalu\\OneDrive\\Pulpit\\analiza statystyczna\\Rozkłady.xlsx')\n",
    "print(dane3)"
   ]
  },
  {
   "cell_type": "code",
   "execution_count": 46,
   "id": "798286c4",
   "metadata": {},
   "outputs": [
    {
     "name": "stdout",
     "output_type": "stream",
     "text": [
      "65.12 65.0 -0.020323180421975836\n"
     ]
    }
   ],
   "source": [
    "wzrost=dane3['Proba 1']\n",
    "srednia=wzrost.mean()\n",
    "mediana=wzrost.median()\n",
    "skosnosc=wzrost.skew()\n",
    "print(srednia,mediana,skosnosc)"
   ]
  },
  {
   "cell_type": "code",
   "execution_count": 48,
   "id": "df2c29c8",
   "metadata": {},
   "outputs": [
    {
     "data": {
      "image/png": "[encoded data removed]",
      "text/plain": [
       "<Figure size 432x288 with 1 Axes>"
      ]
     },
     "metadata": {
      "needs_background": "light"
     },
     "output_type": "display_data"
    }
   ],
   "source": [
    "plt.hist(wzrost)\n",
    "plt.axvline(srednia,color='red',label='srednia')\n",
    "plt.axvline(mediana,color='yellow',label='mediana')\n",
    "plt.legend()\n",
    "plt.xlabel('wzrost')\n",
    "plt.show()"
   ]
  },
  {
   "cell_type": "code",
   "execution_count": 49,
   "id": "d4fb7c23",
   "metadata": {},
   "outputs": [
    {
     "name": "stdout",
     "output_type": "stream",
     "text": [
      "   Grupy  APTT\n",
      "0      I  20.7\n",
      "1      I  31.2\n",
      "2      I  24.9\n",
      "3      I  22.9\n",
      "4      I  52.4\n",
      "5      I  29.6\n",
      "6      I  38.3\n",
      "7      I  29.0\n",
      "8      I  20.3\n",
      "9      I  20.9\n",
      "10     I  34.4\n",
      "11     I  28.5\n",
      "12     I  30.1\n",
      "13     I  28.4\n",
      "14     I  46.1\n",
      "15     I  56.6\n",
      "16     I  22.8\n",
      "17     I  33.9\n",
      "18     I  35.5\n",
      "19     I  35.0\n",
      "20     I  22.5\n",
      "21     I  44.8\n",
      "22     I  39.7\n",
      "23     I  39.7\n",
      "24     I  22.8\n",
      "25     I  46.1\n",
      "26     I  29.7\n",
      "27     I  41.6\n",
      "28     I  45.3\n",
      "29     I  54.7\n",
      "30    II  23.9\n",
      "31    II  53.7\n",
      "32    II  23.1\n",
      "33    II  38.9\n",
      "34    II  41.3\n",
      "35    II  23.2\n",
      "36    II  31.6\n",
      "37    II  34.6\n",
      "38    II  24.2\n",
      "39    II  23.7\n",
      "40    II  56.2\n",
      "41    II  24.6\n",
      "42    II  41.3\n",
      "43    II  21.1\n",
      "44    II  35.7\n",
      "45    II  30.2\n",
      "46    II  49.8\n",
      "47    II  34.1\n",
      "48    II  40.7\n",
      "49    II  29.2\n",
      "50    II  27.2\n",
      "51    II  22.6\n",
      "52    II  26.7\n",
      "53    II  39.8\n",
      "54    II  27.4\n",
      "55    II  21.8\n",
      "56    II  48.9\n",
      "57    II  20.1\n",
      "58    II  21.4\n",
      "59    II  23.2\n"
     ]
    }
   ],
   "source": [
    "#zestaw 4 zad 13 ramka wast\n",
    "dane=pd.read_excel(r'C:\\Users\\olalu\\OneDrive\\Pulpit\\analiza statystyczna\\APTT.xls')\n",
    "print(dane)"
   ]
  },
  {
   "cell_type": "code",
   "execution_count": 50,
   "id": "48ffd517",
   "metadata": {},
   "outputs": [
    {
     "name": "stderr",
     "output_type": "stream",
     "text": [
      "C:\\Users\\olalu\\anaconda3\\lib\\site-packages\\seaborn\\_decorators.py:36: FutureWarning: Pass the following variable as a keyword arg: x. From version 0.12, the only valid positional argument will be `data`, and passing other arguments without an explicit keyword will result in an error or misinterpretation.\n",
      "  warnings.warn(\n"
     ]
    },
    {
     "data": {
      "image/png": "[encoded data removed]",
      "text/plain": [
       "<Figure size 432x288 with 1 Axes>"
      ]
     },
     "metadata": {
      "needs_background": "light"
     },
     "output_type": "display_data"
    }
   ],
   "source": [
    "sns.boxplot(dane['APTT'])\n",
    "plt.show()"
   ]
  },
  {
   "cell_type": "code",
   "execution_count": 51,
   "id": "07087916",
   "metadata": {},
   "outputs": [
    {
     "name": "stderr",
     "output_type": "stream",
     "text": [
      "C:\\Users\\olalu\\anaconda3\\lib\\site-packages\\seaborn\\_decorators.py:36: FutureWarning: Pass the following variables as keyword args: x, y. From version 0.12, the only valid positional argument will be `data`, and passing other arguments without an explicit keyword will result in an error or misinterpretation.\n",
      "  warnings.warn(\n"
     ]
    },
    {
     "data": {
      "image/png": "[encoded data removed]",
      "text/plain": [
       "<Figure size 432x288 with 1 Axes>"
      ]
     },
     "metadata": {},
     "output_type": "display_data"
    }
   ],
   "source": [
    "sns.set(style='whitegrid')\n",
    "sns.boxplot(dane['Grupy'],dane['APTT'],orient='v',order=['II','I'])\n",
    "plt.show()"
   ]
  },
  {
   "cell_type": "code",
   "execution_count": 52,
   "id": "299ef1d6",
   "metadata": {},
   "outputs": [],
   "source": [
    "#zestaw 5 zad 1"
   ]
  },
  {
   "cell_type": "code",
   "execution_count": 53,
   "id": "080e2f7b",
   "metadata": {},
   "outputs": [
    {
     "name": "stdout",
     "output_type": "stream",
     "text": [
      "1.6448536269514722\n"
     ]
    }
   ],
   "source": [
    "alfa=0.10\n",
    "z=stats.norm.ppf(1-alfa/2,0,1)\n",
    "print(z)"
   ]
  },
  {
   "cell_type": "code",
   "execution_count": 54,
   "id": "1a34fb1b",
   "metadata": {},
   "outputs": [],
   "source": [
    "#zestaw 5 zad 2"
   ]
  },
  {
   "cell_type": "code",
   "execution_count": 55,
   "id": "d987ae12",
   "metadata": {},
   "outputs": [
    {
     "name": "stdout",
     "output_type": "stream",
     "text": [
      "1.6448536269514722 2.163948096156062\n"
     ]
    },
    {
     "data": {
      "text/plain": [
       "(122.83605190384394, 127.16394809615606)"
      ]
     },
     "execution_count": 55,
     "metadata": {},
     "output_type": "execute_result"
    }
   ],
   "source": [
    "n=130\n",
    "srednia=125\n",
    "s=15\n",
    "alfa=0.10\n",
    "z=stats.norm.ppf(1-alfa/2,0,1)\n",
    "delta=z*s/sqrt(n)\n",
    "print(z,delta)\n",
    "(srednia-delta,srednia+delta)"
   ]
  },
  {
   "cell_type": "code",
   "execution_count": 56,
   "id": "b84f164b",
   "metadata": {},
   "outputs": [],
   "source": [
    "#zestaw 5 zad 3"
   ]
  },
  {
   "cell_type": "code",
   "execution_count": 58,
   "id": "0647157c",
   "metadata": {},
   "outputs": [
    {
     "name": "stdout",
     "output_type": "stream",
     "text": [
      "0.5422176684690384\n",
      "2.97684273411266\n",
      "1.614096726689564\n"
     ]
    },
    {
     "data": {
      "text/plain": [
       "(117.38590327331043, 120.61409672668957)"
      ]
     },
     "execution_count": 58,
     "metadata": {},
     "output_type": "execute_result"
    }
   ],
   "source": [
    "n=15\n",
    "srednia=119\n",
    "s=2.1\n",
    "alfa=0.01\n",
    "df=n-1\n",
    "SEM=s/sqrt(n)\n",
    "print(SEM)\n",
    "t_alfa=stats.t.ppf(1-alfa/2,df)\n",
    "print(t_alfa)\n",
    "delta=t_alfa*s/sqrt(n)\n",
    "print(delta)\n",
    "(srednia-delta,srednia+delta)"
   ]
  },
  {
   "cell_type": "code",
   "execution_count": 59,
   "id": "686b12b0",
   "metadata": {},
   "outputs": [],
   "source": [
    "#zestaw 5 zad 4"
   ]
  },
  {
   "cell_type": "code",
   "execution_count": 62,
   "id": "fad5eb25",
   "metadata": {},
   "outputs": [
    {
     "name": "stdout",
     "output_type": "stream",
     "text": [
      "1.959963984540054 0.5514705882352942\n"
     ]
    },
    {
     "data": {
      "text/plain": [
       "(0.4678842542985552, 0.6350569221720331)"
      ]
     },
     "execution_count": 62,
     "metadata": {},
     "output_type": "execute_result"
    }
   ],
   "source": [
    "n=136\n",
    "r=75\n",
    "phat=r/n\n",
    "alfa=0.05\n",
    "z=stats.norm.ppf(1-alfa/2,0,1)\n",
    "print(z,phat)\n",
    "delta=z*sqrt(phat*(1-phat)/n)\n",
    "(phat-delta,phat+delta)"
   ]
  },
  {
   "cell_type": "code",
   "execution_count": 63,
   "id": "160cfa8a",
   "metadata": {},
   "outputs": [],
   "source": [
    "#zestaw 5 zad 5"
   ]
  },
  {
   "cell_type": "code",
   "execution_count": 64,
   "id": "63208c9a",
   "metadata": {},
   "outputs": [
    {
     "name": "stdout",
     "output_type": "stream",
     "text": [
      "216.08205866404455\n"
     ]
    }
   ],
   "source": [
    "\n",
    "d=2\n",
    "alfa=0.05\n",
    "s=15\n",
    "z=stats.norm.ppf(1-alfa/2,0,1)\n",
    "delta=(z*s/d)**2\n",
    "print(delta)\n"
   ]
  },
  {
   "cell_type": "code",
   "execution_count": 65,
   "id": "442c6bab",
   "metadata": {},
   "outputs": [
    {
     "name": "stdout",
     "output_type": "stream",
     "text": [
      "384.14588206941244\n"
     ]
    }
   ],
   "source": [
    "d=0.05\n",
    "p=0.5\n",
    "alfa=0.05\n",
    "n=z**2*p*(1-p)/d**2\n",
    "print(n)"
   ]
  },
  {
   "cell_type": "code",
   "execution_count": null,
   "id": "4e0a73b2",
   "metadata": {},
   "outputs": [],
   "source": []
  }
 ],
 "metadata": {
  "kernelspec": {
   "display_name": "Python 3 (ipykernel)",
   "language": "python",
   "name": "python3"
  },
  "language_info": {
   "codemirror_mode": {
    "name": "ipython",
    "version": 3
   },
   "file_extension": ".py",
   "mimetype": "text/x-python",
   "name": "python",
   "nbconvert_exporter": "python",
   "pygments_lexer": "ipython3",
   "version": "3.9.13"
  }
 },
 "nbformat": 4,
 "nbformat_minor": 5
}
