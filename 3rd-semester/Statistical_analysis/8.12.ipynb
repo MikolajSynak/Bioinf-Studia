{
 "cells": [
  {
   "cell_type": "markdown",
   "id": "8c5389e6",
   "metadata": {},
   "source": [
    "ZESTAW 6,\n",
    "ZADANIE 1"
   ]
  },
  {
   "cell_type": "code",
   "execution_count": 19,
   "id": "2257245a",
   "metadata": {},
   "outputs": [],
   "source": [
    "from math import sqrt\n",
    "import scipy.stats as stats"
   ]
  },
  {
   "cell_type": "code",
   "execution_count": 26,
   "id": "0837b32d",
   "metadata": {},
   "outputs": [
    {
     "name": "stdout",
     "output_type": "stream",
     "text": [
      "-1.8973665961010275\n",
      "2.2621571627409915\n",
      "( 23.42321547023714 , 30.57678452976286 )\n",
      "0.09026733160785506\n",
      "0.09026733160785505\n",
      "0.09026733160785506\n"
     ]
    }
   ],
   "source": [
    "#ZAŁOŻENIE:proba pochodzi z populacji o rozkladzie normalnym\n",
    "#proba jest mala n=10<30\n",
    "srednia=27#lat,srednia w probie\n",
    "s=5#lat,odchylenie std w probie\n",
    "alpha=0.05#poziom istotnosci\n",
    "n=10\n",
    "srednia0=30#srednia w populacji\n",
    "t=(srednia-srednia0)/s*sqrt(n)#wartosc testowa t\n",
    "print(t)\n",
    "#liczba stopni swobody\n",
    "df=n-1\n",
    "#wartosc krytyczna\n",
    "wk=stats.t.ppf(1-alpha/2,df)\n",
    "print(wk)\n",
    "#wniosek:nie ma podstaw do odrzucenia hipotezy zerowej H0(t nie lezy w obszarze krytycznym)\n",
    "\n",
    "#przedzial ufnosci\n",
    "delta=wk*s/sqrt(n)\n",
    "print(\"(\",(srednia-delta),\",\",(srednia+delta),\")\")\n",
    "#wartosc P(prawdopodobienstwo statystyczne)\n",
    "p=2*stats.t.cdf(-abs(t),df)#liczysz pole na lewo od '-t' i mnozysz razy dwa i masz\n",
    "print(p)\n",
    "p2=2*(1-stats.t.cdf(abs(t),df))#to samo ale liczysz pole na prawo od 't' i mnozysz razy 2\n",
    "print(p2)\n",
    "#mozna na dwa sposoby bo rozklad t-studenta jest symetryczny wzgledem 0\n",
    "p3=2*(stats.t.sf(abs(t),df))#nowa funkcja literalnie daje pole na prawo wiec idealnie to co potrzebujemy\n",
    "print(p3)"
   ]
  },
  {
   "cell_type": "markdown",
   "id": "3a95b69c",
   "metadata": {},
   "source": [
    "ZADANIE 2"
   ]
  },
  {
   "cell_type": "code",
   "execution_count": 52,
   "id": "758c4dae",
   "metadata": {},
   "outputs": [
    {
     "name": "stdout",
     "output_type": "stream",
     "text": [
      "157.58333333333334\n",
      "24.39991927458082\n",
      "-1.0529578680083436\n",
      "1.7958848187036691\n",
      "1.7958848187036696\n",
      "0.15747042351971877\n"
     ]
    },
    {
     "data": {
      "text/plain": [
       "Ttest_1sampResult(statistic=-1.0529578680083438, pvalue=0.31494084703943753)"
      ]
     },
     "execution_count": 52,
     "metadata": {},
     "output_type": "execute_result"
    }
   ],
   "source": [
    "import statistics as st\n",
    "#ZAŁOŻENIE:proba pochodzi z populacji o rozkladzie normalnym\n",
    "#proba jest mala n=12<30\n",
    "#H0-mi0=165 mmHg\n",
    "#HA-mi<165 mmHg\n",
    "#wartosci->183, 152, 178, 157, 194, 163, 144, 114, 178, 152, 118, 158\n",
    "x=[183, 152, 178, 157, 194, 163, 144, 114, 178, 152, 118, 158]\n",
    "mi=st.mean(x)\n",
    "n=len(x)\n",
    "mi0=165\n",
    "alpha=0.05\n",
    "t=(mi-mi0)/s*sqrt(n)\n",
    "print(mi)\n",
    "s=st.stdev(x)\n",
    "print(s)\n",
    "df=n-1\n",
    "print(t)\n",
    "#wartosc krytyczna\n",
    "wk=stats.t.ppf(1-alpha,df)\n",
    "print(wk)\n",
    "#drugi sposob na to samo\n",
    "wk2=stats.t.isf(alpha,df)\n",
    "print(wk2)\n",
    "#t nie wpada w przedzial (-nieskonczonosc,-wk) wiec nie odrzucamy hipotezy zerowej\n",
    "#przedzial jest taki, bo to test lewostronny\n",
    "#liczymy p, jako ze to test lewostronny to po prostu liczysz dystrybuantę\n",
    "p=stats.t.cdf(t,df)\n",
    "print(p)\n",
    "#p>alpha wiec nie odrzucamy h0\n",
    "\n",
    "\n",
    "#jakis szybszy,latwiejszy sposob na wykonanie tego testu\n",
    "stats.ttest_1samp(x,popmean=165)\n",
    "#ttest-rozklad t studenta,1samp-proba z jednej populacji\n",
    "#statistic(jak wyprintujesz) to wartosc t, pvalue to wartosc p ale dla testu dwustronnego,\n",
    "#wiec jak robisz jednostronny to trzeba pvalue/2 podzielic"
   ]
  },
  {
   "cell_type": "markdown",
   "id": "d6c36d3e",
   "metadata": {},
   "source": [
    "ZADANIE 4"
   ]
  },
  {
   "cell_type": "code",
   "execution_count": 90,
   "id": "de8ebab1",
   "metadata": {
    "scrolled": true
   },
   "outputs": [
    {
     "name": "stdout",
     "output_type": "stream",
     "text": [
      "19.46\n",
      "17.817109410763074\n",
      "50\n",
      "-4.183004830853209\n",
      "1.6448536269514722\n",
      "1.4384063824664864e-05\n"
     ]
    },
    {
     "data": {
      "text/plain": [
       "Ttest_1sampResult(statistic=array([-4.18300483]), pvalue=array([0.00011866]))"
      ]
     },
     "execution_count": 90,
     "metadata": {},
     "output_type": "execute_result"
    },
    {
     "data": {
      "image/png": "[encoded data removed]",
      "text/plain": [
       "<Figure size 640x480 with 1 Axes>"
      ]
     },
     "metadata": {},
     "output_type": "display_data"
    }
   ],
   "source": [
    "import pandas as pd\n",
    "import matplotlib as plt\n",
    "#H0-mi=30lat\n",
    "#HA-mi<30lat\n",
    "#ZALOŻENIE:nie musi być żadnego bo proba jest duza ale spoko jak jest to z populacji o rozkladzie normalnym\n",
    "srednia0=30\n",
    "n=50\n",
    "alpha=0.05\n",
    "data=pd.read_excel('Zgony.xlsx')\n",
    "srednia=data['Wiek'].mean()\n",
    "s=data['Wiek'].std()\n",
    "print(srednia)\n",
    "print(s)\n",
    "n=data['Wiek'].count()\n",
    "print(n)\n",
    "data['Wiek'].hist()\n",
    "#wartosc testowa\n",
    "z=(srednia-srednia0)/s*sqrt(n)\n",
    "print(z)\n",
    "zalpha=stats.norm.ppf(1-alpha)\n",
    "print(zalpha)\n",
    "p=stats.norm.cdf(z)\n",
    "print(p)\n",
    "p2=stats.norm\n",
    "\n",
    "#inna metoda\n",
    "stats.ttest_1samp(data,popmean=30)\n",
    "\n",
    "#odrzucamy hipotezę zerową bo p<alphy\n"
   ]
  },
  {
   "cell_type": "markdown",
   "id": "d3e44178",
   "metadata": {},
   "source": [
    "ZADANIE 5"
   ]
  },
  {
   "cell_type": "code",
   "execution_count": 98,
   "id": "f4599c0d",
   "metadata": {},
   "outputs": [
    {
     "name": "stdout",
     "output_type": "stream",
     "text": [
      "0.0425531914893617\n",
      "-0.7027382054807677\n",
      "1.6448536269514722\n",
      "0.24110945675774137\n"
     ]
    }
   ],
   "source": [
    "#p-frakcja w probie\n",
    "alpha=0.05\n",
    "n=423\n",
    "r=18\n",
    "p=r/n\n",
    "print(p)\n",
    "#H0 p=0.05   to mamy stad ze moze ktos badal wczesniej i mu wyszlo tyle i patrzymy czy moze spadlo albo cos\n",
    "#HA p<0.05\n",
    "#test jednostronny(lewostronny)\n",
    "#wartosc testowa\n",
    "p0=0.05\n",
    "z=(p-p0)/sqrt(p0*(1-p0)/n)\n",
    "print(z)\n",
    "#wartosc krytyczna\n",
    "zalpha=stats.norm.ppf(1-alpha)\n",
    "print(zalpha)\n",
    "q=stats.norm.cdf(z)#wartosc p\n",
    "print(q)\n",
    "#z sie nie miesci w obszrze (-nieskonczonosc,-zalpha), wiec nie odrzucamy H0\n",
    "#wartosc p jest wieksze niz alpha wiec z tego tez wynika ze nie ma podstaw do odrzucenia hipotezy zerowej"
   ]
  },
  {
   "cell_type": "code",
   "execution_count": null,
   "id": "1849fbb6",
   "metadata": {},
   "outputs": [],
   "source": []
  }
 ],
 "metadata": {
  "kernelspec": {
   "display_name": "Python 3 (ipykernel)",
   "language": "python",
   "name": "python3"
  },
  "language_info": {
   "codemirror_mode": {
    "name": "ipython",
    "version": 3
   },
   "file_extension": ".py",
   "mimetype": "text/x-python",
   "name": "python",
   "nbconvert_exporter": "python",
   "pygments_lexer": "ipython3",
   "version": "3.9.13"
  }
 },
 "nbformat": 4,
 "nbformat_minor": 5
}
