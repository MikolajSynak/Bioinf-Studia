{
 "cells": [
  {
   "cell_type": "markdown",
   "id": "fb9a1986",
   "metadata": {},
   "source": [
    "# Zestaw 3"
   ]
  },
  {
   "cell_type": "markdown",
   "id": "65d41bf1",
   "metadata": {},
   "source": [
    "### zad 8"
   ]
  },
  {
   "cell_type": "code",
   "execution_count": 22,
   "id": "c70bf3a1",
   "metadata": {},
   "outputs": [
    {
     "name": "stdout",
     "output_type": "stream",
     "text": [
      "Q1 jest równy 11.813775624509796\n",
      "Q3 jest równy 15.186224375490204\n",
      "P90 jest równy 16.7038789138615\n"
     ]
    }
   ],
   "source": [
    "import scipy.stats as stats\n",
    "\n",
    "\n",
    "Q1 = stats.norm.ppf(0.25, 13.5, 2.5)\n",
    "Q3 = stats.norm.ppf(0.75, loc=13.5, scale=2.5)\n",
    "P90 = stats.norm.ppf(0.9, 13.5, 2.5)\n",
    "\n",
    "\n",
    "print(\"Q1 jest równy {}\".format(Q1))\n",
    "print(\"Q3 jest równy {}\".format(Q3))\n",
    "print(\"P90 jest równy {}\".format(P90))"
   ]
  },
  {
   "cell_type": "markdown",
   "id": "0277a424",
   "metadata": {},
   "source": [
    "### zad 9"
   ]
  },
  {
   "cell_type": "code",
   "execution_count": 38,
   "id": "df23eea9",
   "metadata": {},
   "outputs": [
    {
     "data": {
      "text/plain": [
       "76.95939103862686"
      ]
     },
     "execution_count": 38,
     "metadata": {},
     "output_type": "execute_result"
    }
   ],
   "source": [
    "stats.norm.ppf(0.4681, 78, 13)"
   ]
  },
  {
   "cell_type": "code",
   "execution_count": null,
   "id": "f8eac77b",
   "metadata": {},
   "outputs": [],
   "source": []
  }
 ],
 "metadata": {
  "kernelspec": {
   "display_name": "Python 3 (ipykernel)",
   "language": "python",
   "name": "python3"
  },
  "language_info": {
   "codemirror_mode": {
    "name": "ipython",
    "version": 3
   },
   "file_extension": ".py",
   "mimetype": "text/x-python",
   "name": "python",
   "nbconvert_exporter": "python",
   "pygments_lexer": "ipython3",
   "version": "3.9.13"
  }
 },
 "nbformat": 4,
 "nbformat_minor": 5
}
