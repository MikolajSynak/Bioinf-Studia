{
 "cells": [
  {
   "cell_type": "code",
   "execution_count": 1,
   "metadata": {},
   "outputs": [],
   "source": [
    "from scipy import stats\n",
    "from scipy.stats import chi2, norm\n",
    "import math"
   ]
  },
  {
   "cell_type": "code",
   "execution_count": 2,
   "metadata": {},
   "outputs": [
    {
     "data": {
      "text/plain": [
       "24.995790139728616"
      ]
     },
     "execution_count": 2,
     "metadata": {},
     "output_type": "execute_result"
    }
   ],
   "source": [
    "stats.chi2.cdf(30,26)\n",
    "stats.chi2.ppf(0.95, 15)"
   ]
  },
  {
   "cell_type": "code",
   "execution_count": 3,
   "metadata": {},
   "outputs": [
    {
     "name": "stdout",
     "output_type": "stream",
     "text": [
      "11.813775624509796\n"
     ]
    }
   ],
   "source": [
    "# zad. 8s.norm\n",
    "print(stat.ppf(0.25,13.5,2.5)) #wartosc dla Q1"
   ]
  },
  {
   "cell_type": "code",
   "execution_count": 4,
   "metadata": {},
   "outputs": [
    {
     "data": {
      "text/plain": [
       "0.24849961225410255"
      ]
     },
     "execution_count": 4,
     "metadata": {},
     "output_type": "execute_result"
    }
   ],
   "source": [
    "### zad. 18\n",
    "\n",
    "stats.t.cdf(1.4, 12)\n",
    "1 - stats.f.cdf(1.5, 6, 14)"
   ]
  },
  {
   "cell_type": "markdown",
   "metadata": {},
   "source": [
    "## zad. 19"
   ]
  },
  {
   "cell_type": "code",
   "execution_count": 5,
   "metadata": {},
   "outputs": [
    {
     "data": {
      "text/plain": [
       "0.866596228235893"
      ]
     },
     "execution_count": 5,
     "metadata": {},
     "output_type": "execute_result"
    }
   ],
   "source": [
    "### Sn - zmienna o rozkładzie dwumianowym\n",
    "### p = pstwo poj. sukcesu = 0.1\n",
    "### n = liczba prób = 1000\n",
    "\n",
    "### używamy \"binom\" bo rozkł dwumianowy (binomial)\n",
    "\n",
    "1 - stats.binom.cdf(89, 1000, 0.1)"
   ]
  },
  {
   "cell_type": "code",
   "execution_count": 6,
   "metadata": {},
   "outputs": [
    {
     "name": "stdout",
     "output_type": "stream",
     "text": [
      "9.486832980505138\n"
     ]
    },
    {
     "data": {
      "text/plain": [
       "0.8768741501537365"
      ]
     },
     "execution_count": 6,
     "metadata": {},
     "output_type": "execute_result"
    }
   ],
   "source": [
    "pierwiastek = math.sqrt(90)\n",
    "print(pierwiastek)\n",
    "0,1251\n",
    "1 - stats.norm.cdf((89-100)/math.sqrt(90), 0,1)"
   ]
  },
  {
   "cell_type": "code",
   "execution_count": 10,
   "metadata": {},
   "outputs": [
    {
     "name": "stdout",
     "output_type": "stream",
     "text": [
      "Twoja średnia to 54.63157894736842\n",
      "Twoja mediana wynosi 59\n",
      "Odchylenie standardowe wynosi 11.54320640182301\n",
      "Moda jest równa 61.\n",
      "Twoje dane mają 19 elementów.\n"
     ]
    },
    {
     "ename": "NameError",
     "evalue": "name 'bins' is not defined",
     "output_type": "error",
     "traceback": [
      "\u001b[1;31m---------------------------------------------------------------------------\u001b[0m",
      "\u001b[1;31mNameError\u001b[0m                                 Traceback (most recent call last)",
      "\u001b[1;32m~\\AppData\\Local\\Temp\\ipykernel_19152\\3015257035.py\u001b[0m in \u001b[0;36m<module>\u001b[1;34m\u001b[0m\n\u001b[0;32m     27\u001b[0m \u001b[1;32mimport\u001b[0m \u001b[0mmatplotlib\u001b[0m\u001b[1;33m.\u001b[0m\u001b[0mpyplot\u001b[0m \u001b[1;32mas\u001b[0m \u001b[0mplt\u001b[0m\u001b[1;33m\u001b[0m\u001b[1;33m\u001b[0m\u001b[0m\n\u001b[0;32m     28\u001b[0m \u001b[1;33m\u001b[0m\u001b[0m\n\u001b[1;32m---> 29\u001b[1;33m \u001b[0mplt\u001b[0m\u001b[1;33m.\u001b[0m\u001b[0mhist\u001b[0m\u001b[1;33m(\u001b[0m\u001b[0mx\u001b[0m\u001b[1;33m,\u001b[0m \u001b[0mbins\u001b[0m\u001b[1;33m,\u001b[0m \u001b[0mrange\u001b[0m\u001b[1;33m,\u001b[0m \u001b[0mdensity\u001b[0m\u001b[1;33m,\u001b[0m \u001b[0mcumulative\u001b[0m\u001b[1;33m)\u001b[0m\u001b[1;33m\u001b[0m\u001b[1;33m\u001b[0m\u001b[0m\n\u001b[0m",
      "\u001b[1;31mNameError\u001b[0m: name 'bins' is not defined"
     ]
    }
   ],
   "source": [
    "### ZESTAW 4 ###\n",
    "\n",
    "### zad.1 - 5 w zeszycie\n",
    "\n",
    "### zad. 6:\n",
    "\n",
    "import statistics as st\n",
    "\n",
    "x = [37,39,39,41,45,46,48,48,52,59,59,61,61,61,64,67,69,69,73]\n",
    "\n",
    "średnia = st.mean(x)\n",
    "print(\"Twoja średnia to {}\".format(średnia))\n",
    "\n",
    "mediana = st.median(x)\n",
    "print(\"Twoja mediana wynosi {}\".format(mediana))\n",
    "\n",
    "### odchylenie standardowe\n",
    "s = st.stdev(x)\n",
    "print(\"Odchylenie standardowe wynosi {}\".format(s))\n",
    "\n",
    "moda = st.mode(x)\n",
    "print(\"Moda jest równa {}.\".format(moda))\n",
    "\n",
    "n = len(x)\n",
    "print(\"Twoje dane mają {} elementów.\".format(n))\n",
    "\n",
    "import matplotlib.pyplot as plt\n",
    "\n",
    "plt.hist(x, bins, range, density, cumulative)"
   ]
  },
  {
   "cell_type": "code",
   "execution_count": 9,
   "metadata": {},
   "outputs": [
    {
     "name": "stdout",
     "output_type": "stream",
     "text": [
      "0.4693423696033875\n"
     ]
    }
   ],
   "source": [
    "x=stats.norm.cdf(79,loc=78,scale=13)\n",
    "print(1-x)"
   ]
  },
  {
   "cell_type": "code",
   "execution_count": null,
   "metadata": {},
   "outputs": [],
   "source": []
  }
 ],
 "metadata": {
  "kernelspec": {
   "display_name": "Python 3 (ipykernel)",
   "language": "python",
   "name": "python3"
  },
  "language_info": {
   "codemirror_mode": {
    "name": "ipython",
    "version": 3
   },
   "file_extension": ".py",
   "mimetype": "text/x-python",
   "name": "python",
   "nbconvert_exporter": "python",
   "pygments_lexer": "ipython3",
   "version": "3.9.13"
  }
 },
 "nbformat": 4,
 "nbformat_minor": 2
}
