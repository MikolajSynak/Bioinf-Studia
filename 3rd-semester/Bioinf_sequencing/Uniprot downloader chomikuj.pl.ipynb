{
 "cells": [
  {
   "cell_type": "markdown",
   "id": "0561efed",
   "metadata": {},
   "source": [
    "# Uniprot downloader chomikuj.pl"
   ]
  },
  {
   "cell_type": "code",
   "execution_count": 1,
   "id": "786dd839",
   "metadata": {},
   "outputs": [],
   "source": [
    "import requests"
   ]
  },
  {
   "cell_type": "code",
   "execution_count": 2,
   "id": "83ae9481",
   "metadata": {},
   "outputs": [],
   "source": [
    "import pandas as pd"
   ]
  },
  {
   "cell_type": "code",
   "execution_count": 3,
   "id": "7635feb0",
   "metadata": {},
   "outputs": [],
   "source": [
    "def getDataFromUniProt(uniprot_id):\n",
    "    url = f\"https://rest.uniprot.org/uniprotkb/{uniprot_id}.fasta\"\n",
    "    resp = requests.get(url)\n",
    "    if resp.ok:\n",
    "        return(resp.text)"
   ]
  },
  {
   "cell_type": "code",
   "execution_count": 4,
   "id": "81a43172",
   "metadata": {},
   "outputs": [],
   "source": [
    "def saveFastaFromUniProt(path_to_file):\n",
    "    uniprot_ids = []\n",
    "    \n",
    "    # 1. odczytaj plik txt\n",
    "    with open('list.txt', 'r') as f:\n",
    "        for line in f:\n",
    "            line = line.strip()\n",
    "            \n",
    "            uniprot_ids.append(line)\n",
    "            \n",
    "    with open('results.fasta', 'w') as out_f:\n",
    "        \n",
    "        for uniprot_id in uniprot_ids:\n",
    "            fasta = getDataFromUniProt(uniprot_id)\n",
    "            out_f.write(fasta)\n",
    "            \n",
    "            "
   ]
  },
  {
   "cell_type": "code",
   "execution_count": 5,
   "id": "9c9696e1",
   "metadata": {},
   "outputs": [
    {
     "ename": "FileNotFoundError",
     "evalue": "[Errno 2] No such file or directory: 'list.txt'",
     "output_type": "error",
     "traceback": [
      "\u001b[1;31m---------------------------------------------------------------------------\u001b[0m",
      "\u001b[1;31mFileNotFoundError\u001b[0m                         Traceback (most recent call last)",
      "\u001b[1;32m~\\AppData\\Local\\Temp\\ipykernel_17096\\4005033890.py\u001b[0m in \u001b[0;36m<module>\u001b[1;34m\u001b[0m\n\u001b[1;32m----> 1\u001b[1;33m \u001b[0msaveFastaFromUniProt\u001b[0m\u001b[1;33m(\u001b[0m\u001b[1;34m'list.txt'\u001b[0m\u001b[1;33m)\u001b[0m\u001b[1;33m\u001b[0m\u001b[1;33m\u001b[0m\u001b[0m\n\u001b[0m",
      "\u001b[1;32m~\\AppData\\Local\\Temp\\ipykernel_17096\\357619353.py\u001b[0m in \u001b[0;36msaveFastaFromUniProt\u001b[1;34m(path_to_file)\u001b[0m\n\u001b[0;32m      2\u001b[0m     \u001b[0muniprot_ids\u001b[0m \u001b[1;33m=\u001b[0m \u001b[1;33m[\u001b[0m\u001b[1;33m]\u001b[0m\u001b[1;33m\u001b[0m\u001b[1;33m\u001b[0m\u001b[0m\n\u001b[0;32m      3\u001b[0m     \u001b[1;31m# 1. odczytaj plik txt\u001b[0m\u001b[1;33m\u001b[0m\u001b[1;33m\u001b[0m\u001b[0m\n\u001b[1;32m----> 4\u001b[1;33m     \u001b[1;32mwith\u001b[0m \u001b[0mopen\u001b[0m\u001b[1;33m(\u001b[0m\u001b[1;34m'list.txt'\u001b[0m\u001b[1;33m,\u001b[0m \u001b[1;34m'r'\u001b[0m\u001b[1;33m)\u001b[0m \u001b[1;32mas\u001b[0m \u001b[0mf\u001b[0m\u001b[1;33m:\u001b[0m\u001b[1;33m\u001b[0m\u001b[1;33m\u001b[0m\u001b[0m\n\u001b[0m\u001b[0;32m      5\u001b[0m         \u001b[1;32mfor\u001b[0m \u001b[0mline\u001b[0m \u001b[1;32min\u001b[0m \u001b[0mf\u001b[0m\u001b[1;33m:\u001b[0m\u001b[1;33m\u001b[0m\u001b[1;33m\u001b[0m\u001b[0m\n\u001b[0;32m      6\u001b[0m             \u001b[0mline\u001b[0m \u001b[1;33m=\u001b[0m \u001b[0mline\u001b[0m\u001b[1;33m.\u001b[0m\u001b[0mstrip\u001b[0m\u001b[1;33m(\u001b[0m\u001b[1;33m)\u001b[0m\u001b[1;33m\u001b[0m\u001b[1;33m\u001b[0m\u001b[0m\n",
      "\u001b[1;31mFileNotFoundError\u001b[0m: [Errno 2] No such file or directory: 'list.txt'"
     ]
    }
   ],
   "source": [
    "saveFastaFromUniProt('list.txt')"
   ]
  },
  {
   "cell_type": "markdown",
   "id": "41ad0e0a",
   "metadata": {},
   "source": [
    "# Uniprot hoarder (piracenie bezpośrednio z serwera)"
   ]
  },
  {
   "cell_type": "code",
   "execution_count": null,
   "id": "ad08071b",
   "metadata": {},
   "outputs": [],
   "source": [
    "import json"
   ]
  },
  {
   "cell_type": "code",
   "execution_count": null,
   "id": "ce95b651",
   "metadata": {},
   "outputs": [],
   "source": [
    "def getDataFromProteinsAPI(uniprot_id):\n",
    "    url = f\"https://www.ebi.ac.uk/proteins/api/proteins/{uniprot_id}\"\n",
    "    resp = requests.get(url)\n",
    "    if resp.ok:\n",
    "        return(resp.text)"
   ]
  },
  {
   "cell_type": "code",
   "execution_count": null,
   "id": "64fd31ec",
   "metadata": {},
   "outputs": [],
   "source": [
    "data = getDataFromProteinsAPI('P01308')"
   ]
  },
  {
   "cell_type": "code",
   "execution_count": null,
   "id": "3d05817c",
   "metadata": {},
   "outputs": [],
   "source": [
    "data_as_dict = json.loads(data)"
   ]
  },
  {
   "cell_type": "markdown",
   "id": "e1d72935",
   "metadata": {},
   "source": [
    "### jakies bonusy?"
   ]
  },
  {
   "cell_type": "code",
   "execution_count": null,
   "id": "6087c414",
   "metadata": {},
   "outputs": [],
   "source": [
    "# ?\n",
    "data_as_dict['accession']\n",
    "data_as_dict['info']['type']\n",
    "data_as_dict['organism']['names'][0]['value']"
   ]
  },
  {
   "cell_type": "code",
   "execution_count": null,
   "id": "8a3db62c",
   "metadata": {},
   "outputs": [],
   "source": [
    "def getSequenceFromProteinsAPI(uniprot_id):\n",
    "    url = f\"https://www.ebi.ac.uk/proteins/api/proteins/{uniprot_id}\"\n",
    "    resp = requests.get(url)\n",
    "    if resp.ok:\n",
    "        data = json.loads(resp.text)\n",
    "        return data['sequence']['sequence']    "
   ]
  },
  {
   "cell_type": "code",
   "execution_count": null,
   "id": "3850a30d",
   "metadata": {},
   "outputs": [],
   "source": [
    "getSequenceFromProteinsAPI('P01308')"
   ]
  },
  {
   "cell_type": "code",
   "execution_count": null,
   "id": "e444b6e2",
   "metadata": {},
   "outputs": [],
   "source": [
    "..."
   ]
  },
  {
   "cell_type": "code",
   "execution_count": null,
   "id": "ed932e0d",
   "metadata": {},
   "outputs": [],
   "source": [
    "\"\"\"\n",
    "\n",
    "def saveSequenceToCSV(path_to_file):\n",
    "    pass\n",
    "    \n",
    "\"\"\"\n",
    "# dlaczego pass?\n",
    "# jak chceszc robic cos z funkcją ale heszcze nie chce ci sie jej definiowac, \n",
    "# mozesz zajebac passa zeby nie wyskakiwały errory."
   ]
  },
  {
   "cell_type": "code",
   "execution_count": null,
   "id": "3bb56fc4",
   "metadata": {},
   "outputs": [],
   "source": [
    "def saveSequenceToCSV(path_to_data):\n",
    "    with open(path_to_data, 'r') as f:\n",
    "        for line in f:\n",
    "            line = line.strip()\n",
    "            \n",
    "            sequence = getSequenceFromProteinsAPI(line)\n",
    "            with open('data.csv', 'a') as out_csv:\n",
    "                out_csv.write(\n",
    "                    f'{line},{sequence}\\n'\n",
    "                )\n",
    "                "
   ]
  },
  {
   "cell_type": "code",
   "execution_count": null,
   "id": "d516b36a",
   "metadata": {},
   "outputs": [],
   "source": [
    "saveSequenceToCSV('list.txt')"
   ]
  },
  {
   "cell_type": "code",
   "execution_count": null,
   "id": "cfc4dbc4",
   "metadata": {},
   "outputs": [],
   "source": [
    "df = pd.read_csv('./data.csv')"
   ]
  },
  {
   "cell_type": "code",
   "execution_count": null,
   "id": "b73e7f35",
   "metadata": {},
   "outputs": [],
   "source": [
    "df"
   ]
  },
  {
   "cell_type": "markdown",
   "id": "8568e57e",
   "metadata": {},
   "source": [
    "# ZOBACZ JAK DZIALA LAMBDA CEPIE"
   ]
  },
  {
   "cell_type": "code",
   "execution_count": null,
   "id": "e61a4ed5",
   "metadata": {},
   "outputs": [],
   "source": [
    "df['M'] = df['sequence'].apply(lambda sequence: sequence.count('M'))"
   ]
  },
  {
   "cell_type": "code",
   "execution_count": null,
   "id": "216688a3",
   "metadata": {},
   "outputs": [],
   "source": []
  }
 ],
 "metadata": {
  "kernelspec": {
   "display_name": "Python 3 (ipykernel)",
   "language": "python",
   "name": "python3"
  },
  "language_info": {
   "codemirror_mode": {
    "name": "ipython",
    "version": 3
   },
   "file_extension": ".py",
   "mimetype": "text/x-python",
   "name": "python",
   "nbconvert_exporter": "python",
   "pygments_lexer": "ipython3",
   "version": "3.9.13"
  }
 },
 "nbformat": 4,
 "nbformat_minor": 5
}
