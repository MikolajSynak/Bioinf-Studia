{
 "cells": [
  {
   "cell_type": "code",
   "execution_count": 1,
   "id": "1e815d23",
   "metadata": {},
   "outputs": [],
   "source": [
    "import requests"
   ]
  },
  {
   "cell_type": "code",
   "execution_count": null,
   "id": "6f550526",
   "metadata": {},
   "outputs": [],
   "source": [
    "# https://www.ebi.ac.uk/Tools/services/rest/clustalo/parameters\n",
    "# https://www.ebi.ac.uk/Tools/services/rest/clustalo/parameterdetails/{parameterdetail}\n",
    "# https://www.ebi.ac.uk/Tools/services/rest/clustalo/run\n",
    "# https://www.ebi.ac.uk/Tools/services/rest/clustalo/status/{jobId}\n",
    "# https://www.ebi.ac.uk/Tools/services/rest/clustalo/resulttypes/{jobId}\n",
    "# https://www.ebi.ac.uk/Tools/services/rest/clustalo/result/{jobId}/{resultType}"
   ]
  },
  {
   "cell_type": "code",
   "execution_count": 2,
   "id": "b0f5f07a",
   "metadata": {},
   "outputs": [],
   "source": [
    "params_resp = requests.get(\n",
    "    'https://www.ebi.ac.uk/Tools/services/rest/clustalo/parameters'\n",
    ")"
   ]
  },
  {
   "cell_type": "code",
   "execution_count": 6,
   "id": "4cf99258",
   "metadata": {},
   "outputs": [
    {
     "name": "stdout",
     "output_type": "stream",
     "text": [
      "<?xml version=\"1.0\" encoding=\"UTF-8\" standalone=\"yes\"?>\n",
      "<parameters>\n",
      "<id>\n",
      "guidetreeout</id>\n",
      "<id>\n",
      "addformats</id>\n",
      "<id>\n",
      "dismatout</id>\n",
      "<id>\n",
      "dealign</id>\n",
      "<id>\n",
      "mbed</id>\n",
      "<id>\n",
      "mbediteration</id>\n",
      "<id>\n",
      "iterations</id>\n",
      "<id>\n",
      "gtiterations</id>\n",
      "<id>\n",
      "hmmiterations</id>\n",
      "<id>\n",
      "outfmt</id>\n",
      "<id>\n",
      "order</id>\n",
      "<id>\n",
      "stype</id>\n",
      "<id>\n",
      "sequence</id>\n",
      "</parameters>\n",
      "\n"
     ]
    }
   ],
   "source": [
    "print(\n",
    "    params_resp.text.replace('>', '>\\n')\n",
    ")"
   ]
  },
  {
   "cell_type": "code",
   "execution_count": 7,
   "id": "fb91f357",
   "metadata": {},
   "outputs": [],
   "source": [
    "param_detail_resp = requests.get(\n",
    "    'https://www.ebi.ac.uk/Tools/services/rest/clustalo/parameterdetails/outfmt'\n",
    ")"
   ]
  },
  {
   "cell_type": "code",
   "execution_count": 10,
   "id": "34e28ffa",
   "metadata": {},
   "outputs": [
    {
     "name": "stdout",
     "output_type": "stream",
     "text": [
      "<?xml version=\"1.0\" encoding=\"UTF-8\" standalone=\"yes\"?>\n",
      "<parameter>\n",
      "<name>\n",
      "Output alignment format</name>\n",
      "<description>\n",
      "Format for generated multiple sequence alignment.</description>\n",
      "<type>\n",
      "STRING</type>\n",
      "<values>\n",
      "<value>\n",
      "<label>\n",
      "ClustalW with character counts</label>\n",
      "<value>\n",
      "clustal_num</value>\n",
      "<defaultValue>\n",
      "true</defaultValue>\n",
      "<properties>\n",
      "<property>\n",
      "<key>\n",
      "description</key>\n",
      "<value>\n",
      "Clustal alignment format with base/residue numbering</value>\n",
      "</property>\n",
      "</properties>\n",
      "</value>\n",
      "<value>\n",
      "<label>\n",
      "ClustalW</label>\n",
      "<value>\n",
      "clustal</value>\n",
      "<defaultValue>\n",
      "false</defaultValue>\n",
      "<properties>\n",
      "<property>\n",
      "<key>\n",
      "description</key>\n",
      "<value>\n",
      "Clustal alignment format without base/residue numbering</value>\n",
      "</property>\n",
      "</properties>\n",
      "</value>\n",
      "<value>\n",
      "<label>\n",
      "Pearson/FASTA</label>\n",
      "<value>\n",
      "fa</value>\n",
      "<defaultValue>\n",
      "false</defaultValue>\n",
      "<properties>\n",
      "<property>\n",
      "<key>\n",
      "description</key>\n",
      "<value>\n",
      "Pearson or FASTA sequence format</value>\n",
      "</property>\n",
      "</properties>\n",
      "</value>\n",
      "<value>\n",
      "<label>\n",
      "MSF</label>\n",
      "<value>\n",
      "msf</value>\n",
      "<defaultValue>\n",
      "false</defaultValue>\n",
      "<properties>\n",
      "<property>\n",
      "<key>\n",
      "description</key>\n",
      "<value>\n",
      "Multiple Sequence File (MSF) alignment format</value>\n",
      "</property>\n",
      "</properties>\n",
      "</value>\n",
      "<value>\n",
      "<label>\n",
      "NEXUS</label>\n",
      "<value>\n",
      "nexus</value>\n",
      "<defaultValue>\n",
      "false</defaultValue>\n",
      "<properties>\n",
      "<property>\n",
      "<key>\n",
      "description</key>\n",
      "<value>\n",
      "NEXUS alignment format</value>\n",
      "</property>\n",
      "</properties>\n",
      "</value>\n",
      "<value>\n",
      "<label>\n",
      "PHYLIP</label>\n",
      "<value>\n",
      "phylip</value>\n",
      "<defaultValue>\n",
      "false</defaultValue>\n",
      "<properties>\n",
      "<property>\n",
      "<key>\n",
      "description</key>\n",
      "<value>\n",
      "PHYLIP interleaved alignment format</value>\n",
      "</property>\n",
      "</properties>\n",
      "</value>\n",
      "<value>\n",
      "<label>\n",
      "SELEX</label>\n",
      "<value>\n",
      "selex</value>\n",
      "<defaultValue>\n",
      "false</defaultValue>\n",
      "<properties>\n",
      "<property>\n",
      "<key>\n",
      "description</key>\n",
      "<value>\n",
      "SELEX alignment format</value>\n",
      "</property>\n",
      "</properties>\n",
      "</value>\n",
      "<value>\n",
      "<label>\n",
      "STOCKHOLM</label>\n",
      "<value>\n",
      "stockholm</value>\n",
      "<defaultValue>\n",
      "false</defaultValue>\n",
      "<properties>\n",
      "<property>\n",
      "<key>\n",
      "description</key>\n",
      "<value>\n",
      "STOCKHOLM alignment format</value>\n",
      "</property>\n",
      "</properties>\n",
      "</value>\n",
      "<value>\n",
      "<label>\n",
      "VIENNA</label>\n",
      "<value>\n",
      "vienna</value>\n",
      "<defaultValue>\n",
      "false</defaultValue>\n",
      "<properties>\n",
      "<property>\n",
      "<key>\n",
      "description</key>\n",
      "<value>\n",
      "VIENNA alignment format</value>\n",
      "</property>\n",
      "</properties>\n",
      "</value>\n",
      "</values>\n",
      "</parameter>\n",
      "\n"
     ]
    }
   ],
   "source": [
    "print(\n",
    "    param_detail_resp.text.replace('>', '>\\n')\n",
    ")"
   ]
  },
  {
   "cell_type": "code",
   "execution_count": 11,
   "id": "727ca740",
   "metadata": {},
   "outputs": [],
   "source": [
    "run_resp = requests.post(\n",
    "    'https://www.ebi.ac.uk/Tools/services/rest/clustalo/run',\n",
    "    data={\n",
    "        'email': 'marcel.thiel@ug.edu.pl',\n",
    "        'sequence': '>1\\nQWERTY\\n>2\\nQWERT\\n>3\\nQWRTYP',\n",
    "        'outfmt': 'fa'\n",
    "    }\n",
    ")"
   ]
  },
  {
   "cell_type": "code",
   "execution_count": 14,
   "id": "a4c08279",
   "metadata": {},
   "outputs": [],
   "source": [
    "jobId = run_resp.text"
   ]
  },
  {
   "cell_type": "code",
   "execution_count": 15,
   "id": "2521cfbd",
   "metadata": {},
   "outputs": [
    {
     "data": {
      "text/plain": [
       "'clustalo-R20230117-081806-0426-28083452-p2m'"
      ]
     },
     "execution_count": 15,
     "metadata": {},
     "output_type": "execute_result"
    }
   ],
   "source": [
    "jobId"
   ]
  },
  {
   "cell_type": "code",
   "execution_count": 16,
   "id": "0dcaefda",
   "metadata": {},
   "outputs": [],
   "source": [
    "status_resp = requests.get(\n",
    "    f'https://www.ebi.ac.uk/Tools/services/rest/clustalo/status/{jobId}'\n",
    ")"
   ]
  },
  {
   "cell_type": "code",
   "execution_count": 18,
   "id": "7cc1eba6",
   "metadata": {},
   "outputs": [
    {
     "data": {
      "text/plain": [
       "'FINISHED'"
      ]
     },
     "execution_count": 18,
     "metadata": {},
     "output_type": "execute_result"
    }
   ],
   "source": [
    "status_resp.text"
   ]
  },
  {
   "cell_type": "code",
   "execution_count": 19,
   "id": "84f6c359",
   "metadata": {},
   "outputs": [],
   "source": [
    "resulttypes_resp = requests.get(\n",
    "    f'https://www.ebi.ac.uk/Tools/services/rest/clustalo/resulttypes/{jobId}'\n",
    ")"
   ]
  },
  {
   "cell_type": "code",
   "execution_count": 22,
   "id": "62a006d3",
   "metadata": {},
   "outputs": [
    {
     "name": "stdout",
     "output_type": "stream",
     "text": [
      "<?xml version=\"1.0\" encoding=\"UTF-8\" standalone=\"yes\"?>\n",
      "<types>\n",
      "<type>\n",
      "<description>\n",
      "The output from the tool itself</description>\n",
      "<fileSuffix>\n",
      "txt</fileSuffix>\n",
      "<identifier>\n",
      "out</identifier>\n",
      "<label>\n",
      "Tool Output</label>\n",
      "<mediaType>\n",
      "text/plain</mediaType>\n",
      "</type>\n",
      "<type>\n",
      "<description>\n",
      "Your input sequences as seen by the tool</description>\n",
      "<fileSuffix>\n",
      "txt</fileSuffix>\n",
      "<identifier>\n",
      "sequence</identifier>\n",
      "<label>\n",
      "Input Sequences</label>\n",
      "<mediaType>\n",
      "text/plain</mediaType>\n",
      "</type>\n",
      "<type>\n",
      "<description>\n",
      "The alignment in FASTA format</description>\n",
      "<fileSuffix>\n",
      "fasta</fileSuffix>\n",
      "<identifier>\n",
      "aln-fasta</identifier>\n",
      "<label>\n",
      "Alignment in FASTA format</label>\n",
      "<mediaType>\n",
      "text/plain</mediaType>\n",
      "</type>\n",
      "<type>\n",
      "<description>\n",
      "The phylogenetic tree</description>\n",
      "<fileSuffix>\n",
      "ph</fileSuffix>\n",
      "<identifier>\n",
      "phylotree</identifier>\n",
      "<label>\n",
      "Phylogenetic Tree</label>\n",
      "<mediaType>\n",
      "text/plain</mediaType>\n",
      "</type>\n",
      "<type>\n",
      "<description>\n",
      "The percent identity matrix output file</description>\n",
      "<fileSuffix>\n",
      "pim</fileSuffix>\n",
      "<identifier>\n",
      "pim</identifier>\n",
      "<label>\n",
      "Percent Identity Matrix</label>\n",
      "<mediaType>\n",
      "text/plain</mediaType>\n",
      "</type>\n",
      "<type>\n",
      "<description>\n",
      "The submission details which was submitted as a job</description>\n",
      "<fileSuffix>\n",
      "params</fileSuffix>\n",
      "<identifier>\n",
      "submission</identifier>\n",
      "<label>\n",
      "Submission Details</label>\n",
      "<mediaType>\n",
      "application/xml</mediaType>\n",
      "</type>\n",
      "</types>\n",
      "\n"
     ]
    }
   ],
   "source": [
    "print(\n",
    "    resulttypes_resp.text.replace('>', '>\\n')\n",
    ")"
   ]
  },
  {
   "cell_type": "code",
   "execution_count": 23,
   "id": "04ac90c3",
   "metadata": {},
   "outputs": [],
   "source": [
    "result_resp = requests.get(\n",
    "    f'https://www.ebi.ac.uk/Tools/services/rest/clustalo/result/{jobId}/aln-fasta'\n",
    ")"
   ]
  },
  {
   "cell_type": "code",
   "execution_count": 26,
   "id": "bc5991eb",
   "metadata": {},
   "outputs": [
    {
     "name": "stdout",
     "output_type": "stream",
     "text": [
      ">1\n",
      "QWERTY\n",
      ">2\n",
      "QWERT-\n",
      ">3\n",
      "QWRTYP\n",
      "\n"
     ]
    }
   ],
   "source": [
    "print(\n",
    "    result_resp.text\n",
    ")"
   ]
  },
  {
   "cell_type": "markdown",
   "id": "4b7ca9c5",
   "metadata": {},
   "source": [
    "### ZADANKO"
   ]
  },
  {
   "cell_type": "code",
   "execution_count": 39,
   "id": "3c35a232",
   "metadata": {},
   "outputs": [],
   "source": [
    "# 1\n",
    "f = open('./dnaa.fasta', 'rt')\n",
    "fata = f.read()\n",
    "f.close()"
   ]
  },
  {
   "cell_type": "code",
   "execution_count": 40,
   "id": "9a6dd567",
   "metadata": {},
   "outputs": [],
   "source": [
    "# 2\n",
    "with open('./dnaa.fasta', 'rt') as f:\n",
    "    fasta = f.read()"
   ]
  },
  {
   "cell_type": "code",
   "execution_count": 41,
   "id": "98279c05",
   "metadata": {},
   "outputs": [
    {
     "data": {
      "text/plain": [
       "'>sp|P03004|DNAA_ECOLI Chromosomal replication initiator protein DnaA OS=Escherichia coli (strain K12) OX=83333 GN=dnaA PE=1 SV=2\\nMSLSLWQQCLARLQDELPATE'"
      ]
     },
     "execution_count": 41,
     "metadata": {},
     "output_type": "execute_result"
    }
   ],
   "source": [
    "fasta[:150]"
   ]
  },
  {
   "cell_type": "code",
   "execution_count": 33,
   "id": "6f2a7adb",
   "metadata": {},
   "outputs": [],
   "source": [
    "run_resp = requests.post(\n",
    "    'https://www.ebi.ac.uk/Tools/services/rest/clustalo/run',\n",
    "    data={\n",
    "        'email': 'marcel.thiel@ug.edu.pl',\n",
    "        'sequence': fasta,\n",
    "        'outfmt': 'fa'\n",
    "    }\n",
    ")"
   ]
  },
  {
   "cell_type": "code",
   "execution_count": 34,
   "id": "49442543",
   "metadata": {},
   "outputs": [
    {
     "data": {
      "text/plain": [
       "'clustalo-R20230117-090630-0241-20126474-p2m'"
      ]
     },
     "execution_count": 34,
     "metadata": {},
     "output_type": "execute_result"
    }
   ],
   "source": [
    "jobId = run_resp.text\n",
    "jobId"
   ]
  },
  {
   "cell_type": "code",
   "execution_count": 35,
   "id": "cf62ab70",
   "metadata": {},
   "outputs": [],
   "source": [
    "status_resp = requests.get(\n",
    "    f'https://www.ebi.ac.uk/Tools/services/rest/clustalo/status/{jobId}'\n",
    ")"
   ]
  },
  {
   "cell_type": "code",
   "execution_count": 36,
   "id": "4beef931",
   "metadata": {},
   "outputs": [
    {
     "data": {
      "text/plain": [
       "'FINISHED'"
      ]
     },
     "execution_count": 36,
     "metadata": {},
     "output_type": "execute_result"
    }
   ],
   "source": [
    "status_resp.text"
   ]
  },
  {
   "cell_type": "code",
   "execution_count": 37,
   "id": "1503c833",
   "metadata": {},
   "outputs": [],
   "source": [
    "result_resp = requests.get(\n",
    "    f'https://www.ebi.ac.uk/Tools/services/rest/clustalo/result/{jobId}/aln-fasta'\n",
    ")"
   ]
  },
  {
   "cell_type": "code",
   "execution_count": 38,
   "id": "d1f482e0",
   "metadata": {},
   "outputs": [
    {
     "name": "stdout",
     "output_type": "stream",
     "text": [
      ">sp|P03004|DNAA_ECOLI Chromosomal replication initiator protein DnaA OS=Escherichia coli (strain K12) OX=83333 GN=dnaA PE=1 SV=2\n",
      "-------MSLSLWQQCLARLQDE---------------LPATEFSMWIRPLQA-ELSDNT\n",
      "LALYAPNRFVLDWVRDKYLNNINGLLTSFCGADAPQLRFEVGT----KPVTQTPQAAV--\n",
      "-----------------------------------TSNVAAPAQVAQ-------------\n",
      "--------------------------------------------------TQPQ------\n",
      "RAAPSTR----------------------------------SGWDNVPAPAEPTYRSNVN\n",
      "VKHTFDNFVEGKSNQLARAAARQVADNPGGAYNPLFLYGGTGLGKTHLLHAVGNGIMARK\n",
      "PNAKVVYMHSERFVQDMVKALQNNAIEEFKRYYRSVDALLIDDIQFFANKERSQEEFFHT\n",
      "FNALLEGNQQIILTSDRYPKEINGVEDRLKSRFGWGLTVAIEPPELETRVAILMKKADEN\n",
      "DIRLPGEVAFFIAKRLRSNVRELEGALNRVIANANFTGRAITIDFVREALRDLLALQEK-\n",
      "--LVTIDNIQKTVAEYYKIKVADLLSKRRSRSVARPRQMAMALAKELTNHSLPEIGDAFG\n",
      "GRDHTTVLHACRKIEQLREESHDIKEDFSNLIRTLSS----\n",
      ">sp|P05648|DNAA_BACSU Chromosomal replication initiator protein DnaA OS=Bacillus subtilis (strain 168) OX=224308 GN=dnaA PE=1 SV=1\n",
      "-----MENILDLWNQALAQIEK---------------KLSKPSFETWMKSTKAHSLQGDT\n",
      "LTITAPNEFARDWLESRYLHLIADTIYELTGEELSI-KFVI-------------------\n",
      "------------------------------------------------------------\n",
      "------------------------------------------------------------\n",
      "----PQNQ------------------------DVEDFMPKPQVKKAVKEDTSDFPQNMLN\n",
      "PKYTFDTFVIGSGNRFAHAASLAVAEAPAKAYNPLFIYGGVGLGKTHLMHAIGHYVIDHN\n",
      "PSAKVVYLSSEKFTNEFINSIRDNKAVDFRNRYRNVDVLLIDDIQFLAGKEQTQEEFFHT\n",
      "FNTLHEESKQIVISSDRPPKEIPTLEDRLRSRFEWGLITDITPPDLETRIAILRKKAKAE\n",
      "GLDIPNEVMLYIANQIDSNIRELEGALIRVVAYSSLINKDINADLAAEALKDIIPSSKPK\n",
      "V--ITIKEIQRVVGQQFNIKLEDFKAKKRTKSVAFPRQIAMYLSREMTDSSLPKIGEEFG\n",
      "GRDHTTVIHAHEKISKLLADDEQLQQHVKEIKEQLK-----\n",
      ">sp|P9WNW3|DNAA_MYCTU Chromosomal replication initiator protein DnaA OS=Mycobacterium tuberculosis (strain ATCC 25618 / H37Rv) OX=83332 GN=dnaA PE=1 \n",
      "MTDDPGSGFTTVWNAVVSELNGDPKVDDGPSSDANLSAPLTPQQRAWLNLVQPLTIVEGF\n",
      "ALLSVPSSFVQNEIERHLRAPITDALSRRLGHQIQL-GVRIAPPATDEADDTT-------\n",
      "--------------------------VPPSENPA-TT---SPDTTTDN------------\n",
      "-------------------DEIDD--------SAAARGDNQHSWPS--------------\n",
      "----------------------------------------YFTERPHNTDSATAGVTSLN\n",
      "RRYTFDTFVIGASNRFAHAAALAIAEAPARAYNPLFIWGESGLGKTHLLHAAGNYAQRLF\n",
      "PGMRVKYVSTEEFTNDFINSLRDDRKVAFKRSYRDVDVLLVDDIQFIEGKEGIQEEFFHT\n",
      "FNTLHNANKQIVISSDRPPKQLATLEDRLRTRFEWGLITDVQPPELETRIAILRKKAQME\n",
      "RLAVPDDVLELIASSIERNIRELEGALIRVTAFASLNKTPIDKALAEIVLRDLIADAN--\n",
      "TMQISAATIMAATAEYFDTTVEELRGPGKTRALAQSRQIAMYLCRELTDLSLPKIGQAFG\n",
      "-RDHTTVMYAQRKILSEMAERREVFDHVKELTTRIRQRSKR\n",
      ">sp|P29440|DNAA_SERMA Chromosomal replication initiator protein DnaA OS=Serratia marcescens OX=615 GN=dnaA PE=3 SV=3\n",
      "-------MSLSLWQQCLARLQDE---------------LPATEFSMWIRPLQA-ELSDNT\n",
      "LALYAPNRFVLDWVRDKYLNNINGLLNDFCGTDAPLLRFEVGS----KPITQVISQTV--\n",
      "-----------------------------------TASVSSAP---A-------------\n",
      "--------------------------------------------------APAA------\n",
      "RTAAPSR----------------------------------PSWDNAAAQPELSYRSNVN\n",
      "PKHTFDNFVEGKSNQLARAAARQVADNPGGAYNPLFLYGGTGLGKTHLLHAVGNGIMARK\n",
      "ANAKVVYMHSERFVQDMVKALQNNAIEEFKRYYRSVDALLIDDIQFFANKERSQEEFFHT\n",
      "FNALLEGNQQIILTSDRYPKEINGVEDRLKSRFGWGLTVAIEPPELETRVAILMKKADEN\n",
      "DIRLPGEVAFFIAKRLRSNVRELEGALNRVIANANFTGRAITIDFVREALRDLLALQEK-\n",
      "--LVTIDNIQKTVAEYYKIKVADLLSKRRSRSVARPRQMAMALAKELTNHSLPEIGDAFG\n",
      "GRDHTTVLHACRKIEQLREESHDIKEDFSNLIRTLSS----\n",
      ">sp|Q9ZH75|DNAA_STRAQ Chromosomal replication initiator protein DnaA OS=Streptomyces anulatus OX=1892 GN=dnaA PE=1 SV=1\n",
      "-MADVPADLAAVWPRVLEQLLGEGQ------------QGIEPKDKQWIERCQPLALVADT\n",
      "ALLAVPNEWGKRVLEGRLAPLISETLTRECGRPIRI-AITVDDSAGEPPSPPAPPMHQSH\n",
      "QSQQGHRYPAQQRDDAPRGDAYDGYGHRPSDDGMPTRRPAYPDYQQQRPEPGAWPRTQED\n",
      "LSWQQPRHGGYQDREQPSGEPYRESESYRERENEQYREQAPEQWRQPYGTGRPQQPQHDY\n",
      "RSGPPEHQGYEQQRPDRQDQGQGPRQGGHGPGRTGGSVPGPMGAQPAPAPGPGEPHARLN\n",
      "PKYLFDTFVIGASNRFAHAAAVAVAEAPAKAYNPLFIYGESGLGKTHLLHAIGHYARSLY\n",
      "PGTRVRYVSSEEFTNEFINSIRDGKGDTFRKRYRDVDILLVDDIQFLASKESTQEEFFHT\n",
      "FNTLHNANKQIVLSSDRPPKQLVTLEDRLRNRFEWGLTTDVQPPELETRIAILRKKAVQE\n",
      "QLNAPPEVLEFIASRISRNIRELEGALIRVTAFASLNRQPVDLGLTEIVLKDLIPGGEES\n",
      "APEITAPAIMAATADYFGLTVDDLCGSSRTRVLVTARQIAMYLCRELTDLSLPKIGAQFG\n",
      "GRDHTTVMHADRKIRALMAERRSIYNQVTELTNRIKNG---\n",
      "\n"
     ]
    }
   ],
   "source": [
    "print(\n",
    "    result_resp.text\n",
    ")"
   ]
  },
  {
   "cell_type": "code",
   "execution_count": null,
   "id": "c8f2b5d0",
   "metadata": {},
   "outputs": [],
   "source": []
  }
 ],
 "metadata": {
  "kernelspec": {
   "display_name": "Python 3 (ipykernel)",
   "language": "python",
   "name": "python3"
  },
  "language_info": {
   "codemirror_mode": {
    "name": "ipython",
    "version": 3
   },
   "file_extension": ".py",
   "mimetype": "text/x-python",
   "name": "python",
   "nbconvert_exporter": "python",
   "pygments_lexer": "ipython3",
   "version": "3.9.13"
  }
 },
 "nbformat": 4,
 "nbformat_minor": 5
}
