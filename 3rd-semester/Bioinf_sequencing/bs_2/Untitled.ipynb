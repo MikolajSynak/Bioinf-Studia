{
 "cells": [
  {
   "cell_type": "code",
   "execution_count": 1,
   "id": "3e6b8295",
   "metadata": {},
   "outputs": [],
   "source": [
    "import re\n",
    "import requests"
   ]
  },
  {
   "cell_type": "code",
   "execution_count": 2,
   "id": "801dc7aa",
   "metadata": {},
   "outputs": [],
   "source": [
    "base_url = 'http://eutils.ncbi.nlm.nih.gov/entrez/eutils/'"
   ]
  },
  {
   "cell_type": "markdown",
   "id": "109e9d14",
   "metadata": {},
   "source": [
    "### esearch"
   ]
  },
  {
   "cell_type": "code",
   "execution_count": 3,
   "id": "8f0b6cf5",
   "metadata": {},
   "outputs": [],
   "source": [
    "query = 'escherichia+coli[orgn]+AND+biomol+mrna[prop]'"
   ]
  },
  {
   "cell_type": "code",
   "execution_count": 4,
   "id": "edc9de1b",
   "metadata": {},
   "outputs": [],
   "source": [
    "db = 'nucleotide'"
   ]
  },
  {
   "cell_type": "code",
   "execution_count": 5,
   "id": "57ecb2ef",
   "metadata": {},
   "outputs": [],
   "source": [
    "esearch_url = f'esearch.fcgi?db={db}&term={query}&usehistory=y'"
   ]
  },
  {
   "cell_type": "code",
   "execution_count": 6,
   "id": "6a6dc679",
   "metadata": {},
   "outputs": [],
   "source": [
    "main_url = base_url + esearch_url"
   ]
  },
  {
   "cell_type": "code",
   "execution_count": 7,
   "id": "29a63a5b",
   "metadata": {},
   "outputs": [
    {
     "name": "stdout",
     "output_type": "stream",
     "text": [
      "http://eutils.ncbi.nlm.nih.gov/entrez/eutils/esearch.fcgi?db=nucleotide&term=escherichia+coli[orgn]+AND+biomol+mrna[prop]&usehistory=y\n"
     ]
    }
   ],
   "source": [
    "print(\n",
    "    main_url\n",
    ")"
   ]
  },
  {
   "cell_type": "code",
   "execution_count": 11,
   "id": "03c82449",
   "metadata": {},
   "outputs": [],
   "source": [
    "def getDataFromNCBI(ncbi_url):\n",
    "    resp = requests.get(ncbi_url)\n",
    "    \n",
    "    return resp.text"
   ]
  },
  {
   "cell_type": "code",
   "execution_count": 12,
   "id": "046a09c3",
   "metadata": {},
   "outputs": [],
   "source": [
    "ncbi_data = getDataFromNCBI(main_url)"
   ]
  },
  {
   "cell_type": "code",
   "execution_count": 20,
   "id": "617ebd33",
   "metadata": {},
   "outputs": [
    {
     "data": {
      "text/plain": [
       "'<?xml version=\"1.0\" encoding=\"UTF-8\" ?>\\n<!DOCTYPE eSearchResult PUBLIC \"-//NLM//DTD esearch 20060628//EN\" \"https://eutils.ncbi.nlm.nih.gov/eutils/dtd/20060628/esearch.dtd\">\\n<eSearchResult><Count>1053</Count><RetMax>20</RetMax><RetStart>0</RetStart><QueryKey>1</QueryKey><WebEnv>MCID_636a1606422503063a0d5131</WebEnv><IdList>\\n<Id>2283393694</Id>\\n<Id>2283393687</Id>\\n<Id>2183382558</Id>\\n<Id>1946387296</Id>\\n<Id>1946387294</Id>\\n<Id>1946387292</Id>\\n<Id>1946387290</Id>\\n<Id>1946387288</Id>\\n<Id>1946387286</Id>\\n<Id>1946387284</Id>\\n<Id>1946387282</Id>\\n<Id>1946387280</Id>\\n<Id>1946387278</Id>\\n<Id>1946387277</Id>\\n<Id>1946387275</Id>\\n<Id>1946387273</Id>\\n<Id>1946387272</Id>\\n<Id>1946387270</Id>\\n<Id>1946387268</Id>\\n<Id>1946387266</Id>\\n</IdList><TranslationSet><Translation>     <From>escherichia coli[orgn]</From>     <To>\"Escherichia coli\"[Organism]</To>    </Translation></TranslationSet><TranslationStack>   <TermSet>    <Term>\"Escherichia coli\"[Organism]</Term>    <Field>Organism</Field>    <Count>11273321</Count>    <Explode>Y</Explode>   </TermSet>   <TermSet>    <Term>biomol mrna[prop]</Term>    <Field>prop</Field>    <Count>149069617</Count>    <Explode>N</Explode>   </TermSet>   <OP>AND</OP>  </TranslationStack><QueryTranslation>\"Escherichia coli\"[Organism] AND biomol mrna[prop]</QueryTranslation></eSearchResult>\\n'"
      ]
     },
     "execution_count": 20,
     "metadata": {},
     "output_type": "execute_result"
    }
   ],
   "source": [
    "ncbi_data[:2000]"
   ]
  },
  {
   "cell_type": "code",
   "execution_count": 10,
   "id": "34dad7b9",
   "metadata": {},
   "outputs": [],
   "source": [
    "rgx_count   = re.compile(r'<Count>(.+)</Count>') \n",
    "rgx_querkey = re.compile(r'<QueryKey>(.+)</QueryKey>')\n",
    "rgx_webenv  = re.compile(r'<WebEnv>(.+)</WebEnv>')"
   ]
  },
  {
   "cell_type": "code",
   "execution_count": 14,
   "id": "3a073905",
   "metadata": {},
   "outputs": [],
   "source": [
    "count_search    = re.search(rgx_count, ncbi_data) \n",
    "querykey_search = re.search(rgx_querkey, ncbi_data)\n",
    "webenv_search   = re.search(rgx_webenv, ncbi_data)"
   ]
  },
  {
   "cell_type": "code",
   "execution_count": 15,
   "id": "ed31aeac",
   "metadata": {},
   "outputs": [
    {
     "data": {
      "text/plain": [
       "<re.Match object; span=(188, 207), match='<Count>1053</Count>'>"
      ]
     },
     "execution_count": 15,
     "metadata": {},
     "output_type": "execute_result"
    }
   ],
   "source": [
    "count_search"
   ]
  },
  {
   "cell_type": "code",
   "execution_count": 16,
   "id": "41153f3a",
   "metadata": {},
   "outputs": [],
   "source": [
    "count    = count_search.group(1) \n",
    "querykey = querykey_search.group(1)\n",
    "webenv   = webenv_search.group(1)"
   ]
  },
  {
   "cell_type": "code",
   "execution_count": 17,
   "id": "1b255fa4",
   "metadata": {},
   "outputs": [
    {
     "data": {
      "text/plain": [
       "'1053'"
      ]
     },
     "execution_count": 17,
     "metadata": {},
     "output_type": "execute_result"
    }
   ],
   "source": [
    "count"
   ]
  },
  {
   "cell_type": "code",
   "execution_count": 18,
   "id": "007d5258",
   "metadata": {},
   "outputs": [
    {
     "data": {
      "text/plain": [
       "'1'"
      ]
     },
     "execution_count": 18,
     "metadata": {},
     "output_type": "execute_result"
    }
   ],
   "source": [
    "querykey"
   ]
  },
  {
   "cell_type": "code",
   "execution_count": 19,
   "id": "31468202",
   "metadata": {},
   "outputs": [
    {
     "data": {
      "text/plain": [
       "'MCID_636a1606422503063a0d5131'"
      ]
     },
     "execution_count": 19,
     "metadata": {},
     "output_type": "execute_result"
    }
   ],
   "source": [
    "webenv"
   ]
  },
  {
   "cell_type": "markdown",
   "id": "7c4982c5",
   "metadata": {},
   "source": [
    "### efetch"
   ]
  },
  {
   "cell_type": "code",
   "execution_count": 21,
   "id": "8d2d55f3",
   "metadata": {},
   "outputs": [
    {
     "data": {
      "text/plain": [
       "'http://eutils.ncbi.nlm.nih.gov/entrez/eutils/'"
      ]
     },
     "execution_count": 21,
     "metadata": {},
     "output_type": "execute_result"
    }
   ],
   "source": [
    "base_url"
   ]
  },
  {
   "cell_type": "code",
   "execution_count": 25,
   "id": "dd11bcda",
   "metadata": {},
   "outputs": [],
   "source": [
    "efetch_1 = f'efetch.fcgi?db={db}&WebEnv={webenv}'\n",
    "efetch_2 = f'&query_key={querykey}&retstat=0'\n",
    "efetch_3 = '&retmax=1&rettype=gb&mode=text'"
   ]
  },
  {
   "cell_type": "code",
   "execution_count": 26,
   "id": "6027bc90",
   "metadata": {},
   "outputs": [],
   "source": [
    "main_url = base_url + efetch_1 + efetch_2 + efetch_3"
   ]
  },
  {
   "cell_type": "code",
   "execution_count": 27,
   "id": "32ec96c4",
   "metadata": {},
   "outputs": [
    {
     "data": {
      "text/plain": [
       "'http://eutils.ncbi.nlm.nih.gov/entrez/eutils/efetch.fcgi?db=nucleotide&WebEnv=MCID_636a1606422503063a0d5131&query_key=1&retstat=0&retmax=1&rettype=gb&mode=text'"
      ]
     },
     "execution_count": 27,
     "metadata": {},
     "output_type": "execute_result"
    }
   ],
   "source": [
    "main_url"
   ]
  },
  {
   "cell_type": "code",
   "execution_count": 28,
   "id": "78fcbef2",
   "metadata": {},
   "outputs": [],
   "source": [
    "gb_data = getDataFromNCBI(main_url)"
   ]
  },
  {
   "cell_type": "code",
   "execution_count": 29,
   "id": "f3db85ed",
   "metadata": {},
   "outputs": [
    {
     "name": "stdout",
     "output_type": "stream",
     "text": [
      "LOCUS       OX222974                2331 bp    mRNA    linear   EST 05-AUG-2022\n",
      "DEFINITION  Escherichia coli EST, clone\n",
      "            acgggcccca_tactacgatt.Nanopore_20201210, mRNA sequence.\n",
      "ACCESSION   OX222974\n",
      "VERSION     OX222974.1\n",
      "DBLINK      BioProject: PRJEB54063\n",
      "KEYWORDS    EST.\n",
      "SOURCE      Escherichia coli\n",
      "  ORGANISM  Escherichia coli\n",
      "            Bacteria; Proteobacteria; Gammaproteobacteria; Enterobacterales;\n",
      "            Enterobacteriaceae; Escherichia.\n",
      "REFERENCE   1\n",
      "  AUTHORS   Vasarhelyi,B.\n",
      "  TITLE     Direct Submission\n",
      "  JOURNAL   Submitted (12-JUL-2022) ELKH BRC, Kintses, Temesvari korut 62,\n",
      "            Szeged, 6726, Hungary\n",
      "COMMENT     sequences of antibiotic resistance gene from the metagenomes of the\n",
      "            human gut ans soil samples and from the genomes of different\n",
      "            pathogenic bacterial strains.\n",
      "FEATURES             Location/Qualifiers\n",
      "     source          1..2331\n",
      "                     /organism=\"Escherichia coli\"\n",
      "                     /mol_type=\"mRNA\"\n",
      "                     /db_xref=\"taxon:562\"\n",
      "                     /clone=\"acgggcccca_tactacgatt.Nanopore_20201210\"\n",
      "ORIGIN      \n",
      "        1 gaattcacgc gcgatacgac ccactgccat cagcccttcc ggggtgattt caccacccgg\n",
      "       61 agaacgcggg atcaccgagt aggtgccgtc tttttggatg ttagcgagga agttgtcgtt\n",
      "      121 agaatcctgc agcggagtat gttccggctt cagaatgtat tcgttccagc aggaggccag\n",
      "      181 cagcgaaccg acggtcggtt tacaaacttc acaaccgtaa cctttgccgt gtttcgccag\n",
      "      241 cagttcttcg aaggttttaa tgccttcaac gcggatcaaa tggaacagtt cctgacgcga\n",
      "      301 ataagcaaag tgttcacaca ggttgttgtt aacttcgata ccctgtttcg ccagttccgc\n",
      "      361 gttcagtacc tgagtgacca gcggaataca accgccgcag cccgtaccgg ctttggtttc\n",
      "      421 ggctttcagc gccgcaacgg tgtggcagcc tttgttgata gcagcaatca ggtcgccttt\n",
      "      481 ggtgacgtcg aagcaggagc agatttgcgc gctgtccggc agtttatcaa caccgataga\n",
      "      541 cggcttaccg ctacccgagt gcgccggcag aatcagagaa tccgggtttt ccggcagttc\n",
      "      601 gatagcgttc agcaccagtt gcagcaggtt gccgtagtcg ctggtatcgc ccaccagtac\n",
      "      661 cgcaccgagc agggttttgt tgtcttcgct gacaatcagg cgtttgtaga tctctttgct\n",
      "      721 ttcgtcgagg taaacgtagc tacgtgcgcc aggcgtgcga ccgtgcgcat caccaatacc\n",
      "      781 gcctacgtct acgcccagca gtttcagctt ggcgctaagg tctgcacctt caaaggcgtt\n",
      "      841 ttcgctacca agaatatggt caacggcgac ctgcgccatt ttgtagcctg gtgctaccag\n",
      "      901 accaaataca cggttgttcc agcttgcgca ttcaccgatg gcgtagatat ccggatcgga\n",
      "      961 agtctggcag gaatcattta tgacgatacc cccacgcgga gcaacgtcca gaccacactg\n",
      "     1021 ggttgccagc ttatcgcgcg gacggatacc ggtagagaag acgataaagt cgacttccag\n",
      "     1081 ttcgctgccg tcggcaaaac gcatggtttt acgcgcttca acaccttcct gcacaatctc\n",
      "     1141 aagagtgttt ttgctggtgt gaacgcgcac gcccatactt tcgattttgc gacgcagctg\n",
      "     1201 ctcgccgccc atctgatcaa gctgttccgc catcagcata ggggcaaatt tggtccggtc\n",
      "     1261 gatctggcga tcatggagaa cgggcagtat gaccaggact ggaaatatat tcacatgatg\n",
      "     1321 ccggatgaaa cagctcaggc cgccgacgac ctgcgcgctc gcgcggtgct gcctgggcat\n",
      "     1381 gcaggacgat tcgttttggc gaaacacagc tgggatgaac cgtatcaacg gctggcggct\n",
      "     1441 gccagcgaag gaagggcctg gcgtctgctg acgcctgtgc agggcgagcc ggtgtgggtc\n",
      "     1501 gccgataaga cgcaatcatt taacgcctgg tggcgctaag cgccagtgca gtatcagagg\n",
      "     1561 agagagcata tgacgatttc cgctcaggtg attgatacta tcgtcgagtg gattgatgac\n",
      "     1621 aacctgcatc aaccgctgcg tattgatgat atcgctcgcc atgccgggta ttcgaaatgg\n",
      "     1681 catctgcaac ggctgttttt acagtataaa ggggagagcc tggggcgcta tattcgcgaa\n",
      "     1741 aggaagctgc tgctggccgc ccgcgatctg cgtgacaccg atcagcgggt ctacgatatc\n",
      "     1801 tgcctgaagt atggcttcga ttcgcaacag acctttaccc gcgtcttcac ccggaccttc\n",
      "     1861 aatctgccgc cgggcgccta ccgtaaagag aaccacagtc gcgcccactg aggcgcgccc\n",
      "     1921 ttctggttta gcgttcgagc gaaaaccagc gacgccacac ccagcgcagc accagatact\n",
      "     1981 caatggcgcc cagtgctaag aaccacaaac aaaacaacac cgtataaagc tggttgagat\n",
      "     2041 ccatcatatg gaatgtctca accagctttt gcgccagcgt caggcccagc gacggcgcgg\n",
      "     2101 gcaacagcag acaggagagc agagccagga gcaggatccc ggcggcggag aggagcgttt\n",
      "     2161 ccagcggatg tttcatgtca tgttaatcat cagttaaaaa acatattgtc cggcaaaata\n",
      "     2221 atccctaacg caatatgctt tgtattttac tcgccttaat gcgcctctgt ttaatattat\n",
      "     2281 ggtctgcctt ttattcccat gttaattcca cgaagcccag caatacgtaa c\n",
      "//\n",
      "\n",
      "\n"
     ]
    }
   ],
   "source": [
    "print(\n",
    "    gb_data\n",
    ")"
   ]
  },
  {
   "cell_type": "code",
   "execution_count": 45,
   "id": "0c22fedd",
   "metadata": {},
   "outputs": [],
   "source": [
    "def writeBGToFile(gbData):\n",
    "    \n",
    "    data_id = gb_data.split()[1].strip()\n",
    "    \n",
    "    with open(f'./{data_id}.gb', 'w') as f_out:\n",
    "        f_out.write(gbData)"
   ]
  },
  {
   "cell_type": "code",
   "execution_count": 46,
   "id": "7ac5e42c",
   "metadata": {},
   "outputs": [],
   "source": [
    "writeBGToFile(gb_data)"
   ]
  },
  {
   "cell_type": "markdown",
   "id": "bc685dc1",
   "metadata": {},
   "source": [
    "Data is now in GB format -> FASTA"
   ]
  },
  {
   "cell_type": "code",
   "execution_count": 78,
   "id": "ead4ab28",
   "metadata": {},
   "outputs": [],
   "source": [
    "def gbToFasta(path_to_gb):\n",
    "    header = '>'\n",
    "    flag = False\n",
    "    \n",
    "    with open(path_to_gb, 'r') as f:\n",
    "        for line in f:\n",
    "            line = line.strip()\n",
    "            \n",
    "            if line.startswith(\"LOCUS\"):\n",
    "                header += line.split()[1]\n",
    "                print(header)\n",
    "                continue\n",
    "            \n",
    "            if line.startswith(\"ORIGIN\"):\n",
    "                flag = True\n",
    "                continue\n",
    "                \n",
    "            if flag:\n",
    "                sequence = line.split()[1:]\n",
    "                sequence = ''.join(sequence).upper()\n",
    "                print(sequence)\n",
    "            \n",
    "            "
   ]
  },
  {
   "cell_type": "code",
   "execution_count": 79,
   "id": "7b703134",
   "metadata": {
    "scrolled": true
   },
   "outputs": [
    {
     "name": "stdout",
     "output_type": "stream",
     "text": [
      ">OX222974\n",
      "GAATTCACGCGCGATACGACCCACTGCCATCAGCCCTTCCGGGGTGATTTCACCACCCGG\n",
      "AGAACGCGGGATCACCGAGTAGGTGCCGTCTTTTTGGATGTTAGCGAGGAAGTTGTCGTT\n",
      "AGAATCCTGCAGCGGAGTATGTTCCGGCTTCAGAATGTATTCGTTCCAGCAGGAGGCCAG\n",
      "CAGCGAACCGACGGTCGGTTTACAAACTTCACAACCGTAACCTTTGCCGTGTTTCGCCAG\n",
      "CAGTTCTTCGAAGGTTTTAATGCCTTCAACGCGGATCAAATGGAACAGTTCCTGACGCGA\n",
      "ATAAGCAAAGTGTTCACACAGGTTGTTGTTAACTTCGATACCCTGTTTCGCCAGTTCCGC\n",
      "GTTCAGTACCTGAGTGACCAGCGGAATACAACCGCCGCAGCCCGTACCGGCTTTGGTTTC\n",
      "GGCTTTCAGCGCCGCAACGGTGTGGCAGCCTTTGTTGATAGCAGCAATCAGGTCGCCTTT\n",
      "GGTGACGTCGAAGCAGGAGCAGATTTGCGCGCTGTCCGGCAGTTTATCAACACCGATAGA\n",
      "CGGCTTACCGCTACCCGAGTGCGCCGGCAGAATCAGAGAATCCGGGTTTTCCGGCAGTTC\n",
      "GATAGCGTTCAGCACCAGTTGCAGCAGGTTGCCGTAGTCGCTGGTATCGCCCACCAGTAC\n",
      "CGCACCGAGCAGGGTTTTGTTGTCTTCGCTGACAATCAGGCGTTTGTAGATCTCTTTGCT\n",
      "TTCGTCGAGGTAAACGTAGCTACGTGCGCCAGGCGTGCGACCGTGCGCATCACCAATACC\n",
      "GCCTACGTCTACGCCCAGCAGTTTCAGCTTGGCGCTAAGGTCTGCACCTTCAAAGGCGTT\n",
      "TTCGCTACCAAGAATATGGTCAACGGCGACCTGCGCCATTTTGTAGCCTGGTGCTACCAG\n",
      "ACCAAATACACGGTTGTTCCAGCTTGCGCATTCACCGATGGCGTAGATATCCGGATCGGA\n",
      "AGTCTGGCAGGAATCATTTATGACGATACCCCCACGCGGAGCAACGTCCAGACCACACTG\n",
      "GGTTGCCAGCTTATCGCGCGGACGGATACCGGTAGAGAAGACGATAAAGTCGACTTCCAG\n",
      "TTCGCTGCCGTCGGCAAAACGCATGGTTTTACGCGCTTCAACACCTTCCTGCACAATCTC\n",
      "AAGAGTGTTTTTGCTGGTGTGAACGCGCACGCCCATACTTTCGATTTTGCGACGCAGCTG\n",
      "CTCGCCGCCCATCTGATCAAGCTGTTCCGCCATCAGCATAGGGGCAAATTTGGTCCGGTC\n",
      "GATCTGGCGATCATGGAGAACGGGCAGTATGACCAGGACTGGAAATATATTCACATGATG\n",
      "CCGGATGAAACAGCTCAGGCCGCCGACGACCTGCGCGCTCGCGCGGTGCTGCCTGGGCAT\n",
      "GCAGGACGATTCGTTTTGGCGAAACACAGCTGGGATGAACCGTATCAACGGCTGGCGGCT\n",
      "GCCAGCGAAGGAAGGGCCTGGCGTCTGCTGACGCCTGTGCAGGGCGAGCCGGTGTGGGTC\n",
      "GCCGATAAGACGCAATCATTTAACGCCTGGTGGCGCTAAGCGCCAGTGCAGTATCAGAGG\n",
      "AGAGAGCATATGACGATTTCCGCTCAGGTGATTGATACTATCGTCGAGTGGATTGATGAC\n",
      "AACCTGCATCAACCGCTGCGTATTGATGATATCGCTCGCCATGCCGGGTATTCGAAATGG\n",
      "CATCTGCAACGGCTGTTTTTACAGTATAAAGGGGAGAGCCTGGGGCGCTATATTCGCGAA\n",
      "AGGAAGCTGCTGCTGGCCGCCCGCGATCTGCGTGACACCGATCAGCGGGTCTACGATATC\n",
      "TGCCTGAAGTATGGCTTCGATTCGCAACAGACCTTTACCCGCGTCTTCACCCGGACCTTC\n",
      "AATCTGCCGCCGGGCGCCTACCGTAAAGAGAACCACAGTCGCGCCCACTGAGGCGCGCCC\n",
      "TTCTGGTTTAGCGTTCGAGCGAAAACCAGCGACGCCACACCCAGCGCAGCACCAGATACT\n",
      "CAATGGCGCCCAGTGCTAAGAACCACAAACAAAACAACACCGTATAAAGCTGGTTGAGAT\n",
      "CCATCATATGGAATGTCTCAACCAGCTTTTGCGCCAGCGTCAGGCCCAGCGACGGCGCGG\n",
      "GCAACAGCAGACAGGAGAGCAGAGCCAGGAGCAGGATCCCGGCGGCGGAGAGGAGCGTTT\n",
      "CCAGCGGATGTTTCATGTCATGTTAATCATCAGTTAAAAAACATATTGTCCGGCAAAATA\n",
      "ATCCCTAACGCAATATGCTTTGTATTTTACTCGCCTTAATGCGCCTCTGTTTAATATTAT\n",
      "GGTCTGCCTTTTATTCCCATGTTAATTCCACGAAGCCCAGCAATACGTAAC\n",
      "\n",
      "\n"
     ]
    }
   ],
   "source": [
    "gbToFasta('./OX222974.gb')"
   ]
  },
  {
   "cell_type": "code",
   "execution_count": null,
   "id": "7ea08323",
   "metadata": {},
   "outputs": [],
   "source": []
  }
 ],
 "metadata": {
  "kernelspec": {
   "display_name": "Python 3 (ipykernel)",
   "language": "python",
   "name": "python3"
  },
  "language_info": {
   "codemirror_mode": {
    "name": "ipython",
    "version": 3
   },
   "file_extension": ".py",
   "mimetype": "text/x-python",
   "name": "python",
   "nbconvert_exporter": "python",
   "pygments_lexer": "ipython3",
   "version": "3.9.13"
  }
 },
 "nbformat": 4,
 "nbformat_minor": 5
}
