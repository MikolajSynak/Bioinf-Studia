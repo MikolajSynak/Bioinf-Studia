{
 "cells": [
  {
   "cell_type": "code",
   "execution_count": 31,
   "id": "9a3dd25c",
   "metadata": {},
   "outputs": [],
   "source": [
    "import json"
   ]
  },
  {
   "cell_type": "code",
   "execution_count": 78,
   "id": "623e085f",
   "metadata": {},
   "outputs": [],
   "source": [
    "import requests\n",
    "import pandas as pd\n",
    "\n",
    "import matplotlib.pyplot as plt"
   ]
  },
  {
   "cell_type": "code",
   "execution_count": 21,
   "id": "d1602d1f",
   "metadata": {},
   "outputs": [],
   "source": [
    "def getDataFromUniProt(uniprot_id):\n",
    "    url = f\"https://rest.uniprot.org/uniprotkb/{uniprot_id}.fasta\"\n",
    "    \n",
    "    resp = requests.get(url)\n",
    "    \n",
    "    if resp.ok:\n",
    "        return resp.text"
   ]
  },
  {
   "cell_type": "code",
   "execution_count": 22,
   "id": "0d344d23",
   "metadata": {},
   "outputs": [
    {
     "data": {
      "text/plain": [
       "'>sp|P01308|INS_HUMAN Insulin OS=Homo sapiens OX=9606 GN=INS PE=1 SV=1\\nMALWMRLLPLLALLALWGPDPAAAFVNQHLCGSHLVEALYLVCGERGFFYTPKTRREAED\\nLQVGQVELGGGPGAGSLQPLALEGSLQKRGIVEQCCTSICSLYQLENYCN\\n'"
      ]
     },
     "execution_count": 22,
     "metadata": {},
     "output_type": "execute_result"
    }
   ],
   "source": [
    "getDataFromUniProt('P01308')"
   ]
  },
  {
   "cell_type": "code",
   "execution_count": 25,
   "id": "c959e77b",
   "metadata": {},
   "outputs": [],
   "source": [
    "def saveFastaFromUniProt(list_file_path):\n",
    "    with open(list_file_path, 'r') as list_file:\n",
    "        for uniprot_id in list_file:\n",
    "            uniprot_id = uniprot_id.strip()\n",
    "            \n",
    "            fasta = getDataFromUniProt(uniprot_id)\n",
    "            \n",
    "            with open('./results.fasta', 'a') as out_file:\n",
    "                out_file.write(fasta)"
   ]
  },
  {
   "cell_type": "code",
   "execution_count": 26,
   "id": "ddfa67ac",
   "metadata": {},
   "outputs": [],
   "source": [
    "saveFastaFromUniProt('./list')"
   ]
  },
  {
   "cell_type": "code",
   "execution_count": 27,
   "id": "8c35ab18",
   "metadata": {},
   "outputs": [],
   "source": [
    "def getDataFromProteinsApi(uniprot_id):\n",
    "    url = f\"https://www.ebi.ac.uk/proteins/api/proteins/{uniprot_id}\"\n",
    "    \n",
    "    resp = requests.get(url)\n",
    "    \n",
    "    if resp.ok:\n",
    "        return resp.text"
   ]
  },
  {
   "cell_type": "code",
   "execution_count": 29,
   "id": "3d030e34",
   "metadata": {},
   "outputs": [],
   "source": [
    "data = getDataFromProteinsApi(\"P01308\")"
   ]
  },
  {
   "cell_type": "code",
   "execution_count": 63,
   "id": "45caa748",
   "metadata": {},
   "outputs": [],
   "source": [
    "def getSequenceFromProteinsAPI(list_file_path):\n",
    "    with open(list_file_path, 'r') as list_file:\n",
    "        for uniprot_id in list_file:\n",
    "            uniprot_id = uniprot_id.strip()\n",
    "            \n",
    "            data = getDataFromProteinsApi(uniprot_id)\n",
    "            data_dict = json.loads(data)\n",
    "            \n",
    "            sequence = data_dict['sequence']['sequence']\n",
    "            \n",
    "            with open('./data.csv', 'a') as out_csv:\n",
    "                out_csv.write(\n",
    "                    f'{uniprot_id},{sequence}\\n'\n",
    "                )"
   ]
  },
  {
   "cell_type": "code",
   "execution_count": 64,
   "id": "96e32347",
   "metadata": {},
   "outputs": [],
   "source": [
    "getSequenceFromProteinsAPI('./list')"
   ]
  },
  {
   "cell_type": "code",
   "execution_count": 66,
   "id": "90c5a180",
   "metadata": {},
   "outputs": [],
   "source": [
    "df = pd.read_csv('./data.csv')"
   ]
  },
  {
   "cell_type": "code",
   "execution_count": 67,
   "id": "57198028",
   "metadata": {},
   "outputs": [
    {
     "data": {
      "text/html": [
       "<div>\n",
       "<style scoped>\n",
       "    .dataframe tbody tr th:only-of-type {\n",
       "        vertical-align: middle;\n",
       "    }\n",
       "\n",
       "    .dataframe tbody tr th {\n",
       "        vertical-align: top;\n",
       "    }\n",
       "\n",
       "    .dataframe thead th {\n",
       "        text-align: right;\n",
       "    }\n",
       "</style>\n",
       "<table border=\"1\" class=\"dataframe\">\n",
       "  <thead>\n",
       "    <tr style=\"text-align: right;\">\n",
       "      <th></th>\n",
       "      <th>uniprot_id</th>\n",
       "      <th>sequence</th>\n",
       "    </tr>\n",
       "  </thead>\n",
       "  <tbody>\n",
       "    <tr>\n",
       "      <th>0</th>\n",
       "      <td>P04439</td>\n",
       "      <td>MAVMAPRTLLLLLSGALALTQTWAGSHSMRYFFTSVSRPGRGEPRF...</td>\n",
       "    </tr>\n",
       "    <tr>\n",
       "      <th>1</th>\n",
       "      <td>O95905</td>\n",
       "      <td>MEETMKLATMEDTVEYCLFLIPDESRDSDKHKEILQKYIERIITRF...</td>\n",
       "    </tr>\n",
       "    <tr>\n",
       "      <th>2</th>\n",
       "      <td>P42694</td>\n",
       "      <td>MEDRRAEKSCEQACESLKRQDYEMALKHCTEALLSLGQYSMADFTG...</td>\n",
       "    </tr>\n",
       "    <tr>\n",
       "      <th>3</th>\n",
       "      <td>P08246</td>\n",
       "      <td>MTLGRRLACLFLACVLPALLLGGTALASEIVGGRRARPHAWPFMVS...</td>\n",
       "    </tr>\n",
       "    <tr>\n",
       "      <th>4</th>\n",
       "      <td>Q6ZWK4</td>\n",
       "      <td>MLTEVMEVWHGLVIAVVSLFLQACFLTAINYLLSRHMAHKSEQILK...</td>\n",
       "    </tr>\n",
       "  </tbody>\n",
       "</table>\n",
       "</div>"
      ],
      "text/plain": [
       "  uniprot_id                                           sequence\n",
       "0     P04439  MAVMAPRTLLLLLSGALALTQTWAGSHSMRYFFTSVSRPGRGEPRF...\n",
       "1     O95905  MEETMKLATMEDTVEYCLFLIPDESRDSDKHKEILQKYIERIITRF...\n",
       "2     P42694  MEDRRAEKSCEQACESLKRQDYEMALKHCTEALLSLGQYSMADFTG...\n",
       "3     P08246  MTLGRRLACLFLACVLPALLLGGTALASEIVGGRRARPHAWPFMVS...\n",
       "4     Q6ZWK4  MLTEVMEVWHGLVIAVVSLFLQACFLTAINYLLSRHMAHKSEQILK..."
      ]
     },
     "execution_count": 67,
     "metadata": {},
     "output_type": "execute_result"
    }
   ],
   "source": [
    "df"
   ]
  },
  {
   "cell_type": "code",
   "execution_count": 68,
   "id": "1b7651ff",
   "metadata": {},
   "outputs": [],
   "source": [
    "def f(x,y):\n",
    "    return x+y"
   ]
  },
  {
   "cell_type": "code",
   "execution_count": 69,
   "id": "e08493dd",
   "metadata": {},
   "outputs": [
    {
     "data": {
      "text/plain": [
       "11"
      ]
     },
     "execution_count": 69,
     "metadata": {},
     "output_type": "execute_result"
    }
   ],
   "source": [
    "f(4,7)"
   ]
  },
  {
   "cell_type": "code",
   "execution_count": 70,
   "id": "82b776bf",
   "metadata": {},
   "outputs": [],
   "source": [
    "f = lambda x,y: x+y"
   ]
  },
  {
   "cell_type": "code",
   "execution_count": 71,
   "id": "0cf5dd7f",
   "metadata": {},
   "outputs": [
    {
     "data": {
      "text/plain": [
       "11"
      ]
     },
     "execution_count": 71,
     "metadata": {},
     "output_type": "execute_result"
    }
   ],
   "source": [
    "f(4,7)"
   ]
  },
  {
   "cell_type": "code",
   "execution_count": 72,
   "id": "901dbd97",
   "metadata": {},
   "outputs": [],
   "source": [
    "df['M'] = df['sequence'].apply(lambda s: s.count('M'))"
   ]
  },
  {
   "cell_type": "code",
   "execution_count": 73,
   "id": "7912a4a4",
   "metadata": {},
   "outputs": [
    {
     "data": {
      "text/html": [
       "<div>\n",
       "<style scoped>\n",
       "    .dataframe tbody tr th:only-of-type {\n",
       "        vertical-align: middle;\n",
       "    }\n",
       "\n",
       "    .dataframe tbody tr th {\n",
       "        vertical-align: top;\n",
       "    }\n",
       "\n",
       "    .dataframe thead th {\n",
       "        text-align: right;\n",
       "    }\n",
       "</style>\n",
       "<table border=\"1\" class=\"dataframe\">\n",
       "  <thead>\n",
       "    <tr style=\"text-align: right;\">\n",
       "      <th></th>\n",
       "      <th>uniprot_id</th>\n",
       "      <th>sequence</th>\n",
       "      <th>M</th>\n",
       "    </tr>\n",
       "  </thead>\n",
       "  <tbody>\n",
       "    <tr>\n",
       "      <th>0</th>\n",
       "      <td>P04439</td>\n",
       "      <td>MAVMAPRTLLLLLSGALALTQTWAGSHSMRYFFTSVSRPGRGEPRF...</td>\n",
       "      <td>8</td>\n",
       "    </tr>\n",
       "    <tr>\n",
       "      <th>1</th>\n",
       "      <td>O95905</td>\n",
       "      <td>MEETMKLATMEDTVEYCLFLIPDESRDSDKHKEILQKYIERIITRF...</td>\n",
       "      <td>14</td>\n",
       "    </tr>\n",
       "    <tr>\n",
       "      <th>2</th>\n",
       "      <td>P42694</td>\n",
       "      <td>MEDRRAEKSCEQACESLKRQDYEMALKHCTEALLSLGQYSMADFTG...</td>\n",
       "      <td>29</td>\n",
       "    </tr>\n",
       "    <tr>\n",
       "      <th>3</th>\n",
       "      <td>P08246</td>\n",
       "      <td>MTLGRRLACLFLACVLPALLLGGTALASEIVGGRRARPHAWPFMVS...</td>\n",
       "      <td>4</td>\n",
       "    </tr>\n",
       "    <tr>\n",
       "      <th>4</th>\n",
       "      <td>Q6ZWK4</td>\n",
       "      <td>MLTEVMEVWHGLVIAVVSLFLQACFLTAINYLLSRHMAHKSEQILK...</td>\n",
       "      <td>6</td>\n",
       "    </tr>\n",
       "  </tbody>\n",
       "</table>\n",
       "</div>"
      ],
      "text/plain": [
       "  uniprot_id                                           sequence   M\n",
       "0     P04439  MAVMAPRTLLLLLSGALALTQTWAGSHSMRYFFTSVSRPGRGEPRF...   8\n",
       "1     O95905  MEETMKLATMEDTVEYCLFLIPDESRDSDKHKEILQKYIERIITRF...  14\n",
       "2     P42694  MEDRRAEKSCEQACESLKRQDYEMALKHCTEALLSLGQYSMADFTG...  29\n",
       "3     P08246  MTLGRRLACLFLACVLPALLLGGTALASEIVGGRRARPHAWPFMVS...   4\n",
       "4     Q6ZWK4  MLTEVMEVWHGLVIAVVSLFLQACFLTAINYLLSRHMAHKSEQILK...   6"
      ]
     },
     "execution_count": 73,
     "metadata": {},
     "output_type": "execute_result"
    }
   ],
   "source": [
    "df"
   ]
  },
  {
   "cell_type": "code",
   "execution_count": 74,
   "id": "647f538a",
   "metadata": {},
   "outputs": [
    {
     "data": {
      "text/plain": [
       "12.2"
      ]
     },
     "execution_count": 74,
     "metadata": {},
     "output_type": "execute_result"
    }
   ],
   "source": [
    "df['M'].mean()"
   ]
  },
  {
   "cell_type": "code",
   "execution_count": 75,
   "id": "726ec154",
   "metadata": {},
   "outputs": [
    {
     "data": {
      "text/plain": [
       "8.0"
      ]
     },
     "execution_count": 75,
     "metadata": {},
     "output_type": "execute_result"
    }
   ],
   "source": [
    "df['M'].median()"
   ]
  },
  {
   "cell_type": "code",
   "execution_count": 76,
   "id": "4356299c",
   "metadata": {},
   "outputs": [
    {
     "data": {
      "text/plain": [
       "4"
      ]
     },
     "execution_count": 76,
     "metadata": {},
     "output_type": "execute_result"
    }
   ],
   "source": [
    "df['M'].min()"
   ]
  },
  {
   "cell_type": "code",
   "execution_count": 77,
   "id": "cdd211c8",
   "metadata": {},
   "outputs": [
    {
     "data": {
      "text/plain": [
       "29"
      ]
     },
     "execution_count": 77,
     "metadata": {},
     "output_type": "execute_result"
    }
   ],
   "source": [
    "df['M'].max()"
   ]
  },
  {
   "cell_type": "code",
   "execution_count": 81,
   "id": "edb4d93e",
   "metadata": {},
   "outputs": [
    {
     "data": {
      "text/plain": [
       "Text(0.5, 0, 'uniprot id')"
      ]
     },
     "execution_count": 81,
     "metadata": {},
     "output_type": "execute_result"
    },
    {
     "data": {
      "image/png": "[encoded data removed]",
      "text/plain": [
       "<Figure size 640x480 with 1 Axes>"
      ]
     },
     "metadata": {},
     "output_type": "display_data"
    }
   ],
   "source": [
    "plt.bar(\n",
    "    list(df['uniprot_id']), list(df['M'])\n",
    ")\n",
    "\n",
    "plt.title(\"Number of M in each sequence\")\n",
    "plt.ylabel('M')\n",
    "plt.xlabel('uniprot id')"
   ]
  },
  {
   "cell_type": "code",
   "execution_count": null,
   "id": "53b211ca",
   "metadata": {},
   "outputs": [],
   "source": []
  }
 ],
 "metadata": {
  "kernelspec": {
   "display_name": "Python 3 (ipykernel)",
   "language": "python",
   "name": "python3"
  },
  "language_info": {
   "codemirror_mode": {
    "name": "ipython",
    "version": 3
   },
   "file_extension": ".py",
   "mimetype": "text/x-python",
   "name": "python",
   "nbconvert_exporter": "python",
   "pygments_lexer": "ipython3",
   "version": "3.9.13"
  }
 },
 "nbformat": 4,
 "nbformat_minor": 5
}
